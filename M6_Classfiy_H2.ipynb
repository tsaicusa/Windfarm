{
 "cells": [
  {
   "attachments": {},
   "cell_type": "markdown",
   "metadata": {},
   "source": [
    "# Clustering a subset of the complete dataset on Min_Max scaled data"
   ]
  },
  {
   "attachments": {},
   "cell_type": "markdown",
   "metadata": {},
   "source": [
    "#### A note on converting Jupyter Notebook output to MS Word Documents\n",
    "\n",
    "- The best way to convert the ipynb file (Jupyter Notebook) to a docx file is to follow the two step approach explained in: https://blog.ouseful.info/2017/06/13/using-jupyter-notebooks-for-assessment-export-as-word-docx-extension/, i.e. run the following two commands on the anaconda command line\n",
    "- Step 1: $ jupyter nbconvert --no-input --to html file_name.ipynb (use --no-input to exclude code cells, i.e. convert only markdown cells)\n",
    "\n",
    "- Step 2: $ pandoc -s file_name.html -o file_name.docx\n",
    "- This approach produces, by far, the best quality docx ouput, no distortion of either the text or the graphs.  The only drawback is that it include the hidden code cells made by the \"hide all\" extension.  I have to manually delete those contents from the produced docx file.\n",
    "#### convert ijynb to a docx file\n",
    "- https://nbconvert.readthedocs.io/en/latest/index.html\n",
    "- install nbconvert [pip install nbconvert]\n",
    "- install pandoc: [https://github.com/jgm/pandoc/releases/tag/3.1.3]"
   ]
  },
  {
   "cell_type": "code",
   "execution_count": 1,
   "metadata": {},
   "outputs": [],
   "source": [
    "import sys\n",
    "\n",
    "oneDrive_root={}\n",
    "oneDrive_root[1]=\"C:\\\\Users\\\\Chihyang\\OneDrive for Business\\\\\"\n",
    "oneDrive_root[2]=\"C:\\\\Users\\\\Chihyang\\OneDrive for Business\\\\\"\n",
    "oneDrive_root[3]=\"C:\\\\Users\\\\tsaic\\\\OneDrive - State University of New York at New Paltz\\\\\"  # laptop\n",
    "\n",
    "site=3   # the short or long business OneDrive directory name\n",
    "lib_dir=oneDrive_root[site]+'\\\\Prudentia\\\\Tsaipy'\n",
    "# append additional library path for this study\n",
    "sys.path.append(lib_dir)"
   ]
  },
  {
   "cell_type": "code",
   "execution_count": 2,
   "metadata": {},
   "outputs": [],
   "source": [
    "### import basic modules\n",
    "import numpy as np\n",
    "import pandas as pd\n",
    "import matplotlib.pyplot as plt\n",
    "\n",
    "\n",
    "### load modules from my library\n",
    "from WFN_lib.WindFarm import distance2center, write_df_sub2Excel\n",
    "from WFN_lib.mongodb_util import flatten_dictionary\n",
    "from WFN_lib.cluster_classify import cluster_analysis\n",
    "from dbconnect.mongodb import cursor_to_dataframe3\n",
    "\n",
    "\n",
    "\n",
    "### import mongodb modules\n",
    "from pymongo import MongoClient\n",
    "import pymongo\n",
    "from dbconnect import mongodb as mdb"
   ]
  },
  {
   "cell_type": "code",
   "execution_count": 3,
   "metadata": {},
   "outputs": [],
   "source": [
    "### import sklearn modules\n",
    "from sklearn.preprocessing import MinMaxScaler\n",
    "from sklearn.svm import SVC\n",
    "from sklearn.ensemble import RandomForestClassifier\n",
    "from sklearn.model_selection import train_test_split\n",
    "from sklearn.metrics import accuracy_score, confusion_matrix\n",
    "from sklearn.preprocessing import LabelEncoder\n",
    "from sklearn.model_selection import cross_val_score\n",
    "from sklearn.model_selection import StratifiedKFold\n",
    "from sklearn.model_selection import GridSearchCV\n",
    "from sklearn.metrics import classification_report\n",
    "import joblib\n",
    "\n",
    "from sklearn.metrics import roc_curve\n",
    "from sklearn.metrics import roc_auc_score"
   ]
  },
  {
   "cell_type": "markdown",
   "metadata": {},
   "source": [
    "<div class=\"alert alert-block alert-info\"><b>Connect to MongoDb:</b>\n",
    "\n",
    "</div>"
   ]
  },
  {
   "cell_type": "code",
   "execution_count": 4,
   "metadata": {},
   "outputs": [
    {
     "name": "stdout",
     "output_type": "stream",
     "text": [
      "Rows in coll_data = 6000\n",
      "Rows in coll_res = 6000\n"
     ]
    }
   ],
   "source": [
    "## pymongo connect to mongodb database and collection\n",
    "db_name = \"Windfarm_6000\"\n",
    "client = MongoClient('localhost', 27017)  # connect to the db engine\n",
    "db = client[db_name]\n",
    "### test connections to the database collections\n",
    "coll_data=db['Data_S6000']\n",
    "coll_res = db['Results_S6000']\n",
    "print(f\"Rows in coll_data = {coll_data.count_documents({})}\")\n",
    "print(f\"Rows in coll_res = {coll_res.count_documents({})}\")"
   ]
  },
  {
   "cell_type": "markdown",
   "metadata": {},
   "source": [
    "<div class=\"alert alert-block alert-success\"><b>Separate clean and non-clean samples:</b> The goal is to train a classifier on clean vs non-clean samples. For H1, clean vs non-clean are determined by human for training the classifer.  The classifer is then applied to the 3000 samples in H2 to separate clean and non-clean samples.\n",
    "<ul>\n",
    "<li>There are 31 feature variables.</li>\n",
    "<li>H1 variables are minmax normalized for all variables</li>\n",
    "Mli>H2 variables are normalized based on H1 normalization parameters.</li>\n",
    "</ul></div>"
   ]
  },
  {
   "cell_type": "markdown",
   "metadata": {},
   "source": [
    "#### Data Retrieval and Preprocessing\n",
    "- Retrive the H1 and H2 samples with the 31 feature varaibles into two dataframe, each with 3000 rows and 31 variables\n",
    "- Normalize H1 data using minmax normalization.\n",
    "- Use the normalization parameters obtained from H1 to normalize H2 \n",
    "- For H1 dataframe, add a __class variable__ where all 3000 cases are defaulted to __class 0__.\n",
    "- Retreive the id's of the 843 clean samples and change their __class variable value to 1__."
   ]
  },
  {
   "cell_type": "code",
   "execution_count": 5,
   "metadata": {},
   "outputs": [
    {
     "name": "stdout",
     "output_type": "stream",
     "text": [
      "Shape of df_H1:  (3000, 31)\n",
      "Shape of df_H2:  (3000, 31)\n"
     ]
    }
   ],
   "source": [
    "## retrieve H1 data from mongodb to a dataframe and normalize it.\n",
    "res1=db['Data_S6000'].find({\"site\":\"H1\"},{'v31':1})\n",
    "df_H1 = cursor_to_dataframe3(res1,\"_id\")\n",
    "row_index1 = df_H1.index\n",
    "column_names1 = df_H1.columns\n",
    "\n",
    "## Min_max normalization of df_H1 using sklearng\n",
    "## load a saved normalization parameters from a saved file\n",
    "scaler = MinMaxScaler()\n",
    "scaler = joblib.load('.//trained_models//Minmax_scaler_v31_H1_S3000.joblib')\n",
    "\n",
    "df_H1 = scaler.fit_transform(df_H1)\n",
    "df_H1 = pd.DataFrame(df_H1, index= row_index1, columns = column_names1)\n",
    "print(\"Shape of df_H1: \",df_H1.shape)\n",
    "## save the normalization parameters\n",
    "#norm_param = scaler.get_params()\n",
    "\n",
    "## retrieve H2 data from mongodb to a dataframe.\n",
    "res2=db['Data_S6000'].find({\"site\":\"H2\"},{'v31':1})\n",
    "df_H2 = cursor_to_dataframe3(res2,\"_id\")\n",
    "row_index2 = df_H2.index\n",
    "column_names2 = df_H2.columns\n",
    "## use the normalization parameters developed on df_H1 to normalize df_H2\n",
    "#scaler.set_params(**norm_param)\n",
    "df_H2 = scaler.fit_transform(df_H2)\n",
    "df_H2 = pd.DataFrame(df_H2, index=row_index2, columns = column_names2)\n",
    "print(\"Shape of df_H2: \",df_H2.shape)"
   ]
  },
  {
   "cell_type": "code",
   "execution_count": 6,
   "metadata": {},
   "outputs": [
    {
     "data": {
      "text/html": [
       "<div>\n",
       "<style scoped>\n",
       "    .dataframe tbody tr th:only-of-type {\n",
       "        vertical-align: middle;\n",
       "    }\n",
       "\n",
       "    .dataframe tbody tr th {\n",
       "        vertical-align: top;\n",
       "    }\n",
       "\n",
       "    .dataframe thead th {\n",
       "        text-align: right;\n",
       "    }\n",
       "</style>\n",
       "<table border=\"1\" class=\"dataframe\">\n",
       "  <thead>\n",
       "    <tr style=\"text-align: right;\">\n",
       "      <th></th>\n",
       "      <th>v31.spectralCentroid</th>\n",
       "      <th>v31.spectralCrest</th>\n",
       "      <th>v31.spectralDecrease</th>\n",
       "      <th>v31.spectralEntropy</th>\n",
       "      <th>v31.spectralFlatness</th>\n",
       "      <th>v31.spectralFlux</th>\n",
       "      <th>v31.spectralKurtosis</th>\n",
       "      <th>v31.spectralRolloffPoint</th>\n",
       "      <th>v31.spectralSkewness</th>\n",
       "      <th>v31.spectralSlope</th>\n",
       "      <th>...</th>\n",
       "      <th>v31.PR</th>\n",
       "      <th>v31.Fo</th>\n",
       "      <th>v31.AMfactor</th>\n",
       "      <th>v31.DAM</th>\n",
       "      <th>v31.peakloc_unweightedSPL</th>\n",
       "      <th>v31.L63</th>\n",
       "      <th>v31.L125</th>\n",
       "      <th>v31.L250</th>\n",
       "      <th>v31.L500</th>\n",
       "      <th>v31.L1000</th>\n",
       "    </tr>\n",
       "  </thead>\n",
       "  <tbody>\n",
       "    <tr>\n",
       "      <th>H1_0001</th>\n",
       "      <td>0.017638</td>\n",
       "      <td>0.815540</td>\n",
       "      <td>0.996951</td>\n",
       "      <td>0.228597</td>\n",
       "      <td>0.029063</td>\n",
       "      <td>0.001635</td>\n",
       "      <td>0.006851</td>\n",
       "      <td>0.023762</td>\n",
       "      <td>0.077191</td>\n",
       "      <td>0.997410</td>\n",
       "      <td>...</td>\n",
       "      <td>0.064817</td>\n",
       "      <td>1.000000</td>\n",
       "      <td>0.047060</td>\n",
       "      <td>0.015886</td>\n",
       "      <td>0.000000</td>\n",
       "      <td>0.046839</td>\n",
       "      <td>0.034494</td>\n",
       "      <td>0.040067</td>\n",
       "      <td>0.005090</td>\n",
       "      <td>0.007652</td>\n",
       "    </tr>\n",
       "    <tr>\n",
       "      <th>H1_0002</th>\n",
       "      <td>0.011442</td>\n",
       "      <td>0.939524</td>\n",
       "      <td>0.991424</td>\n",
       "      <td>0.105126</td>\n",
       "      <td>0.032293</td>\n",
       "      <td>0.684277</td>\n",
       "      <td>0.004065</td>\n",
       "      <td>0.008786</td>\n",
       "      <td>0.067042</td>\n",
       "      <td>0.526505</td>\n",
       "      <td>...</td>\n",
       "      <td>0.007353</td>\n",
       "      <td>0.888889</td>\n",
       "      <td>0.017838</td>\n",
       "      <td>0.013268</td>\n",
       "      <td>0.065217</td>\n",
       "      <td>0.099330</td>\n",
       "      <td>0.100103</td>\n",
       "      <td>0.029094</td>\n",
       "      <td>0.012593</td>\n",
       "      <td>0.017782</td>\n",
       "    </tr>\n",
       "    <tr>\n",
       "      <th>H1_0003</th>\n",
       "      <td>0.031291</td>\n",
       "      <td>0.689000</td>\n",
       "      <td>0.999256</td>\n",
       "      <td>0.350613</td>\n",
       "      <td>0.022545</td>\n",
       "      <td>0.048706</td>\n",
       "      <td>0.000823</td>\n",
       "      <td>0.045246</td>\n",
       "      <td>0.023726</td>\n",
       "      <td>0.958707</td>\n",
       "      <td>...</td>\n",
       "      <td>0.097601</td>\n",
       "      <td>0.777778</td>\n",
       "      <td>0.181323</td>\n",
       "      <td>0.150206</td>\n",
       "      <td>0.565217</td>\n",
       "      <td>0.121841</td>\n",
       "      <td>0.102376</td>\n",
       "      <td>0.084847</td>\n",
       "      <td>0.089479</td>\n",
       "      <td>0.278842</td>\n",
       "    </tr>\n",
       "  </tbody>\n",
       "</table>\n",
       "<p>3 rows × 31 columns</p>\n",
       "</div>"
      ],
      "text/plain": [
       "         v31.spectralCentroid  v31.spectralCrest  v31.spectralDecrease  \\\n",
       "H1_0001              0.017638           0.815540              0.996951   \n",
       "H1_0002              0.011442           0.939524              0.991424   \n",
       "H1_0003              0.031291           0.689000              0.999256   \n",
       "\n",
       "         v31.spectralEntropy  v31.spectralFlatness  v31.spectralFlux  \\\n",
       "H1_0001             0.228597              0.029063          0.001635   \n",
       "H1_0002             0.105126              0.032293          0.684277   \n",
       "H1_0003             0.350613              0.022545          0.048706   \n",
       "\n",
       "         v31.spectralKurtosis  v31.spectralRolloffPoint  v31.spectralSkewness  \\\n",
       "H1_0001              0.006851                  0.023762              0.077191   \n",
       "H1_0002              0.004065                  0.008786              0.067042   \n",
       "H1_0003              0.000823                  0.045246              0.023726   \n",
       "\n",
       "         v31.spectralSlope  ...    v31.PR    v31.Fo  v31.AMfactor   v31.DAM  \\\n",
       "H1_0001           0.997410  ...  0.064817  1.000000      0.047060  0.015886   \n",
       "H1_0002           0.526505  ...  0.007353  0.888889      0.017838  0.013268   \n",
       "H1_0003           0.958707  ...  0.097601  0.777778      0.181323  0.150206   \n",
       "\n",
       "         v31.peakloc_unweightedSPL   v31.L63  v31.L125  v31.L250  v31.L500  \\\n",
       "H1_0001                   0.000000  0.046839  0.034494  0.040067  0.005090   \n",
       "H1_0002                   0.065217  0.099330  0.100103  0.029094  0.012593   \n",
       "H1_0003                   0.565217  0.121841  0.102376  0.084847  0.089479   \n",
       "\n",
       "         v31.L1000  \n",
       "H1_0001   0.007652  \n",
       "H1_0002   0.017782  \n",
       "H1_0003   0.278842  \n",
       "\n",
       "[3 rows x 31 columns]"
      ]
     },
     "execution_count": 6,
     "metadata": {},
     "output_type": "execute_result"
    }
   ],
   "source": [
    "## Check if the values are consistent with those in M2\n",
    "df_H1.head(3)"
   ]
  },
  {
   "cell_type": "markdown",
   "metadata": {},
   "source": [
    "### Add the class variable to df_H1"
   ]
  },
  {
   "cell_type": "code",
   "execution_count": 7,
   "metadata": {},
   "outputs": [
    {
     "name": "stdout",
     "output_type": "stream",
     "text": [
      "(3000, 32)\n",
      "0    2157\n",
      "1     843\n",
      "Name: class, dtype: int64\n"
     ]
    }
   ],
   "source": [
    "## add a class column to the dataframe with default value of 0\n",
    "df_H1['class']=0\n",
    "print(df_H1.shape)\n",
    "### Retreive the sample ID of the 843 clean samples\n",
    "S843 = db['H1_Clean_Subsets'].find_one({'_id':'S843'})['list']   # get the ID name list of the 843 clean samples\n",
    "#### Change the class value of the 843 clean samples to 1\n",
    "df_H1.loc[S843,'class']=1\n",
    "print(df_H1['class'].value_counts())\n"
   ]
  },
  {
   "cell_type": "code",
   "execution_count": 8,
   "metadata": {},
   "outputs": [
    {
     "name": "stdout",
     "output_type": "stream",
     "text": [
      "(3000, 32)\n",
      "(3000, 31)\n"
     ]
    }
   ],
   "source": [
    "print(df_H1.shape)\n",
    "print(df_H2.shape)"
   ]
  },
  {
   "cell_type": "markdown",
   "metadata": {},
   "source": [
    "<div class=\"alert alert-block alert-info\"><b>Classification:</b> A three step approach to determine and train a classification model.  Two classifiers are tested.\n",
    "<ul>\n",
    "<li>SVC</li>\n",
    "<li>Random Forest</li>\n",
    "</ul></div>"
   ]
  },
  {
   "cell_type": "code",
   "execution_count": 9,
   "metadata": {},
   "outputs": [],
   "source": [
    "## v31_minmax as X and class as y (clean vs non-clean)\n",
    "X = df_H1.iloc[:,0:-1]  # the last column 'class' is the class column\n",
    "y = df_H1['class']"
   ]
  },
  {
   "cell_type": "markdown",
   "metadata": {},
   "source": [
    "### Test a SVC classifier"
   ]
  },
  {
   "cell_type": "markdown",
   "metadata": {},
   "source": [
    "#### Step 1: Use GridSearch to determine the hyperparameters"
   ]
  },
  {
   "cell_type": "code",
   "execution_count": 10,
   "metadata": {},
   "outputs": [
    {
     "name": "stdout",
     "output_type": "stream",
     "text": [
      "Fitting 5 folds for each of 32 candidates, totalling 160 fits\n",
      "{'C': 100, 'gamma': 1, 'kernel': 'rbf'}\n"
     ]
    }
   ],
   "source": [
    "## Grid search for the best hyperparameters for SVC\n",
    "param_grid1 = {'C': [0.1, 1, 10, 100], 'gamma': [1, 0.1, 0.01, 0.001], 'kernel': ['linear', 'rbf']}\n",
    "grid1 = GridSearchCV(SVC(), param_grid1, refit=True, verbose=3, n_jobs=-1)  # use default 5-fold cross validation (cv=5)\n",
    "grid1.fit(X, y)\n",
    "print(grid1.best_params_)"
   ]
  },
  {
   "cell_type": "markdown",
   "metadata": {},
   "source": [
    "#### Step 2: Use a ten-fold cross-validation to evaluate the model"
   ]
  },
  {
   "cell_type": "code",
   "execution_count": 11,
   "metadata": {},
   "outputs": [
    {
     "name": "stdout",
     "output_type": "stream",
     "text": [
      "Average Accuracy from the 10 trials: 0.796  with standard deviation: 0.023\n"
     ]
    }
   ],
   "source": [
    "## Test the best hyperparameters using cross-validation\n",
    "n_folds=10\n",
    "model_svc = SVC(**grid1.best_params_)  ## use ** to unpack the dictionary\n",
    "cv1 = StratifiedKFold(n_splits=n_folds, shuffle=True, random_state=42)\n",
    "scores1 = cross_val_score(model_svc, X, y, scoring='accuracy', cv=cv1, n_jobs=-1)\n",
    "print(f\"Average Accuracy from the {n_folds} trials: {scores1.mean():.3f}  with standard deviation: {scores1.std():.3f}\")"
   ]
  },
  {
   "cell_type": "markdown",
   "metadata": {},
   "source": [
    "#### Step 3: Fit the model with the best hyperparameters and save the trained model"
   ]
  },
  {
   "cell_type": "code",
   "execution_count": 12,
   "metadata": {},
   "outputs": [
    {
     "name": "stdout",
     "output_type": "stream",
     "text": [
      "Model saved\n",
      "Accuracy: 0.850\n",
      "[[1969  188]\n",
      " [ 263  580]]\n",
      "              precision    recall  f1-score   support\n",
      "\n",
      "           0       0.88      0.91      0.90      2157\n",
      "           1       0.76      0.69      0.72       843\n",
      "\n",
      "    accuracy                           0.85      3000\n",
      "   macro avg       0.82      0.80      0.81      3000\n",
      "weighted avg       0.85      0.85      0.85      3000\n",
      "\n"
     ]
    }
   ],
   "source": [
    "## Use the best hyperparameters to fit SVC and save the trained model\n",
    "model_svc.fit(X, y)\n",
    "## Save the trained model\n",
    "joblib.dump(model_svc, '.\\\\trained_models\\\\SVC_H1_v31_minmax_clean_vs_non_clean.joblib')\n",
    "print(\"Model saved\")\n",
    "\n",
    "y_pred = model_svc.predict(X)\n",
    "print(f\"Accuracy: {accuracy_score(y, y_pred):.3f}\")\n",
    "print(confusion_matrix(y, y_pred))\n",
    "\n",
    "## find precision, recall, f1-score\n",
    "print(classification_report(y, y_pred))\n"
   ]
  },
  {
   "cell_type": "markdown",
   "metadata": {},
   "source": [
    "### Test a Random Forest classifier"
   ]
  },
  {
   "cell_type": "markdown",
   "metadata": {},
   "source": [
    "#### Step 1: Use GridSearch to determine the hyperparameters"
   ]
  },
  {
   "cell_type": "code",
   "execution_count": 13,
   "metadata": {},
   "outputs": [
    {
     "name": "stdout",
     "output_type": "stream",
     "text": [
      "Fitting 5 folds for each of 36 candidates, totalling 180 fits\n",
      "{'max_depth': 10, 'max_features': 15, 'n_estimators': 50}\n"
     ]
    }
   ],
   "source": [
    "## Grid search for the best hyperparameters for RandomForestClassifier\n",
    "param_grid2 = {'n_estimators': [10, 20, 30, 50], 'max_features': [10, 15, 31], 'max_depth': [10, 15, 20]}\n",
    "grid2 = GridSearchCV(RandomForestClassifier(), param_grid2, refit=True, verbose=3, n_jobs=-1)\n",
    "grid2.fit(X, y)\n",
    "print(grid2.best_params_)"
   ]
  },
  {
   "cell_type": "markdown",
   "metadata": {},
   "source": [
    "#### Step 2: Use a ten-fold cross-validation to evaluate the model"
   ]
  },
  {
   "cell_type": "code",
   "execution_count": 14,
   "metadata": {},
   "outputs": [
    {
     "name": "stdout",
     "output_type": "stream",
     "text": [
      "Average Accuracy from the 10 trials: 0.783  with standard deviation: 0.019\n"
     ]
    }
   ],
   "source": [
    "## Test the best hyperparameters using cross-validation\n",
    "n_folds=10\n",
    "model_rmft = RandomForestClassifier(**grid2.best_params_)\n",
    "cv2 = StratifiedKFold(n_splits=n_folds, shuffle=True, random_state=42)\n",
    "scores2 = cross_val_score(model_rmft, X, y, scoring='accuracy', cv=cv2, n_jobs=-1)\n",
    "print(f\"Average Accuracy from the {n_folds} trials: {scores2.mean():.3f}  with standard deviation: {scores2.std():.3f}\")\n"
   ]
  },
  {
   "cell_type": "markdown",
   "metadata": {},
   "source": [
    "#### Step 3: Fit the model with the best hyperparameters and save the trained model"
   ]
  },
  {
   "cell_type": "code",
   "execution_count": 15,
   "metadata": {},
   "outputs": [
    {
     "name": "stdout",
     "output_type": "stream",
     "text": [
      "Model saved\n",
      "Accuracy: 0.954\n",
      "[[2136   21]\n",
      " [ 116  727]]\n",
      "              precision    recall  f1-score   support\n",
      "\n",
      "           0       0.95      0.99      0.97      2157\n",
      "           1       0.97      0.86      0.91       843\n",
      "\n",
      "    accuracy                           0.95      3000\n",
      "   macro avg       0.96      0.93      0.94      3000\n",
      "weighted avg       0.96      0.95      0.95      3000\n",
      "\n"
     ]
    }
   ],
   "source": [
    "# fit the model with the best hyperparameters\n",
    "model_rmft.fit(X, y)\n",
    "## Save the trained model\n",
    "joblib.dump(model_rmft, '.\\\\trained_models\\\\RandomForest_H1_v31_minmax_clean_vs_non_clean.joblib')\n",
    "print(\"Model saved\")\n",
    "\n",
    "y_pred = model_rmft.predict(X)\n",
    "print(f\"Accuracy: {accuracy_score(y, y_pred):.3f}\")\n",
    "print(confusion_matrix(y, y_pred))\n",
    "\n",
    "## find precision, recall, f1-score\n",
    "print(classification_report(y, y_pred))"
   ]
  },
  {
   "cell_type": "code",
   "execution_count": 16,
   "metadata": {},
   "outputs": [
    {
     "name": "stdout",
     "output_type": "stream",
     "text": [
      "No Skill: ROC AUC=0.500\n",
      "Random Forest: ROC AUC=0.995\n"
     ]
    },
    {
     "data": {
      "text/plain": [
       "<matplotlib.legend.Legend at 0x236638090a0>"
      ]
     },
     "execution_count": 16,
     "metadata": {},
     "output_type": "execute_result"
    },
    {
     "data": {
      "image/png": "[encoded data removed]",
      "text/plain": [
       "<Figure size 640x480 with 1 Axes>"
      ]
     },
     "metadata": {},
     "output_type": "display_data"
    }
   ],
   "source": [
    "# ROC curve for the RandomForest model\n",
    "# generate a no skill prediction (majority class)\n",
    "ns_probs = [0 for _ in range(len(y))]\n",
    "# predict probabilities\n",
    "rf_probs = model_rmft.predict_proba(X)\n",
    "# keep probabilities for the positive outcome only\n",
    "rf_probs = rf_probs[:, 1]\n",
    "# calculate scores\n",
    "ns_auc = roc_auc_score(y, ns_probs)\n",
    "rf_auc = roc_auc_score(y, rf_probs)\n",
    "# summarize scores\n",
    "print('No Skill: ROC AUC=%.3f' % (ns_auc))\n",
    "print('Random Forest: ROC AUC=%.3f' % (rf_auc))\n",
    "# calculate roc curves\n",
    "ns_fpr, ns_tpr, _ = roc_curve(y, ns_probs)\n",
    "rf_fpr, rf_tpr, _ = roc_curve(y, rf_probs)\n",
    "# plot the roc curve for the model\n",
    "plt.plot(ns_fpr, ns_tpr, linestyle='--', label='No Skill')\n",
    "plt.plot(rf_fpr, rf_tpr, marker='.', label='Random Forest')\n",
    "# axis labels\n",
    "plt.xlabel('False Positive Rate')\n",
    "plt.ylabel('True Positive Rate')\n",
    "# show the legend\n",
    "plt.legend()\n"
   ]
  },
  {
   "cell_type": "code",
   "execution_count": 17,
   "metadata": {},
   "outputs": [
    {
     "name": "stdout",
     "output_type": "stream",
     "text": [
      "Feature ranking:\n",
      "1. feature 19: v31.pos_slope (0.079)\n",
      "2. feature 30: v31.L1000 (0.079)\n",
      "3. feature 20: v31.neg_slope (0.071)\n",
      "4. feature 18: v31.peakval (0.061)\n",
      "5. feature 8: v31.spectralSkewness (0.055)\n",
      "6. feature 4: v31.spectralFlatness (0.038)\n",
      "7. feature 6: v31.spectralKurtosis (0.035)\n",
      "8. feature 10: v31.spectralSpread (0.034)\n",
      "9. feature 21: v31.PR (0.034)\n",
      "10. feature 15: v31.ratioLCLA (0.032)\n",
      "11. feature 12: v31.harmonicRatio (0.032)\n",
      "12. feature 16: v31.diffLCLA (0.030)\n",
      "13. feature 26: v31.L63 (0.030)\n",
      "14. feature 23: v31.AMfactor (0.029)\n",
      "15. feature 5: v31.spectralFlux (0.028)\n",
      "16. feature 24: v31.DAM (0.027)\n",
      "17. feature 28: v31.L250 (0.026)\n",
      "18. feature 9: v31.spectralSlope (0.026)\n",
      "19. feature 13: v31.LA (0.025)\n",
      "20. feature 14: v31.ratioLGLA (0.023)\n",
      "21. feature 27: v31.L125 (0.022)\n",
      "22. feature 29: v31.L500 (0.022)\n",
      "23. feature 7: v31.spectralRolloffPoint (0.021)\n",
      "24. feature 3: v31.spectralEntropy (0.021)\n",
      "25. feature 0: v31.spectralCentroid (0.020)\n",
      "26. feature 1: v31.spectralCrest (0.020)\n",
      "27. feature 2: v31.spectralDecrease (0.019)\n",
      "28. feature 11: v31.pitch (0.019)\n",
      "29. feature 25: v31.peakloc_unweightedSPL (0.018)\n",
      "30. feature 17: v31.peakloc (0.014)\n",
      "31. feature 22: v31.Fo (0.007)\n",
      "Feature ranking done\n",
      "Feature names: Index(['v31.spectralCentroid', 'v31.spectralCrest', 'v31.spectralDecrease',\n",
      "       'v31.spectralEntropy', 'v31.spectralFlatness', 'v31.spectralFlux',\n",
      "       'v31.spectralKurtosis', 'v31.spectralRolloffPoint',\n",
      "       'v31.spectralSkewness', 'v31.spectralSlope', 'v31.spectralSpread',\n",
      "       'v31.pitch', 'v31.harmonicRatio', 'v31.LA', 'v31.ratioLGLA',\n",
      "       'v31.ratioLCLA', 'v31.diffLCLA', 'v31.peakloc', 'v31.peakval',\n",
      "       'v31.pos_slope', 'v31.neg_slope', 'v31.PR', 'v31.Fo', 'v31.AMfactor',\n",
      "       'v31.DAM', 'v31.peakloc_unweightedSPL', 'v31.L63', 'v31.L125',\n",
      "       'v31.L250', 'v31.L500', 'v31.L1000'],\n",
      "      dtype='object')\n"
     ]
    }
   ],
   "source": [
    "### Find the feature importance\n",
    "importances = model_rmft.feature_importances_\n",
    "indices = np.argsort(importances)[::-1]\n",
    "\n",
    "feature_names = X.columns\n",
    "print(\"Feature ranking:\")\n",
    "for i in range(X.shape[1]):\n",
    "    print(f\"{i+1}. feature {indices[i]}: {feature_names[indices[i]]} ({importances[indices[i]]:.3f})\")\n",
    "print(\"Feature ranking done\")\n",
    "## find the corresponding feature names\n",
    "feature_names = X.columns\n",
    "print(f\"Feature names: {feature_names}\")\n",
    "\n"
   ]
  },
  {
   "cell_type": "markdown",
   "metadata": {},
   "source": [
    "### Apply the trained classifer to H2"
   ]
  },
  {
   "cell_type": "code",
   "execution_count": 18,
   "metadata": {},
   "outputs": [
    {
     "name": "stdout",
     "output_type": "stream",
     "text": [
      "(3000, 31)\n",
      "         v31.spectralCentroid  v31.spectralCrest  v31.spectralDecrease  \\\n",
      "H1_0001              0.017638           0.815540              0.996951   \n",
      "H1_0002              0.011442           0.939524              0.991424   \n",
      "H1_0003              0.031291           0.689000              0.999256   \n",
      "\n",
      "         v31.spectralEntropy  v31.spectralFlatness  v31.spectralFlux  \\\n",
      "H1_0001             0.228597              0.029063          0.001635   \n",
      "H1_0002             0.105126              0.032293          0.684277   \n",
      "H1_0003             0.350613              0.022545          0.048706   \n",
      "\n",
      "         v31.spectralKurtosis  v31.spectralRolloffPoint  v31.spectralSkewness  \\\n",
      "H1_0001              0.006851                  0.023762              0.077191   \n",
      "H1_0002              0.004065                  0.008786              0.067042   \n",
      "H1_0003              0.000823                  0.045246              0.023726   \n",
      "\n",
      "         v31.spectralSlope  ...    v31.Fo  v31.AMfactor   v31.DAM  \\\n",
      "H1_0001           0.997410  ...  1.000000      0.047060  0.015886   \n",
      "H1_0002           0.526505  ...  0.888889      0.017838  0.013268   \n",
      "H1_0003           0.958707  ...  0.777778      0.181323  0.150206   \n",
      "\n",
      "         v31.peakloc_unweightedSPL   v31.L63  v31.L125  v31.L250  v31.L500  \\\n",
      "H1_0001                   0.000000  0.046839  0.034494  0.040067  0.005090   \n",
      "H1_0002                   0.065217  0.099330  0.100103  0.029094  0.012593   \n",
      "H1_0003                   0.565217  0.121841  0.102376  0.084847  0.089479   \n",
      "\n",
      "         v31.L1000  class  \n",
      "H1_0001   0.007652      0  \n",
      "H1_0002   0.017782      0  \n",
      "H1_0003   0.278842      0  \n",
      "\n",
      "[3 rows x 32 columns]\n"
     ]
    }
   ],
   "source": [
    "print(df_H2.shape)\n",
    "print(df_H1.head(3))"
   ]
  },
  {
   "cell_type": "code",
   "execution_count": 19,
   "metadata": {},
   "outputs": [
    {
     "name": "stdout",
     "output_type": "stream",
     "text": [
      "Number of clean cases: 617\n",
      "Number of non-clean cases: 2383\n"
     ]
    }
   ],
   "source": [
    "## Use the trained model to predict the class of the H2 data\n",
    "y_pred_svc = model_svc.predict(df_H2)\n",
    "## find the number clean cases and non-clean cases\n",
    "print(f\"Number of clean cases: {np.sum(y_pred_svc)}\")\n",
    "print(f\"Number of non-clean cases: {len(y_pred_svc)-np.sum(y_pred_svc)}\")\n"
   ]
  },
  {
   "cell_type": "code",
   "execution_count": 20,
   "metadata": {},
   "outputs": [
    {
     "name": "stdout",
     "output_type": "stream",
     "text": [
      "Number of clean cases: 362\n",
      "Number of non-clean cases: 2638\n"
     ]
    }
   ],
   "source": [
    "y_pred_rmft = model_rmft.predict(df_H2)\n",
    "## find the number clean cases and non-clean cases\n",
    "print(f\"Number of clean cases: {np.sum(y_pred_rmft)}\")\n",
    "print(f\"Number of non-clean cases: {len(y_pred_rmft)-np.sum(y_pred_rmft)}\")"
   ]
  },
  {
   "cell_type": "markdown",
   "metadata": {},
   "source": [
    "#### Append H2 classification result from both approaches to df_H2\n"
   ]
  },
  {
   "cell_type": "code",
   "execution_count": 21,
   "metadata": {},
   "outputs": [],
   "source": [
    "df_H2_class = df_H2.copy()\n",
    "df_H2_class['class_svc']=y_pred_svc\n",
    "df_H2_class['class_rmft']=y_pred_rmft"
   ]
  },
  {
   "cell_type": "code",
   "execution_count": 22,
   "metadata": {},
   "outputs": [
    {
     "name": "stdout",
     "output_type": "stream",
     "text": [
      "Number of overlapping clean cases: 239\n"
     ]
    }
   ],
   "source": [
    "#### Check the overlap between the two models\n",
    "print(f\"Number of overlapping clean cases: {np.sum(y_pred_svc & y_pred_rmft)}\")"
   ]
  },
  {
   "cell_type": "code",
   "execution_count": 23,
   "metadata": {},
   "outputs": [
    {
     "data": {
      "text/html": [
       "<div>\n",
       "<style scoped>\n",
       "    .dataframe tbody tr th:only-of-type {\n",
       "        vertical-align: middle;\n",
       "    }\n",
       "\n",
       "    .dataframe tbody tr th {\n",
       "        vertical-align: top;\n",
       "    }\n",
       "\n",
       "    .dataframe thead th {\n",
       "        text-align: right;\n",
       "    }\n",
       "</style>\n",
       "<table border=\"1\" class=\"dataframe\">\n",
       "  <thead>\n",
       "    <tr style=\"text-align: right;\">\n",
       "      <th></th>\n",
       "      <th>v31.spectralCentroid</th>\n",
       "      <th>v31.spectralCrest</th>\n",
       "      <th>v31.spectralDecrease</th>\n",
       "      <th>v31.spectralEntropy</th>\n",
       "      <th>v31.spectralFlatness</th>\n",
       "      <th>v31.spectralFlux</th>\n",
       "      <th>v31.spectralKurtosis</th>\n",
       "      <th>v31.spectralRolloffPoint</th>\n",
       "      <th>v31.spectralSkewness</th>\n",
       "      <th>v31.spectralSlope</th>\n",
       "      <th>...</th>\n",
       "      <th>v31.AMfactor</th>\n",
       "      <th>v31.DAM</th>\n",
       "      <th>v31.peakloc_unweightedSPL</th>\n",
       "      <th>v31.L63</th>\n",
       "      <th>v31.L125</th>\n",
       "      <th>v31.L250</th>\n",
       "      <th>v31.L500</th>\n",
       "      <th>v31.L1000</th>\n",
       "      <th>class_svc</th>\n",
       "      <th>class_rmft</th>\n",
       "    </tr>\n",
       "  </thead>\n",
       "  <tbody>\n",
       "    <tr>\n",
       "      <th>H2_0001</th>\n",
       "      <td>0.005632</td>\n",
       "      <td>0.973885</td>\n",
       "      <td>0.992231</td>\n",
       "      <td>0.032404</td>\n",
       "      <td>0.003608</td>\n",
       "      <td>0.036352</td>\n",
       "      <td>0.023006</td>\n",
       "      <td>0.005659</td>\n",
       "      <td>0.189086</td>\n",
       "      <td>0.930674</td>\n",
       "      <td>...</td>\n",
       "      <td>0.134755</td>\n",
       "      <td>0.157878</td>\n",
       "      <td>0.021739</td>\n",
       "      <td>0.112431</td>\n",
       "      <td>0.239937</td>\n",
       "      <td>0.190387</td>\n",
       "      <td>0.093880</td>\n",
       "      <td>0.280321</td>\n",
       "      <td>0</td>\n",
       "      <td>0</td>\n",
       "    </tr>\n",
       "    <tr>\n",
       "      <th>H2_0002</th>\n",
       "      <td>0.001613</td>\n",
       "      <td>0.984752</td>\n",
       "      <td>0.996335</td>\n",
       "      <td>0.023273</td>\n",
       "      <td>0.000692</td>\n",
       "      <td>0.080071</td>\n",
       "      <td>0.014018</td>\n",
       "      <td>0.000689</td>\n",
       "      <td>0.138962</td>\n",
       "      <td>0.949881</td>\n",
       "      <td>...</td>\n",
       "      <td>0.103570</td>\n",
       "      <td>0.268546</td>\n",
       "      <td>0.369565</td>\n",
       "      <td>0.127201</td>\n",
       "      <td>0.198834</td>\n",
       "      <td>0.089432</td>\n",
       "      <td>0.073755</td>\n",
       "      <td>0.493840</td>\n",
       "      <td>0</td>\n",
       "      <td>0</td>\n",
       "    </tr>\n",
       "    <tr>\n",
       "      <th>H2_0003</th>\n",
       "      <td>0.018495</td>\n",
       "      <td>0.862324</td>\n",
       "      <td>0.999656</td>\n",
       "      <td>0.151617</td>\n",
       "      <td>0.017284</td>\n",
       "      <td>0.009619</td>\n",
       "      <td>0.001202</td>\n",
       "      <td>0.027532</td>\n",
       "      <td>0.047971</td>\n",
       "      <td>0.989650</td>\n",
       "      <td>...</td>\n",
       "      <td>0.035255</td>\n",
       "      <td>0.058365</td>\n",
       "      <td>0.000000</td>\n",
       "      <td>0.113237</td>\n",
       "      <td>0.243552</td>\n",
       "      <td>0.072689</td>\n",
       "      <td>0.057389</td>\n",
       "      <td>0.080989</td>\n",
       "      <td>0</td>\n",
       "      <td>0</td>\n",
       "    </tr>\n",
       "  </tbody>\n",
       "</table>\n",
       "<p>3 rows × 33 columns</p>\n",
       "</div>"
      ],
      "text/plain": [
       "         v31.spectralCentroid  v31.spectralCrest  v31.spectralDecrease  \\\n",
       "H2_0001              0.005632           0.973885              0.992231   \n",
       "H2_0002              0.001613           0.984752              0.996335   \n",
       "H2_0003              0.018495           0.862324              0.999656   \n",
       "\n",
       "         v31.spectralEntropy  v31.spectralFlatness  v31.spectralFlux  \\\n",
       "H2_0001             0.032404              0.003608          0.036352   \n",
       "H2_0002             0.023273              0.000692          0.080071   \n",
       "H2_0003             0.151617              0.017284          0.009619   \n",
       "\n",
       "         v31.spectralKurtosis  v31.spectralRolloffPoint  v31.spectralSkewness  \\\n",
       "H2_0001              0.023006                  0.005659              0.189086   \n",
       "H2_0002              0.014018                  0.000689              0.138962   \n",
       "H2_0003              0.001202                  0.027532              0.047971   \n",
       "\n",
       "         v31.spectralSlope  ...  v31.AMfactor   v31.DAM  \\\n",
       "H2_0001           0.930674  ...      0.134755  0.157878   \n",
       "H2_0002           0.949881  ...      0.103570  0.268546   \n",
       "H2_0003           0.989650  ...      0.035255  0.058365   \n",
       "\n",
       "         v31.peakloc_unweightedSPL   v31.L63  v31.L125  v31.L250  v31.L500  \\\n",
       "H2_0001                   0.021739  0.112431  0.239937  0.190387  0.093880   \n",
       "H2_0002                   0.369565  0.127201  0.198834  0.089432  0.073755   \n",
       "H2_0003                   0.000000  0.113237  0.243552  0.072689  0.057389   \n",
       "\n",
       "         v31.L1000  class_svc  class_rmft  \n",
       "H2_0001   0.280321          0           0  \n",
       "H2_0002   0.493840          0           0  \n",
       "H2_0003   0.080989          0           0  \n",
       "\n",
       "[3 rows x 33 columns]"
      ]
     },
     "execution_count": 23,
     "metadata": {},
     "output_type": "execute_result"
    }
   ],
   "source": [
    "df_H2_class.head(3)"
   ]
  },
  {
   "cell_type": "code",
   "execution_count": 24,
   "metadata": {},
   "outputs": [],
   "source": [
    "## Create folders to save the wave file by categories, clean and non-clean"
   ]
  },
  {
   "cell_type": "code",
   "execution_count": 25,
   "metadata": {},
   "outputs": [],
   "source": [
    "wav_source_dir = dir_in_wav = \".//wav//wav_files//\"\n",
    "destination_dir =\"F://split_wav_files//\""
   ]
  },
  {
   "cell_type": "code",
   "execution_count": 26,
   "metadata": {},
   "outputs": [],
   "source": [
    "import shutil\n",
    "for s in df_H2_class.index:\n",
    "    file_wav = s+\".wav\"\n",
    "    if df_H2_class.loc[s,'class_svc']==1:\n",
    "        dir_out_wav = destination_dir+\"SVC//Clean//\"\n",
    "    else:\n",
    "        dir_out_wav = destination_dir+\"SVC//Non-Clean//\"\n",
    "    ## copy the wav file to the corresponding cluster folder\n",
    "    shutil.copy(wav_source_dir+file_wav, dir_out_wav)\n"
   ]
  },
  {
   "cell_type": "code",
   "execution_count": 27,
   "metadata": {},
   "outputs": [],
   "source": [
    "for s in df_H2.index:\n",
    "    file_wav = s+\".wav\"\n",
    "    if df_H2_class.loc[s,'class_rmft']==1:\n",
    "        dir_out_wav = destination_dir+\"RandomForest//Clean//\"\n",
    "    else:\n",
    "        dir_out_wav = destination_dir+\"RandomForest//Non-Clean//\"\n",
    "    ## copy the wav file to the corresponding cluster folder\n",
    "    shutil.copy(wav_source_dir+file_wav, dir_out_wav)    "
   ]
  },
  {
   "cell_type": "markdown",
   "metadata": {},
   "source": [
    "<div class=\"alert alert-block alert-info\"><b>Clustering:</b> Cluster the clean samples in H1 and use the clustering model to cluster the predicted clean samples in H2. \n",
    "\n",
    "<b>!!!To be updated later.</b>\n",
    "</div>"
   ]
  },
  {
   "cell_type": "code",
   "execution_count": null,
   "metadata": {},
   "outputs": [],
   "source": [
    "df_H1_S843 = df_H1.loc[S843]\n",
    "df_H1_S843=df_H1_S843.drop(columns='class')\n",
    "df_H1_S843.shape"
   ]
  },
  {
   "cell_type": "code",
   "execution_count": null,
   "metadata": {},
   "outputs": [],
   "source": [
    "df_S843_res, _ =cluster_analysis(df_H1_S843, [3,4,5,6], random_state=42, scaled_data=None,n_init=10, max_iter=300, tol=0.0001,\n",
    "                                 save_model_dir='.//trained_models//',model_file_name='KMeans_H1_S843_K=')"
   ]
  },
  {
   "cell_type": "code",
   "execution_count": null,
   "metadata": {},
   "outputs": [],
   "source": [
    "## test clustering result on one K value, 3, 4, 5, 6\n",
    "df_S843_res['K=3'].value_counts()"
   ]
  },
  {
   "cell_type": "markdown",
   "metadata": {},
   "source": [
    "### Cluster H2 based on the clutering models developed from H1"
   ]
  },
  {
   "cell_type": "code",
   "execution_count": null,
   "metadata": {},
   "outputs": [],
   "source": [
    "### Extract clean samples from H2\n",
    "df_H2_clean = df_H2[df_H2['class_svc']==1]\n",
    "df_H2_clean.shape\n",
    "df_H2_clean_copy = df_H2_clean.iloc[:,:-2].copy()  # do not copy the last two columns, which are class variables from the two models\n",
    "print(df_H2_clean.shape,df_H2_clean_copy.shape)"
   ]
  },
  {
   "cell_type": "code",
   "execution_count": null,
   "metadata": {},
   "outputs": [],
   "source": [
    "for k in [3,4,5,6]:\n",
    "    ## retrieve train clustering model\n",
    "    model = joblib.load(f'.\\\\Results_H1\\\\Kmeans_model_K={k}.joblib')\n",
    "    ## predict the cluster of the clean samples\n",
    "    df_H2_clean[f'K={k}']=model.predict(df_H2_clean_copy)\n",
    "\n",
    "print(df_H2_clean.shape)\n",
    "    "
   ]
  },
  {
   "cell_type": "code",
   "execution_count": null,
   "metadata": {},
   "outputs": [],
   "source": [
    "## test result\n",
    "print(df_H2_clean.iloc[:10,-4:])"
   ]
  }
 ],
 "metadata": {
  "kernelspec": {
   "display_name": "Python 3 (ipykernel)",
   "language": "python",
   "name": "python3"
  },
  "language_info": {
   "codemirror_mode": {
    "name": "ipython",
    "version": 3
   },
   "file_extension": ".py",
   "mimetype": "text/x-python",
   "name": "python",
   "nbconvert_exporter": "python",
   "pygments_lexer": "ipython3",
   "version": "3.9.13"
  }
 },
 "nbformat": 4,
 "nbformat_minor": 2
}
