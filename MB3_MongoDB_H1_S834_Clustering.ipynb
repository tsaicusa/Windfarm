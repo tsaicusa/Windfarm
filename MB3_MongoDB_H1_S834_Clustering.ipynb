{
 "cells": [
  {
   "attachments": {},
   "cell_type": "markdown",
   "metadata": {},
   "source": [
    "<div class=\"alert alert-block alert-success\"><b>Working on the 843 clean samples in H1:</b>\n",
    "\n",
    "The 843 samples are clustering based on three sets of variables.  Four cluster analyses are executed with K=3, 4, 5, and 6 for each set of variables.\n",
    "<ol>\n",
    "<li>Minmax scaled v31 feature variables.</li>\n",
    "<li>Minmax scaled IOA rating variables (two for each band).  Not measure value -100 is replaced by 0 before clustering.</li>\n",
    "<li>Combination of the first two.</li>\n",
    "</ol>\n",
    "\n",
    "All Minmax scaling and clustering models are saved in \"joblib\" files. \n",
    "<ol>\n",
    "<li>Two min_max scaling models, one for v31 and the other for IOA variable set.  They are saved in the \".//trained_models//scalers\" folder</li>\n",
    "<li>Twelve clustering models created: Four for each of the three variable sets.  They are saved in the \".//trained_models//clustering\" folder</li>\n",
    "</ol>\n",
    "\n",
    "Two MongoDB collections are created.\n",
    "<ul>\n",
    "<li>H1_S843_clusters: cluster membership for each case under each variables set and value of K.</li>\n",
    "<li>H1_S843_clusters_summary:  For each variable set each value of K, this collection stores the cluster size, cluster mean, and cluster variance.</li>\n",
    "</ul>\n",
    "\n",
    "</div>\n"
   ]
  },
  {
   "attachments": {},
   "cell_type": "markdown",
   "metadata": {},
   "source": [
    "#### A note on converting Jupyter Notebook output to MS Word Documents\n",
    "\n",
    "- The best way to convert the ipynb file (Jupyter Notebook) to a docx file is to follow the two step approach explained in: https://blog.ouseful.info/2017/06/13/using-jupyter-notebooks-for-assessment-export-as-word-docx-extension/, i.e. run the following two commands on the anaconda command line\n",
    "- Step 1: $ jupyter nbconvert --no-input --to html file_name.ipynb (use --no-input to exclude code cells, i.e. convert only markdown cells)\n",
    "\n",
    "- Step 2: $ pandoc -s file_name.html -o file_name.docx\n",
    "- This approach produces, by far, the best quality docx ouput, no distortion of either the text or the graphs.  The only drawback is that it include the hidden code cells made by the \"hide all\" extension.  I have to manually delete those contents from the produced docx file.\n",
    "#### convert ijynb to a docx file\n",
    "- https://nbconvert.readthedocs.io/en/latest/index.html\n",
    "- install nbconvert [pip install nbconvert]\n",
    "- install pandoc: [https://github.com/jgm/pandoc/releases/tag/3.1.3]"
   ]
  },
  {
   "cell_type": "code",
   "execution_count": 1,
   "metadata": {},
   "outputs": [],
   "source": [
    "import sys\n",
    "\n",
    "oneDrive_root={}\n",
    "oneDrive_root[1]=\"C:\\\\Users\\\\Chihyang\\OneDrive for Business\\\\\"\n",
    "oneDrive_root[2]=\"C:\\\\Users\\\\Chihyang\\OneDrive for Business\\\\\"\n",
    "oneDrive_root[3]=\"C:\\\\Users\\\\tsaic\\\\OneDrive - State University of New York at New Paltz\\\\\"  # laptop\n",
    "\n",
    "site=3   # the short or long business OneDrive directory name\n",
    "lib_dir=oneDrive_root[site]+'\\\\Prudentia\\\\Tsaipy'\n",
    "# append additional library path for this study\n",
    "sys.path.append(lib_dir)"
   ]
  },
  {
   "cell_type": "code",
   "execution_count": 2,
   "metadata": {},
   "outputs": [],
   "source": [
    "import pandas as pd\n",
    "import numpy as np\n",
    "import joblib\n",
    "#import sklearn as sk\n",
    "#from sklearn.cluster import KMeans\n",
    "\n",
    "from dbconnect.mongodb import cursor_to_dataframe3\n",
    "from WFN_lib.WindFarm import distance2center, write_df_sub2Excel\n",
    "from WFN_lib.mongodb_util import flatten_dictionary\n",
    "from WFN_lib.cluster_classify import cluster_analysis\n",
    "import copy"
   ]
  },
  {
   "cell_type": "code",
   "execution_count": 3,
   "metadata": {},
   "outputs": [],
   "source": [
    "from pymongo import MongoClient\n",
    "import pymongo\n",
    "from dbconnect import mongodb as mdb"
   ]
  },
  {
   "cell_type": "markdown",
   "metadata": {},
   "source": [
    "<div class=\"alert alert-block alert-info\"><b>MongoDb Parameters:</b>\n",
    "\n",
    "</div>"
   ]
  },
  {
   "cell_type": "code",
   "execution_count": 4,
   "metadata": {},
   "outputs": [
    {
     "name": "stdout",
     "output_type": "stream",
     "text": [
      "Rows in coll_data = 6000\n"
     ]
    }
   ],
   "source": [
    "## pymongo connect to mongodb database and collection\n",
    "db_name = \"Windfarm_S6000\"\n",
    "client = MongoClient('localhost', 27017)  # connect to the db engine\n",
    "db = client[db_name]\n",
    "coll_data=db['S6000_Data']\n",
    "\n",
    "print(f\"Rows in coll_data = {coll_data.count_documents({})}\")"
   ]
  },
  {
   "attachments": {},
   "cell_type": "markdown",
   "metadata": {},
   "source": [
    "<div class=\"alert alert-block alert-warning\"><b>I. The following three blocks pick the clean samples</b>\n",
    "\n",
    "Only need to do it once.   The rest of the code dependens only on data already stored in the mongodb database.\n",
    "</div>"
   ]
  },
  {
   "cell_type": "code",
   "execution_count": 5,
   "metadata": {},
   "outputs": [
    {
     "name": "stdout",
     "output_type": "stream",
     "text": [
      "df_S972 shape = (972, 6);  df_S130 shape = (130, 1)\n"
     ]
    }
   ],
   "source": [
    "## Read in the min-max normalized data\n",
    "df_S972 = pd.read_excel('.//Results//cluster_allotment//Cluster_S972_MinMax31V_result.xlsx', index_col=0, header=0)\n",
    "df_S130 = pd.read_excel('.//Results//cluster_allotment//More_files_to_exclude_from_S972.xlsx', sheet_name='remove_ids',index_col=None, header=0)\n",
    "\n",
    "#df_minmax_S6000 = pd.read_excel('.//Results//data_sets//MinMax_data.xlsx', index_col=0, header=0)\n",
    "print(f\"df_S972 shape = {df_S972.shape};  df_S130 shape = {df_S130.shape}\")"
   ]
  },
  {
   "cell_type": "code",
   "execution_count": 6,
   "metadata": {},
   "outputs": [
    {
     "name": "stdout",
     "output_type": "stream",
     "text": [
      "len(S130) = 130\n",
      "file in S130 but not in S872 = ['H1_0600']\n",
      "len(S843) = 843\n",
      "972\n"
     ]
    }
   ],
   "source": [
    "## get file ID for those need to be removed from S972\n",
    "S130 = ['H1_'+str(s).zfill(4) for s in df_S130['ID']]\n",
    "print(f\"len(S130) = {len(S130)}\")\n",
    "### Find the element in S130 that is not in df_S972.index\n",
    "S130_not_in_S972 = [s for s in S130 if s not in df_S972.index]\n",
    "print(f\"file in S130 but not in S872 = {S130_not_in_S972}\")\n",
    "### Get the file ID's for S972 after removal of S130\n",
    "S843 = [s for s in df_S972.index if s not in S130]\n",
    "print(f\"len(S843) = {len(S843)}\")\n",
    "print(len(df_S972.index))"
   ]
  },
  {
   "cell_type": "code",
   "execution_count": 7,
   "metadata": {},
   "outputs": [
    {
     "name": "stdout",
     "output_type": "stream",
     "text": [
      "Collection (table), Subset_index, dropped\n"
     ]
    },
    {
     "data": {
      "text/plain": [
       "<pymongo.results.InsertOneResult at 0x231190fdec0>"
      ]
     },
     "execution_count": 7,
     "metadata": {},
     "output_type": "execute_result"
    }
   ],
   "source": [
    "### Create a new collection to store IDs of S843\n",
    "coll_subset = 'Subset_index'\n",
    "try:\n",
    "    db.validate_collection(coll_subset)  # Try to validate a collection   \n",
    "    db[coll_subset].drop()\n",
    "    print(f\"Collection (table), {coll_subset}, dropped\")\n",
    "except pymongo.errors.OperationFailure:  # If the collection doesn't exist\n",
    "    print(f\"Collection, {coll_subset}, doesn't exist\") \n",
    "\n",
    "coll_sub = db[coll_subset]\n",
    "coll_sub.delete_many({'_id':'H1_S843'})\n",
    "coll_sub.insert_one({'_id':'H1_S843', 'site':'H1', 'id_list':S843, 'size':len(S843), \"description\":\"These are clean files from H1\"})"
   ]
  },
  {
   "cell_type": "markdown",
   "metadata": {},
   "source": [
    "<div class=\"alert alert-block alert-info\"><b>II. Working on the clean subset of data from H1</b></div>"
   ]
  },
  {
   "cell_type": "markdown",
   "metadata": {},
   "source": [
    "<div class=\"alert alert-block alert-success\"><b>II.1 Extract data for the clean set and perform Cluster analysis</b>\n",
    "<ul>\n",
    "<li>The clean subset contains samples free of environmental sound contamination.</li>\n",
    "<li>The minmax data is extracted from the minmax data created from the 3000 samples in H1.  Since the clean set is extracted from H1 only, we use the scaling algorithm performed on H1 set for the focused analysis on H1.</li>\n",
    "<li>When calling the cluster analysis, we don't need to scale the data again.  Thus, set scaled_data=None</li>\n",
    "</ul>\n",
    "</div>"
   ]
  },
  {
   "cell_type": "markdown",
   "metadata": {},
   "source": [
    "<div class=\"alert alert-bloc, alert-danger\"><b>Data Type Warning!!!!</b>\n",
    "The extract data has type object.  Need to chage to float64.  Its math operations work if not combined with columns of other data types, e.g. float.\n",
    "When <b>mixed with other data type</b>, the object type columns do not participate in the calculation, for example, df.groupby(x).mean(), where df has columns mixed with object and float.  The operation only works on the float type columns.  This might be caused by using <b>pd.Series</b> in the next block.  Changed to just adding the values.  However, using pd.Series for IOA doesn't seem to cause the problem.  To be investigated later.\n",
    "</div>"
   ]
  },
  {
   "cell_type": "markdown",
   "metadata": {},
   "source": [
    "### For this selected subset S384 from H1, we use the minmax variables scaled for the 3000 files in H1."
   ]
  },
  {
   "cell_type": "code",
   "execution_count": 8,
   "metadata": {},
   "outputs": [
    {
     "name": "stdout",
     "output_type": "stream",
     "text": [
      "(843, 31)\n",
      "         v31.spectralCentroid  v31.spectralCrest\n",
      "H1_0006             54.673008          28.285684\n",
      "H1_0007             72.429418          28.950453\n"
     ]
    }
   ],
   "source": [
    "### extract rows from coll_data whose 'id' is in S843v31_minmaxfeatures':1, 'label':1}})\n",
    "S843 = coll_sub.find_one({'_id':'H1_S843'})['id_list']   # 'id_list' is the key for the list of file names\n",
    "\n",
    "res = coll_data.find({'_id':{'$in':S843}},{'v31':1})\n",
    "\n",
    "df_data_S843 = cursor_to_dataframe3(res,\"_id\")\n",
    "print(df_data_S843.shape)\n",
    "print(df_data_S843.iloc[:2,:2])\n",
    "\n",
    "col_names=df_data_S843.columns\n",
    "row_names = df_data_S843.index\n",
    "\n",
    "### minmax normalization with sklearn\n",
    "from sklearn.preprocessing import MinMaxScaler\n",
    "scaler = MinMaxScaler()\n",
    "#df_data_S843_scaled = scaler.fit_transform(df_data_S843)\n",
    "#df_data_S843_scaled = pd.DataFrame(df_data_S843_scaled, columns=col_names, index=row_names)\n",
    "#print(df_data_S843_scaled.iloc[:2,:2])\n",
    "## save the minmax normalized data to an joblib file\n"
   ]
  },
  {
   "cell_type": "code",
   "execution_count": 10,
   "metadata": {},
   "outputs": [],
   "source": [
    "## Since df_data_S843_scaled is minmax scaled already, no need to scale again.  Thus, scaler_type=None\n",
    "## df_S843_res is the dataframe with the cluster allotment; df_scaled is the scaled data\n",
    "df_S843_cluster, df_data_S843_scaled =cluster_analysis(df_data_S843, [3,4,5,6], random_state=42, scaler_type=\"MinMax\",n_init=10, max_iter=300, tol=0.0001,\n",
    "                                save_model_dir='.//trained_models//clustering//', model_file_name='Kmeans_H1_S843_v31_MinMax_K=',\n",
    "                                scaler_model_dir='.//trained_models//scalers//', scaler_model_name='_scaler_v31_H1_S843')"
   ]
  },
  {
   "cell_type": "code",
   "execution_count": 12,
   "metadata": {},
   "outputs": [
    {
     "data": {
      "text/html": [
       "<div>\n",
       "<style scoped>\n",
       "    .dataframe tbody tr th:only-of-type {\n",
       "        vertical-align: middle;\n",
       "    }\n",
       "\n",
       "    .dataframe tbody tr th {\n",
       "        vertical-align: top;\n",
       "    }\n",
       "\n",
       "    .dataframe thead th {\n",
       "        text-align: right;\n",
       "    }\n",
       "</style>\n",
       "<table border=\"1\" class=\"dataframe\">\n",
       "  <thead>\n",
       "    <tr style=\"text-align: right;\">\n",
       "      <th></th>\n",
       "      <th>v31.spectralCentroid</th>\n",
       "      <th>v31.spectralCrest</th>\n",
       "      <th>v31.spectralDecrease</th>\n",
       "      <th>v31.spectralEntropy</th>\n",
       "      <th>v31.spectralFlatness</th>\n",
       "      <th>v31.spectralFlux</th>\n",
       "      <th>v31.spectralKurtosis</th>\n",
       "      <th>v31.spectralRolloffPoint</th>\n",
       "      <th>v31.spectralSkewness</th>\n",
       "      <th>v31.spectralSlope</th>\n",
       "      <th>...</th>\n",
       "      <th>v31.PR</th>\n",
       "      <th>v31.Fo</th>\n",
       "      <th>v31.AMfactor</th>\n",
       "      <th>v31.DAM</th>\n",
       "      <th>v31.peakloc_unweightedSPL</th>\n",
       "      <th>v31.L63</th>\n",
       "      <th>v31.L125</th>\n",
       "      <th>v31.L250</th>\n",
       "      <th>v31.L500</th>\n",
       "      <th>v31.L1000</th>\n",
       "    </tr>\n",
       "  </thead>\n",
       "  <tbody>\n",
       "    <tr>\n",
       "      <th>H1_0006</th>\n",
       "      <td>0.117261</td>\n",
       "      <td>0.675937</td>\n",
       "      <td>0.963884</td>\n",
       "      <td>0.256013</td>\n",
       "      <td>0.019118</td>\n",
       "      <td>0.261683</td>\n",
       "      <td>0.221666</td>\n",
       "      <td>0.097065</td>\n",
       "      <td>0.402864</td>\n",
       "      <td>0.497084</td>\n",
       "      <td>...</td>\n",
       "      <td>0.002544</td>\n",
       "      <td>0.555556</td>\n",
       "      <td>0.018640</td>\n",
       "      <td>0.036434</td>\n",
       "      <td>0.121951</td>\n",
       "      <td>0.539850</td>\n",
       "      <td>1.000000</td>\n",
       "      <td>0.255754</td>\n",
       "      <td>0.194950</td>\n",
       "      <td>0.086214</td>\n",
       "    </tr>\n",
       "    <tr>\n",
       "      <th>H1_0007</th>\n",
       "      <td>0.438056</td>\n",
       "      <td>0.737495</td>\n",
       "      <td>0.943909</td>\n",
       "      <td>0.388479</td>\n",
       "      <td>0.484214</td>\n",
       "      <td>0.225022</td>\n",
       "      <td>0.028103</td>\n",
       "      <td>0.365726</td>\n",
       "      <td>0.120473</td>\n",
       "      <td>0.817775</td>\n",
       "      <td>...</td>\n",
       "      <td>0.005157</td>\n",
       "      <td>0.444444</td>\n",
       "      <td>0.006058</td>\n",
       "      <td>0.027345</td>\n",
       "      <td>0.195122</td>\n",
       "      <td>0.391374</td>\n",
       "      <td>0.302007</td>\n",
       "      <td>0.044276</td>\n",
       "      <td>0.163008</td>\n",
       "      <td>0.128204</td>\n",
       "    </tr>\n",
       "    <tr>\n",
       "      <th>H1_0008</th>\n",
       "      <td>0.138865</td>\n",
       "      <td>0.916310</td>\n",
       "      <td>0.591327</td>\n",
       "      <td>0.128547</td>\n",
       "      <td>0.122270</td>\n",
       "      <td>0.268111</td>\n",
       "      <td>0.193206</td>\n",
       "      <td>0.084260</td>\n",
       "      <td>0.344021</td>\n",
       "      <td>0.596325</td>\n",
       "      <td>...</td>\n",
       "      <td>0.004277</td>\n",
       "      <td>1.000000</td>\n",
       "      <td>0.026666</td>\n",
       "      <td>0.041515</td>\n",
       "      <td>0.170732</td>\n",
       "      <td>0.480114</td>\n",
       "      <td>0.347673</td>\n",
       "      <td>0.117028</td>\n",
       "      <td>0.122350</td>\n",
       "      <td>0.199085</td>\n",
       "    </tr>\n",
       "  </tbody>\n",
       "</table>\n",
       "<p>3 rows × 31 columns</p>\n",
       "</div>"
      ],
      "text/plain": [
       "         v31.spectralCentroid  v31.spectralCrest  v31.spectralDecrease  \\\n",
       "H1_0006              0.117261           0.675937              0.963884   \n",
       "H1_0007              0.438056           0.737495              0.943909   \n",
       "H1_0008              0.138865           0.916310              0.591327   \n",
       "\n",
       "         v31.spectralEntropy  v31.spectralFlatness  v31.spectralFlux  \\\n",
       "H1_0006             0.256013              0.019118          0.261683   \n",
       "H1_0007             0.388479              0.484214          0.225022   \n",
       "H1_0008             0.128547              0.122270          0.268111   \n",
       "\n",
       "         v31.spectralKurtosis  v31.spectralRolloffPoint  v31.spectralSkewness  \\\n",
       "H1_0006              0.221666                  0.097065              0.402864   \n",
       "H1_0007              0.028103                  0.365726              0.120473   \n",
       "H1_0008              0.193206                  0.084260              0.344021   \n",
       "\n",
       "         v31.spectralSlope  ...    v31.PR    v31.Fo  v31.AMfactor   v31.DAM  \\\n",
       "H1_0006           0.497084  ...  0.002544  0.555556      0.018640  0.036434   \n",
       "H1_0007           0.817775  ...  0.005157  0.444444      0.006058  0.027345   \n",
       "H1_0008           0.596325  ...  0.004277  1.000000      0.026666  0.041515   \n",
       "\n",
       "         v31.peakloc_unweightedSPL   v31.L63  v31.L125  v31.L250  v31.L500  \\\n",
       "H1_0006                   0.121951  0.539850  1.000000  0.255754  0.194950   \n",
       "H1_0007                   0.195122  0.391374  0.302007  0.044276  0.163008   \n",
       "H1_0008                   0.170732  0.480114  0.347673  0.117028  0.122350   \n",
       "\n",
       "         v31.L1000  \n",
       "H1_0006   0.086214  \n",
       "H1_0007   0.128204  \n",
       "H1_0008   0.199085  \n",
       "\n",
       "[3 rows x 31 columns]"
      ]
     },
     "execution_count": 12,
     "metadata": {},
     "output_type": "execute_result"
    }
   ],
   "source": [
    "df_data_S843_scaled.head(3)"
   ]
  },
  {
   "cell_type": "markdown",
   "metadata": {},
   "source": [
    "### Calculate Distance to Cluster Center and ranking from the closest to the farthest"
   ]
  },
  {
   "cell_type": "code",
   "execution_count": 35,
   "metadata": {},
   "outputs": [
    {
     "name": "stdout",
     "output_type": "stream",
     "text": [
      "0    217\n",
      "3    213\n",
      "1    147\n",
      "2    143\n",
      "4    123\n",
      "Name: K=5, dtype: int64\n",
      "K=5\n",
      "[0 1 2 3 4]\n",
      "(217, 12)\n",
      "Sort rows by:  rank_K=5\n",
      "cluster = 0:  Shape of dk: (217, 12)\n",
      "         K=3  K=4  K=5  K=6    dist_K=3  rank_K=3   dist_K=4  rank_K=4  \\\n",
      "H1_0703    2    3    0    1   52.294354         1  30.820696         1   \n",
      "H1_1369    2    3    0    1   58.147479         2  34.005966         2   \n",
      "H1_1528    2    3    0    1  104.920389         6  65.912693         4   \n",
      "\n",
      "          dist_K=5  rank_K=5   dist_K=6  rank_K=6  \n",
      "H1_0703  27.271821         1  42.867547         2  \n",
      "H1_1369  38.396194         2  34.212291         1  \n",
      "H1_1528  55.570945         3  80.902631         5  \n",
      "(147, 12)\n",
      "Sort rows by:  rank_K=5\n",
      "cluster = 1:  Shape of dk: (147, 12)\n",
      "         K=3  K=4  K=5  K=6    dist_K=3  rank_K=3    dist_K=4  rank_K=4  \\\n",
      "H1_1649    0    1    1    3  122.032823       120  111.436911       107   \n",
      "H1_0238    0    1    1    3  103.852747       100   93.414997        90   \n",
      "H1_1684    0    1    1    3  126.584311       127  116.061451       111   \n",
      "\n",
      "          dist_K=5  rank_K=5   dist_K=6  rank_K=6  \n",
      "H1_1649  17.038505         1  17.855568         1  \n",
      "H1_0238  22.396628         2  27.233156         5  \n",
      "H1_1684  23.452207         3  22.606173         2  \n",
      "(143, 12)\n",
      "Sort rows by:  rank_K=5\n",
      "cluster = 2:  Shape of dk: (143, 12)\n",
      "         K=3  K=4  K=5  K=6    dist_K=3  rank_K=3    dist_K=4  rank_K=4  \\\n",
      "H1_1708    1    2    2    0  483.811584       130   92.189401         2   \n",
      "H1_0329    1    2    2    0  497.835168       134  100.079897         3   \n",
      "H1_0137    1    2    2    0  431.426819       108   63.611697         1   \n",
      "\n",
      "          dist_K=5  rank_K=5    dist_K=6  rank_K=6  \n",
      "H1_1708  33.868222         1  437.071902        11  \n",
      "H1_0329  44.164152         2  433.848974        10  \n",
      "H1_0137  68.367757         3  492.631905        12  \n",
      "(213, 12)\n",
      "Sort rows by:  rank_K=5\n",
      "cluster = 3:  Shape of dk: (213, 12)\n",
      "         K=3  K=4  K=5  K=6    dist_K=3  rank_K=3    dist_K=4  rank_K=4  \\\n",
      "H1_0465    0    1    3    5   87.252711        83   97.764728        96   \n",
      "H1_1120    0    1    3    5   76.507324        67   86.818368        81   \n",
      "H1_2839    0    1    3    5  105.814937       103  116.407459       112   \n",
      "\n",
      "          dist_K=5  rank_K=5   dist_K=6  rank_K=6  \n",
      "H1_0465  18.086928         1  18.757304         1  \n",
      "H1_1120  22.657232         2  22.306754         2  \n",
      "H1_2839  25.591130         3  24.102590         3  \n",
      "(123, 12)\n",
      "Sort rows by:  rank_K=5\n",
      "cluster = 4:  Shape of dk: (123, 12)\n",
      "         K=3  K=4  K=5  K=6    dist_K=3  rank_K=3   dist_K=4  rank_K=4  \\\n",
      "H1_1188    1    0    4    4  449.368819       116  17.701717         1   \n",
      "H1_0608    1    0    4    4  439.224128       113  30.566540         2   \n",
      "H1_2903    1    0    4    4  416.430498       105  32.928952         3   \n",
      "\n",
      "          dist_K=5  rank_K=5   dist_K=6  rank_K=6  \n",
      "H1_1188  18.814043         1  14.714390         1  \n",
      "H1_0608  30.635115         2  34.777806         2  \n",
      "H1_2903  31.046236         3  40.385216         4  \n",
      "0    217\n",
      "3    213\n",
      "1    147\n",
      "2    143\n",
      "4    123\n",
      "Name: K=5, dtype: int64\n"
     ]
    },
    {
     "name": "stderr",
     "output_type": "stream",
     "text": [
      "c:\\ProgramData\\Anaconda3\\lib\\site-packages\\xlsxwriter\\workbook.py:339: UserWarning: Calling close() on already closed file.\n",
      "  warn(\"Calling close() on already closed file.\")\n"
     ]
    }
   ],
   "source": [
    "## obtain cluster_assignment, cluster size, cluster means, cluster variances\n",
    "nK=5\n",
    "df_K_v31, cluster_size_v31, cluster_means_v31, cluster_vars_v31 = distance2center(df_data_S843, df_S843_cluster, [3,4,5,6])\n",
    "## For specific value o K=nK\n",
    "write_df_sub2Excel(df_K_v31, '', nK, './/Results_H1//S843_Results//H1_S843_K='+str(nK)+'_v31_minmax_dist2center.xlsx')\n",
    "print(df_K_v31['K='+str(nK)].value_counts())"
   ]
  },
  {
   "cell_type": "markdown",
   "metadata": {},
   "source": [
    "<div class=\"alert alert-block alert-success\"><b>II.2 Extract IOA data for the clean subset and perform Cluster analysis</b>\n",
    "<ul>\n",
    "<li>The IOA assessment data is extracted from the Result_S6000 collection.</li>\n",
    "<li>When calling the cluster analysis, we need to scale the data again.  Thus, set scaled_data=\"MinMax\".</li>\n",
    "<li>The minmax dataset will be used in the next analysis which combined v31_minmax with IOA_minmax data for clustering.</li>\n",
    "</ul>\n",
    "</div>"
   ]
  },
  {
   "cell_type": "code",
   "execution_count": 16,
   "metadata": {},
   "outputs": [
    {
     "name": "stdout",
     "output_type": "stream",
     "text": [
      "(843, 8)\n",
      "         025_100Hz.prominence  025_100Hz.L5-L95  050_200Hz.prominence  \\\n",
      "H1_0006              1.157707          2.038109              1.098841   \n",
      "H1_0007              1.647752          5.391628              1.380059   \n",
      "H1_0008              2.281802          3.641156              2.428720   \n",
      "\n",
      "         050_200Hz.L5-L95  100_400Hz.prominence  100_400Hz.L5-L95  \\\n",
      "H1_0006          1.859755              3.436457          2.442856   \n",
      "H1_0007          4.596037              0.819226          3.693764   \n",
      "H1_0008          3.727153              1.454394          3.026670   \n",
      "\n",
      "         200_800Hz.prominence  200_800Hz.L5-L95  \n",
      "H1_0006              2.449454          1.675939  \n",
      "H1_0007              1.677567          3.083924  \n",
      "H1_0008              3.555321          2.568767  \n"
     ]
    }
   ],
   "source": [
    "## extract rows from the Results_S6000 for IOA assessment result of 'id's in S843\n",
    "res = db['S6000_Data'].find({'_id':{'$in':S843}},{'IOA_rating':1})\n",
    "\n",
    "df_IOA_S843 = cursor_to_dataframe3(res,\"_id\")\n",
    "print(df_IOA_S843.shape)\n",
    "\n",
    "## drop 'IOA_rating' from column names\n",
    "df_IOA_S843.columns = [col[col.find('.')+1:] for col in df_IOA_S843.columns]\n",
    "## replace -100 with 0 for clustering analysis, -100 means the IOA rating is not available (does not exist since not meeting the threshold)\n",
    "df_IOA_S843.replace(-100,0, inplace=True)\n",
    "print(df_IOA_S843.head(3))"
   ]
  },
  {
   "cell_type": "code",
   "execution_count": 20,
   "metadata": {},
   "outputs": [],
   "source": [
    "## IOA data has not been minmax scaled.  Need to scale it.\n",
    "df_IOA_S843_res,df_IOA_S843_MinMax  =cluster_analysis(df_IOA_S843, [3,4,5,6], random_state=42, scaler_type=\"MinMax\",n_init=10, max_iter=300, \n",
    "                                tol=0.0001, save_model_dir='.//trained_models//clustering//', model_file_name='Kmeans_H1_S843_IOA_MinMax_K=', \n",
    "                                   scaler_model_dir='.//trained_models//scalers//',scaler_model_name='_scaler_IOA_H1_S843')"
   ]
  },
  {
   "cell_type": "code",
   "execution_count": 28,
   "metadata": {},
   "outputs": [
    {
     "name": "stdout",
     "output_type": "stream",
     "text": [
      "K=5\n",
      "[0 1 2 3 4]\n",
      "(163, 12)\n",
      "Sort rows by:  rank_K=5\n",
      "cluster = 0:  Shape of dk: (163, 12)\n",
      "         K=3  K=4  K=5  K=6  dist_K=3  rank_K=3  dist_K=4  rank_K=4  dist_K=5  \\\n",
      "H1_2420    2    3    0    5  0.124295       126  0.073612        16  0.044815   \n",
      "H1_2952    2    3    0    5  0.102236        72  0.049190         3  0.048975   \n",
      "H1_2392    2    3    0    5  0.129396       134  0.075060        20  0.050029   \n",
      "\n",
      "         rank_K=5  dist_K=6  rank_K=6  \n",
      "H1_2420         1  0.045734         1  \n",
      "H1_2952         2  0.047144         2  \n",
      "H1_2392         3  0.052831         5  \n",
      "(8, 12)\n",
      "Sort rows by:  rank_K=5\n",
      "cluster = 1:  Shape of dk: (8, 12)\n",
      "         K=3  K=4  K=5  K=6  dist_K=3  rank_K=3  dist_K=4  rank_K=4  dist_K=5  \\\n",
      "H1_1833    0    1    1    0  0.665399        56  0.215227         1  0.215227   \n",
      "H1_2810    0    1    1    0  0.625023        54  0.255374         2  0.255374   \n",
      "H1_2691    0    1    1    0  0.638926        55  0.263262         3  0.263262   \n",
      "\n",
      "         rank_K=5  dist_K=6  rank_K=6  \n",
      "H1_1833         1  0.215227         1  \n",
      "H1_2810         2  0.255374         2  \n",
      "H1_2691         3  0.263262         3  \n",
      "(73, 12)\n",
      "Sort rows by:  rank_K=5\n",
      "cluster = 2:  Shape of dk: (73, 12)\n",
      "         K=3  K=4  K=5  K=6  dist_K=3  rank_K=3  dist_K=4  rank_K=4  dist_K=5  \\\n",
      "H1_0404    0    2    2    3  0.046131         1  0.142731        43  0.070313   \n",
      "H1_2426    0    2    2    3  0.165281        16  0.085404         8  0.084804   \n",
      "H1_0842    0    2    2    3  0.138254         6  0.167342        60  0.087485   \n",
      "\n",
      "         rank_K=5  dist_K=6  rank_K=6  \n",
      "H1_0404         1  0.075851         1  \n",
      "H1_2426         2  0.081131         2  \n",
      "H1_0842         3  0.084573         3  \n",
      "(214, 12)\n",
      "Sort rows by:  rank_K=5\n",
      "cluster = 3:  Shape of dk: (214, 12)\n",
      "         K=3  K=4  K=5  K=6  dist_K=3  rank_K=3  dist_K=4  rank_K=4  dist_K=5  \\\n",
      "H1_1144    2    0    3    1  0.115977       108  0.154502       369  0.033558   \n",
      "H1_1724    2    3    3    1  0.113077        97  0.165838       201  0.039887   \n",
      "H1_1248    2    3    3    1  0.111856        96  0.165679       200  0.043084   \n",
      "\n",
      "         rank_K=5  dist_K=6  rank_K=6  \n",
      "H1_1144         1  0.031462         1  \n",
      "H1_1724         2  0.041734         2  \n",
      "H1_1248         3  0.047340         3  \n",
      "(385, 12)\n",
      "Sort rows by:  rank_K=5\n",
      "cluster = 4:  Shape of dk: (385, 12)\n",
      "         K=3  K=4  K=5  K=6  dist_K=3  rank_K=3  dist_K=4  rank_K=4  dist_K=5  \\\n",
      "H1_1060    1    0    4    2  0.028233         1  0.036184         3  0.027288   \n",
      "H1_1387    1    0    4    2  0.034502         3  0.036272         4  0.035254   \n",
      "H1_2801    1    0    4    2  0.028847         2  0.033643         1  0.035967   \n",
      "\n",
      "         rank_K=5  dist_K=6  rank_K=6  \n",
      "H1_1060         1  0.027397         1  \n",
      "H1_1387         2  0.035426         2  \n",
      "H1_2801         3  0.035943         3  \n"
     ]
    },
    {
     "name": "stderr",
     "output_type": "stream",
     "text": [
      "c:\\ProgramData\\Anaconda3\\lib\\site-packages\\xlsxwriter\\workbook.py:339: UserWarning: Calling close() on already closed file.\n",
      "  warn(\"Calling close() on already closed file.\")\n"
     ]
    },
    {
     "data": {
      "text/plain": [
       "4    385\n",
       "3    214\n",
       "0    163\n",
       "2     73\n",
       "1      8\n",
       "Name: K=5, dtype: int64"
      ]
     },
     "execution_count": 28,
     "metadata": {},
     "output_type": "execute_result"
    }
   ],
   "source": [
    "df_K_IOA, cluster_size_IOA, cluster_means_IOA, cluster_vars_IOA = distance2center(df_IOA_S843_MinMax, df_IOA_S843_res, [3,4,5,6])\n",
    "write_df_sub2Excel(df_K_IOA, '', nK, './/Results_H1//S843_Results//H1_S843_K='+str(nK)+'_IOA_dist2center.xlsx')\n",
    "df_K_IOA['K='+str(nK)].value_counts()"
   ]
  },
  {
   "cell_type": "markdown",
   "metadata": {},
   "source": [
    "<div class=\"alert alert-block alert-success\"><b>II.3 Cluster Analysis on the extracted v31_minmax and IOA_minmax data for the clean subset</b>\n",
    "<ul>\n",
    "<li>Need to rescale v31_minmax within the S843</li>\n",
    "<li>Concatenate df_data_S843 and df_IOA_S843_MinMax.</li>\n",
    "<li>Both sets have been normalized already.  Do not need to scale variables again when calling Cluster Analysis</li>\n",
    "</ul>\n",
    "</div>"
   ]
  },
  {
   "cell_type": "code",
   "execution_count": 23,
   "metadata": {},
   "outputs": [
    {
     "name": "stdout",
     "output_type": "stream",
     "text": [
      "(843, 31)\n",
      "(843, 8)\n",
      "(843, 39)\n"
     ]
    }
   ],
   "source": [
    "print(df_data_S843_scaled.shape)\n",
    "print(df_IOA_S843_MinMax.shape)\n",
    "## concatenate df_data_S843 and df_IOA_S843_MinMax on index\n",
    "df_S843_combined = pd.concat([df_data_S843, df_IOA_S843_MinMax], axis=1)\n",
    "print(df_S843_combined.shape)"
   ]
  },
  {
   "cell_type": "code",
   "execution_count": 24,
   "metadata": {},
   "outputs": [
    {
     "name": "stdout",
     "output_type": "stream",
     "text": [
      "         K=3  K=4  K=5  K=6\n",
      "H1_0006    0    3    4    5\n",
      "H1_0007    1    0    3    1\n",
      "H1_0008    0    1    4    5\n"
     ]
    }
   ],
   "source": [
    "## Do not need scale the data, since both V31 and IOA have been scaled already.\n",
    "df_K_combined_res, _ =cluster_analysis(df_S843_combined, [3,4,5,6], random_state=42, scaler_type=None,n_init=10, max_iter=300, tol=0.0001,\n",
    "                                       save_model_dir='.//trained_models//clustering//', model_file_name='Kmeans_H1_S843_Combined_minmax_K=')\n",
    "print(df_K_combined_res.head(3))"
   ]
  },
  {
   "cell_type": "code",
   "execution_count": 31,
   "metadata": {},
   "outputs": [
    {
     "name": "stdout",
     "output_type": "stream",
     "text": [
      "K=5\n",
      "[0 1 2 3 4]\n",
      "(178, 12)\n",
      "Sort rows by:  rank_K=5\n",
      "cluster = 0:  Shape of dk: (178, 12)\n",
      "         K=3  K=4  K=5  K=6    dist_K=3  rank_K=3    dist_K=4  rank_K=4  \\\n",
      "H1_1036    1    1    0    4  779.314779       639  560.060231        89   \n",
      "H1_0085    1    1    0    4  775.601718       638  559.356637        88   \n",
      "H1_2080    1    1    0    4  828.465819       654  506.829123        78   \n",
      "\n",
      "          dist_K=5  rank_K=5    dist_K=6  rank_K=6  \n",
      "H1_1036  52.685011         1  357.272866       160  \n",
      "H1_0085  62.741738         2  361.149470       162  \n",
      "H1_2080  65.335792         3  416.291395       179  \n",
      "(32, 12)\n",
      "Sort rows by:  rank_K=5\n",
      "cluster = 1:  Shape of dk: (32, 12)\n",
      "         K=3  K=4  K=5  K=6     dist_K=3  rank_K=3    dist_K=4  rank_K=4  \\\n",
      "H1_2763    0    3    1    2  1995.848257       126  764.944292        24   \n",
      "H1_2893    0    3    1    2  1711.140975       123  528.621860        10   \n",
      "H1_2368    0    3    1    2  1587.219559       119  532.839774        11   \n",
      "\n",
      "           dist_K=5  rank_K=5    dist_K=6  rank_K=6  \n",
      "H1_2763  136.111462         1  366.780029         1  \n",
      "H1_2893  443.228069         2  754.553131         7  \n",
      "H1_2368  495.353941         3  899.716355         9  \n",
      "(4, 12)\n",
      "Sort rows by:  rank_K=5\n",
      "cluster = 2:  Shape of dk: (4, 12)\n",
      "         K=3  K=4  K=5  K=6     dist_K=3  rank_K=3     dist_K=4  rank_K=4  \\\n",
      "H1_0014    2    2    2    3  1567.949541         2   916.095883         1   \n",
      "H1_1915    2    2    2    3  3619.113565         5  1385.705469         2   \n",
      "H1_0286    2    2    2    3  4302.941918         7  2255.394194         3   \n",
      "\n",
      "            dist_K=5  rank_K=5     dist_K=6  rank_K=6  \n",
      "H1_0014   916.095883         1   916.095883         1  \n",
      "H1_1915  1385.705469         2  1385.705469         2  \n",
      "H1_0286  2255.394194         3  2255.394194         3  \n",
      "(550, 12)\n",
      "Sort rows by:  rank_K=5\n",
      "cluster = 3:  Shape of dk: (550, 12)\n",
      "         K=3  K=4  K=5  K=6    dist_K=3  rank_K=3   dist_K=4  rank_K=4  \\\n",
      "H1_0177    1    0    3    1  187.927530       157  61.284747        27   \n",
      "H1_2800    1    0    3    1  209.128840       188  80.613437        50   \n",
      "H1_0866    1    0    3    1  204.119102       180  78.704941        47   \n",
      "\n",
      "          dist_K=5  rank_K=5   dist_K=6  rank_K=6  \n",
      "H1_0177  26.465181         1  78.247734       116  \n",
      "H1_2800  27.800174         2  59.220617        68  \n",
      "H1_0866  30.337823         3  63.128823        84  \n",
      "(79, 12)\n",
      "Sort rows by:  rank_K=5\n",
      "cluster = 4:  Shape of dk: (79, 12)\n",
      "         K=3  K=4  K=5  K=6    dist_K=3  rank_K=3     dist_K=4  rank_K=4  \\\n",
      "H1_2672    0    1    4    5  269.709166        10   935.576739       157   \n",
      "H1_0851    0    1    4    5  281.325419        11   945.748176       158   \n",
      "H1_1360    0    1    4    5  178.334873         3  1047.012455       164   \n",
      "\n",
      "          dist_K=5  rank_K=5    dist_K=6  rank_K=6  \n",
      "H1_2672  56.707022         1  511.666489        27  \n",
      "H1_0851  84.185071         2  513.504222        28  \n",
      "H1_1360  88.345034         3  404.100648        18  \n"
     ]
    },
    {
     "name": "stderr",
     "output_type": "stream",
     "text": [
      "c:\\ProgramData\\Anaconda3\\lib\\site-packages\\xlsxwriter\\workbook.py:339: UserWarning: Calling close() on already closed file.\n",
      "  warn(\"Calling close() on already closed file.\")\n"
     ]
    },
    {
     "data": {
      "text/plain": [
       "3    550\n",
       "0    178\n",
       "4     79\n",
       "1     32\n",
       "2      4\n",
       "Name: K=5, dtype: int64"
      ]
     },
     "execution_count": 31,
     "metadata": {},
     "output_type": "execute_result"
    }
   ],
   "source": [
    "df_K_combined, cluster_size_combined, cluster_means_combined, cluster_vars_combined = distance2center(df_S843_combined, df_K_combined_res, [3,4,5,6])\n",
    "write_df_sub2Excel(df_K_combined, '', nK, './/Results_H1//S843_Results//H1_S843_K='+str(nK)+'_Combined_dist2center.xlsx')\n",
    "df_K_combined['K='+str(nK)].value_counts()"
   ]
  },
  {
   "cell_type": "markdown",
   "metadata": {},
   "source": [
    "<div class=\"alert alert-block alert-success\"><b>II.4 Store the result to a collection, Results_S843_clusters</b> which include\n",
    "<ul>\n",
    "<li>The cluster allotment from the three approaches on values of K.</li>\n",
    "<li>Distance to cluster center and ranking within cluster of closeness to the center.</li>\n",
    "</ul>\n",
    "</div>"
   ]
  },
  {
   "cell_type": "markdown",
   "metadata": {},
   "source": [
    "#### Database collection for three clustering methods, v31_minmax, IOA, combination of the first two.\n",
    "- One row for each case\n",
    "- Columns for each method:\n",
    "- cluster membership: K_values columns (one for each value of K), \n",
    "- for each K values, there are two columns, one for the distance to cluser center, one for the distance2center ranking.\n",
    "- For example, if there are n different K-values, there will be n+2*n columns in this collection\n",
    "- Data source:  df_K_v31, df_K_IOA, df_K_combined"
   ]
  },
  {
   "cell_type": "code",
   "execution_count": 36,
   "metadata": {},
   "outputs": [
    {
     "name": "stdout",
     "output_type": "stream",
     "text": [
      "Collection, H1_S843_clusters, doesn't exist\n"
     ]
    }
   ],
   "source": [
    "### Create a new collection to store cluster analysis result of S843\n",
    "## Drop the collection, coll_res_H1 and recreate it anew.\n",
    "coll_res_cluster = 'H1_S843_clusters'\n",
    "try:\n",
    "    db.validate_collection(coll_res_cluster)  # Try to validate a collection   \n",
    "    db[coll_res_cluster].drop()\n",
    "    print(f\"Collection (table), {coll_res_cluster}, dropped\")\n",
    "except pymongo.errors.OperationFailure:  # If the collection doesn't exist\n",
    "        print(f\"Collection, {coll_res_cluster}, doesn't exist\") \n",
    "     \n",
    "coll_res_cluster = db[coll_res_cluster]"
   ]
  },
  {
   "cell_type": "code",
   "execution_count": 37,
   "metadata": {},
   "outputs": [
    {
     "name": "stdout",
     "output_type": "stream",
     "text": [
      "Index(['K=3', 'K=4', 'K=5', 'K=6', 'dist_K=3', 'rank_K=3', 'dist_K=4',\n",
      "       'rank_K=4', 'dist_K=5', 'rank_K=5', 'dist_K=6', 'rank_K=6'],\n",
      "      dtype='object')\n"
     ]
    }
   ],
   "source": [
    "columns=df_K_v31.columns\n",
    "print(columns)\n",
    "dfs = [df_K_v31, df_K_IOA, df_K_combined]\n",
    "methods = ['v31_minmax', 'IOA', 'combined']\n",
    "for i in range(len(df_K_v31)):\n",
    "    row = dict()\n",
    "    row['_id']=df_K_v31.index[i]\n",
    "    for method, df in zip(methods, dfs):\n",
    "        row[method] = dict()\n",
    "        for col in columns:\n",
    "            row[method][col]=df.iloc[i][col]\n",
    "    coll_res_cluster.insert_one(row)\n"
   ]
  },
  {
   "cell_type": "markdown",
   "metadata": {},
   "source": [
    "<div class=\"alert alert-block alert-success\"><b>III. Database collection for cluster summary data for the three clustering results, v31_minmax, IOA, combination of the first two:</b> \n",
    "<ol>\n",
    "<li>One row for each cluster of each method</li>\n",
    "<li>Columns: methods (v31_minmax, IOA, combined), K, cluster ID, cluster size (int), cluser means (31+28 columns), cluster variance (31+28 columns)</li>\n",
    "<li>For cluster means and variance, v31_minmax takes the first 31 columns only, IOA takes the next 28 columns only, and combined takes all 59 columns</li>\n",
    "<li>From v31_minmax: cluster_size_v31, cluster_means_v31, cluster_vars_v31</li>\n",
    "<li>From IOA, cluster_size_IOA, cluster_means_IOA, cluster_vars_IOA</li>\n",
    "<li>From combined: cluster_size_combined, cluster_means_combined, cluster_vars_combined</li>\n",
    "</ol>\n",
    "</div>"
   ]
  },
  {
   "cell_type": "code",
   "execution_count": 40,
   "metadata": {},
   "outputs": [
    {
     "name": "stdout",
     "output_type": "stream",
     "text": [
      "Collection (table), H1_S843_cluster_summary, dropped\n"
     ]
    }
   ],
   "source": [
    "### Create a new collection to store cluster summary result of S843\n",
    "## Drop the collection, coll_res_H1 and recreate it anew.\n",
    "coll_res_cluster_summary = 'H1_S843_cluster_summary'\n",
    "try:\n",
    "    db.validate_collection(coll_res_cluster_summary)  # Try to validate a collection   \n",
    "    db[coll_res_cluster_summary].drop()\n",
    "    print(f\"Collection (table), {coll_res_cluster_summary}, dropped\")\n",
    "except pymongo.errors.OperationFailure:  # If the collection doesn't exist\n",
    "        print(f\"Collection, {coll_res_cluster_summary}, doesn't exist\") \n",
    "     \n",
    "coll_cluster_summary = db[coll_res_cluster_summary]"
   ]
  },
  {
   "cell_type": "markdown",
   "metadata": {},
   "source": [
    "<div class=\"alert alert-block alert-danger\"><b>Setting _id in the code:</b> The rows in this documents have different columns.  v31 only has the first 31 columns, IOA has the next 28 columns, and combined has all 59 columns.  When letting mongodb insert one row at a time, there is a complaint about duplicate _id.  Normally, this column is an automatically created field, similar to the autonumber in Access.  However, in this case, I have to mannually assign _id to avoid the complaint.</div>"
   ]
  },
  {
   "cell_type": "code",
   "execution_count": 42,
   "metadata": {},
   "outputs": [
    {
     "name": "stdout",
     "output_type": "stream",
     "text": [
      "{'_id': 0, 'target': 'v31_minmax', 'K': 3, 'cluster': {'cluster_id': 0, 'size': 361, 'cluster_mean': {'v31.spectralCentroid': 63.26066003223087, 'v31.spectralCrest': 27.59973883446138, 'v31.spectralDecrease': -59.93896126386648, 'v31.spectralEntropy': 0.15521262784596612, 'v31.spectralFlatness': 0.006650706324065491, 'v31.spectralFlux': 5.961315298115349e-06, 'v31.spectralKurtosis': 458.7670986049829, 'v31.spectralRolloffPoint': 121.58451939094942, 'v31.spectralSkewness': 14.05310400976741, 'v31.spectralSlope': -4.1675379465681515e-10, 'v31.spectralSpread': 64.38302573596148, 'v31.pitch': 399.8027252444912, 'v31.harmonicRatio': 0.012981003909070761, 'v31.LA': 39.79732943125211, 'v31.ratioLGLA': 1.5865568516275075, 'v31.ratioLCLA': 1.3927603483222168, 'v31.diffLCLA': 15.334614167337715, 'v31.peakloc': 0.6023545706371191, 'v31.peakval': 1.8462492375036523, 'v31.pos_slope': 0.8002301146330358, 'v31.neg_slope': -0.8089170381142411, 'v31.PR': 17.692340741437317, 'v31.Fo': 0.6623268698060941, 'v31.AMfactor': 0.30994618092623044, 'v31.DAM': 2.2539421802292052, 'v31.peakloc_unweightedSPL': 0.8595567867036011, 'v31.L63': 7.408315319720141, 'v31.L125': 5.1705619994155825, 'v31.L250': 4.482453803022235, 'v31.L500': 3.598747313792196, 'v31.L1000': 3.2444151596690056}, 'cluster_var': {'v31.spectralCentroid': 26.214894187952506, 'v31.spectralCrest': 2.142348442477276, 'v31.spectralDecrease': 2238.9248613449636, 'v31.spectralEntropy': 0.0015074204535419583, 'v31.spectralFlatness': 1.133026097240654e-05, 'v31.spectralFlux': 3.352412189008249e-11, 'v31.spectralKurtosis': 88808.7731252666, 'v31.spectralRolloffPoint': 716.4052065216762, 'v31.spectralSkewness': 14.89599793987934, 'v31.spectralSlope': 1.5854954411363282e-19, 'v31.spectralSpread': 228.9132767982618, 'v31.pitch': 3.1708618611036408, 'v31.harmonicRatio': 0.00034247591463332667, 'v31.LA': 16.836240899605492, 'v31.ratioLGLA': 0.009078608701143472, 'v31.ratioLCLA': 0.007768834565289599, 'v31.diffLCLA': 5.077312328760208, 'v31.peakloc': 0.0210569405971068, 'v31.peakval': 29.535178734577727, 'v31.pos_slope': 0.2803687523935481, 'v31.neg_slope': 0.2970173702303792, 'v31.PR': 3845.6324486867525, 'v31.Fo': 0.01535457063711912, 'v31.AMfactor': 0.07082065611428445, 'v31.DAM': 0.77337117466579, 'v31.peakloc_unweightedSPL': 0.49552646968297975, 'v31.L63': 1.0192791773852397, 'v31.L125': 0.5173088572841693, 'v31.L250': 1.0097865273636988, 'v31.L500': 0.9200844534074601, 'v31.L1000': 1.081101301657885}}}\n",
      "{'_id': 1, 'target': 'v31_minmax', 'K': 3, 'cluster': {'cluster_id': 1, 'size': 263, 'cluster_mean': {'v31.spectralCentroid': 66.40334295701719, 'v31.spectralCrest': 29.43895629289566, 'v31.spectralDecrease': -296.43492924531114, 'v31.spectralEntropy': 0.11063635007020539, 'v31.spectralFlatness': 0.019297184143208215, 'v31.spectralFlux': 2.1007891789251773e-05, 'v31.spectralKurtosis': 914.3443957119587, 'v31.spectralRolloffPoint': 125.56675106086703, 'v31.spectralSkewness': 19.855786215131694, 'v31.spectralSlope': -1.7382662570828908e-09, 'v31.spectralSpread': 100.39110525380855, 'v31.pitch': 399.94053108721783, 'v31.harmonicRatio': 0.0031593933645568148, 'v31.LA': 46.749994206079485, 'v31.ratioLGLA': 1.3784730201913156, 'v31.ratioLCLA': 1.2106468106410448, 'v31.diffLCLA': 9.674898428918947, 'v31.peakloc': 0.14695817490494295, 'v31.peakval': 0.5948306095807048, 'v31.pos_slope': 0.4539572321545795, 'v31.neg_slope': -0.4543227642624109, 'v31.PR': 5.4359164063770145, 'v31.Fo': 0.6608365019011407, 'v31.AMfactor': 0.11491337413547593, 'v31.DAM': 1.3473305779773417, 'v31.peakloc_unweightedSPL': 0.6015209125475285, 'v31.L63': 7.019499160297526, 'v31.L125': 5.2073198638073865, 'v31.L250': 3.9856539506921282, 'v31.L500': 3.062251735993429, 'v31.L1000': 2.715409051495102}, 'cluster_var': {'v31.spectralCentroid': 80.42686004524174, 'v31.spectralCrest': 0.9228162066060398, 'v31.spectralDecrease': 133406.45963081412, 'v31.spectralEntropy': 0.0012720395589393945, 'v31.spectralFlatness': 0.00013226339155492784, 'v31.spectralFlux': 1.443169701030537e-10, 'v31.spectralKurtosis': 1079957.359953355, 'v31.spectralRolloffPoint': 2366.3549429690597, 'v31.spectralSkewness': 67.67002809289077, 'v31.spectralSlope': 9.68246236820123e-19, 'v31.spectralSpread': 993.625865758675, 'v31.pitch': 0.5711670723447654, 'v31.harmonicRatio': 2.547969106618708e-05, 'v31.LA': 14.579523919206054, 'v31.ratioLGLA': 0.006980202367314978, 'v31.ratioLCLA': 0.004405362050967526, 'v31.diffLCLA': 6.531707781182162, 'v31.peakloc': 0.03417010129741966, 'v31.peakval': 0.3906015209101044, 'v31.pos_slope': 0.03141328987433036, 'v31.neg_slope': 0.02654227602683854, 'v31.PR': 22.6616950964421, 'v31.Fo': 0.026819144922067748, 'v31.AMfactor': 0.001985948697903813, 'v31.DAM': 0.038316029449012266, 'v31.peakloc_unweightedSPL': 0.1449595100571793, 'v31.L63': 0.8406210959804586, 'v31.L125': 0.6186756508213249, 'v31.L250': 0.41654767098597034, 'v31.L500': 0.4653264911427478, 'v31.L1000': 1.0641590577028837}}}\n",
      "{'_id': 2, 'target': 'v31_minmax', 'K': 3, 'cluster': {'cluster_id': 2, 'size': 219, 'cluster_mean': {'v31.spectralCentroid': 53.60688031279648, 'v31.spectralCrest': 30.087652923308124, 'v31.spectralDecrease': -158.23841219043416, 'v31.spectralEntropy': 0.08024027790081044, 'v31.spectralFlatness': 0.0029263879397826075, 'v31.spectralFlux': 7.68173887697155e-07, 'v31.spectralKurtosis': 2453.4040841126, 'v31.spectralRolloffPoint': 75.39470745231311, 'v31.spectralSkewness': 31.960472466710566, 'v31.spectralSlope': -6.92557337393363e-11, 'v31.spectralSpread': 38.85238966275666, 'v31.pitch': 399.94010390419896, 'v31.harmonicRatio': 0.10589031810599799, 'v31.LA': 27.80186182658155, 'v31.ratioLGLA': 1.893018696109995, 'v31.ratioLCLA': 1.8005693652753798, 'v31.diffLCLA': 21.91249923451373, 'v31.peakloc': 0.5340182648401827, 'v31.peakval': 0.7406055127323133, 'v31.pos_slope': 0.577166154888816, 'v31.neg_slope': -0.5820291921894456, 'v31.PR': 11.240174776293276, 'v31.Fo': 0.6228310502283105, 'v31.AMfactor': 0.19556018714619097, 'v31.DAM': 2.024474300772028, 'v31.peakloc_unweightedSPL': 0.6488584474885845, 'v31.L63': 8.498865605094759, 'v31.L125': 4.63535480833817, 'v31.L250': 3.8461631286184494, 'v31.L500': 2.9156970792417147, 'v31.L1000': 2.4508509390094653}, 'cluster_var': {'v31.spectralCentroid': 6.107297639621939, 'v31.spectralCrest': 0.6808840663957618, 'v31.spectralDecrease': 54257.02056246202, 'v31.spectralEntropy': 0.0007190695012323393, 'v31.spectralFlatness': 2.040581791936329e-06, 'v31.spectralFlux': 1.8556490094444682e-12, 'v31.spectralKurtosis': 3425408.7528208587, 'v31.spectralRolloffPoint': 262.15972844153606, 'v31.spectralSkewness': 121.75307253295234, 'v31.spectralSlope': 1.6406774271270646e-20, 'v31.spectralSpread': 78.89905810068844, 'v31.pitch': 0.39069818446155585, 'v31.harmonicRatio': 0.006610224187259562, 'v31.LA': 7.209329209356249, 'v31.ratioLGLA': 0.0388553405596532, 'v31.ratioLCLA': 0.023720240066909152, 'v31.diffLCLA': 7.044813681057042, 'v31.peakloc': 0.03554616480247998, 'v31.peakval': 0.8568094077154458, 'v31.pos_slope': 0.06032353454820216, 'v31.neg_slope': 0.058699456543767285, 'v31.PR': 250.36172836885925, 'v31.Fo': 0.0404855263709103, 'v31.AMfactor': 0.012348261379436603, 'v31.DAM': 0.29023233304823265, 'v31.peakloc_unweightedSPL': 0.17122575510033097, 'v31.L63': 2.6214524695425676, 'v31.L125': 0.9936537811926849, 'v31.L250': 0.6298570477058552, 'v31.L500': 0.3365729486412104, 'v31.L1000': 0.6412270220180281}}}\n",
      "{'_id': 3, 'target': 'v31_minmax', 'K': 4, 'cluster': {'cluster_id': 0, 'size': 124, 'cluster_mean': {'v31.spectralCentroid': 73.62440861657336, 'v31.spectralCrest': 29.010005968652102, 'v31.spectralDecrease': -190.53097881079418, 'v31.spectralEntropy': 0.13201253435187174, 'v31.spectralFlatness': 0.02870992083924093, 'v31.spectralFlux': 2.3696189406940698e-05, 'v31.spectralKurtosis': 487.3684482175856, 'v31.spectralRolloffPoint': 162.16206929276976, 'v31.spectralSkewness': 15.6189040985427, 'v31.spectralSlope': -1.8567899358243483e-09, 'v31.spectralSpread': 127.42633517775387, 'v31.pitch': 399.98756262850753, 'v31.harmonicRatio': 0.002248622228212416, 'v31.LA': 49.216079280758876, 'v31.ratioLGLA': 1.317985481407804, 'v31.ratioLCLA': 1.1628121523591948, 'v31.diffLCLA': 7.9610557283058645, 'v31.peakloc': 0.1592741935483871, 'v31.peakval': 0.4982296842373327, 'v31.pos_slope': 0.40928054336917963, 'v31.neg_slope': -0.42030876425561736, 'v31.PR': 5.390369818833844, 'v31.Fo': 0.6588709677419355, 'v31.AMfactor': 0.10251922676190559, 'v31.DAM': 1.282667793325629, 'v31.peakloc_unweightedSPL': 0.5830645161290322, 'v31.L63': 6.864441235275714, 'v31.L125': 5.01110036035567, 'v31.L250': 3.840495312193362, 'v31.L500': 3.0176995058343317, 'v31.L1000': 2.442514854593124}, 'cluster_var': {'v31.spectralCentroid': 53.78549341849508, 'v31.spectralCrest': 0.6421380785153754, 'v31.spectralDecrease': 21129.619195201067, 'v31.spectralEntropy': 0.0007738146760337545, 'v31.spectralFlatness': 9.188176613225173e-05, 'v31.spectralFlux': 1.4909949805749646e-10, 'v31.spectralKurtosis': 85451.85262667622, 'v31.spectralRolloffPoint': 2066.351499197798, 'v31.spectralSkewness': 13.318672109518758, 'v31.spectralSlope': 9.350807155856662e-19, 'v31.spectralSpread': 403.27070560065454, 'v31.pitch': 0.004111185452054296, 'v31.harmonicRatio': 9.030570641876793e-06, 'v31.LA': 9.06015571730638, 'v31.ratioLGLA': 0.003057390906582393, 'v31.ratioLCLA': 0.0013497192941930478, 'v31.diffLCLA': 2.5967755758405775, 'v31.peakloc': 0.040299468922108575, 'v31.peakval': 0.23666103964257454, 'v31.pos_slope': 0.02655418173610498, 'v31.neg_slope': 0.02711299332113298, 'v31.PR': 23.826092493428607, 'v31.Fo': 0.02715643849986888, 'v31.AMfactor': 0.0009492992873055436, 'v31.DAM': 0.02330777765635449, 'v31.peakloc_unweightedSPL': 0.12336939417781269, 'v31.L63': 0.6628025986604996, 'v31.L125': 0.35235815915344904, 'v31.L250': 0.36306697196958915, 'v31.L500': 0.5652075046693149, 'v31.L1000': 0.590359835359708}}}\n",
      "{'_id': 4, 'target': 'v31_minmax', 'K': 4, 'cluster': {'cluster_id': 1, 'size': 344, 'cluster_mean': {'v31.spectralCentroid': 63.42948573901164, 'v31.spectralCrest': 27.524862351534033, 'v31.spectralDecrease': -56.867468858012515, 'v31.spectralEntropy': 0.15719326984678603, 'v31.spectralFlatness': 0.006599570383149097, 'v31.spectralFlux': 5.842592866780335e-06, 'v31.spectralKurtosis': 448.6458733522846, 'v31.spectralRolloffPoint': 122.81888684408862, 'v31.spectralSkewness': 13.873095937967344, 'v31.spectralSlope': -4.061703847281083e-10, 'v31.spectralSpread': 64.24628155663754, 'v31.pitch': 399.7871171619339, 'v31.harmonicRatio': 0.013170371869819737, 'v31.LA': 39.76918276318828, 'v31.ratioLGLA': 1.5882799846664324, 'v31.ratioLCLA': 1.3946715472763742, 'v31.diffLCLA': 15.396293241709664, 'v31.peakloc': 0.6199127906976745, 'v31.peakval': 1.904678204727972, 'v31.pos_slope': 0.8153379100170216, 'v31.neg_slope': -0.8230016530815262, 'v31.PR': 18.187629073629296, 'v31.Fo': 0.6633720930232557, 'v31.AMfactor': 0.3175356806066135, 'v31.DAM': 2.28363069050475, 'v31.peakloc_unweightedSPL': 0.8674418604651162, 'v31.L63': 7.417076837973086, 'v31.L125': 5.181999541508626, 'v31.L250': 4.492897909619841, 'v31.L500': 3.618979137885893, 'v31.L1000': 3.212643181377097}, 'cluster_var': {'v31.spectralCentroid': 26.532037982953796, 'v31.spectralCrest': 2.093304890432953, 'v31.spectralDecrease': 1773.1912821850365, 'v31.spectralEntropy': 0.0014669404264881349, 'v31.spectralFlatness': 1.167959169456033e-05, 'v31.spectralFlux': 3.161581970827376e-11, 'v31.spectralKurtosis': 82953.81781476832, 'v31.spectralRolloffPoint': 709.227545504235, 'v31.spectralSkewness': 13.867422689957225, 'v31.spectralSlope': 1.4638432995187089e-19, 'v31.spectralSpread': 234.26528168533713, 'v31.pitch': 3.3353700677886082, 'v31.harmonicRatio': 0.0003520314061360471, 'v31.LA': 16.910054038078403, 'v31.ratioLGLA': 0.009268381249196185, 'v31.ratioLCLA': 0.007840890644246278, 'v31.diffLCLA': 5.091858521672577, 'v31.peakloc': 0.01291865126449251, 'v31.peakval': 30.91785365055509, 'v31.pos_slope': 0.28829290862880974, 'v31.neg_slope': 0.3062387559369611, 'v31.PR': 4027.9705613097894, 'v31.Fo': 0.015155942775781403, 'v31.AMfactor': 0.07286979495135165, 'v31.DAM': 0.7875903485957202, 'v31.peakloc_unweightedSPL': 0.5085578683300561, 'v31.L63': 1.0443310570170996, 'v31.L125': 0.5268506157151955, 'v31.L250': 1.03153754022913, 'v31.L500': 0.9210046205208853, 'v31.L1000': 1.0248115162584028}}}\n",
      "{'_id': 5, 'target': 'v31_minmax', 'K': 4, 'cluster': {'cluster_id': 2, 'size': 160, 'cluster_mean': {'v31.spectralCentroid': 59.789713761226764, 'v31.spectralCrest': 29.775115870402896, 'v31.spectralDecrease': -382.1730885128061, 'v31.spectralEntropy': 0.09304451335438577, 'v31.spectralFlatness': 0.010408971111037339, 'v31.spectralFlux': 1.721060126661603e-05, 'v31.spectralKurtosis': 1303.2207756778294, 'v31.spectralRolloffPoint': 92.66466348419732, 'v31.spectralSkewness': 23.42415884902491, 'v31.spectralSlope': -1.501539067343207e-09, 'v31.spectralSpread': 74.56986090931021, 'v31.pitch': 399.92448387224647, 'v31.harmonicRatio': 0.0047042830021474715, 'v31.LA': 43.844871287578606, 'v31.ratioLGLA': 1.4487587825329955, 'v31.ratioLCLA': 1.26754431004114, 'v31.diffLCLA': 11.56585202621125, 'v31.peakloc': 0.15, 'v31.peakval': 0.6819729725761099, 'v31.pos_slope': 0.4934625645409592, 'v31.neg_slope': -0.49146433479944623, 'v31.PR': 5.88204767150741, 'v31.Fo': 0.659375, 'v31.AMfactor': 0.12993397851870572, 'v31.DAM': 1.4314355461393542, 'v31.peakloc_unweightedSPL': 0.625, 'v31.L63': 7.210511950003758, 'v31.L125': 5.335770265497702, 'v31.L250': 4.129312907212366, 'v31.L500': 3.106059323608613, 'v31.L1000': 3.0729267965277733}, 'cluster_var': {'v31.spectralCentroid': 15.859836086097614, 'v31.spectralCrest': 0.9174608128651055, 'v31.spectralDecrease': 228940.49239649222, 'v31.spectralEntropy': 0.0009973893201766606, 'v31.spectralFlatness': 1.8277378027110013e-05, 'v31.spectralFlux': 1.326026055133192e-10, 'v31.spectralKurtosis': 1909777.729211507, 'v31.spectralRolloffPoint': 366.69928677348383, 'v31.spectralSkewness': 92.25958906089488, 'v31.spectralSlope': 1.0086741768205814e-18, 'v31.spectralSpread': 288.3567194173249, 'v31.pitch': 0.9124296881410694, 'v31.harmonicRatio': 5.449824314938811e-05, 'v31.LA': 13.77135304856585, 'v31.ratioLGLA': 0.006038011165959568, 'v31.ratioLCLA': 0.004835351301294256, 'v31.diffLCLA': 5.763354182935693, 'v31.peakloc': 0.032924528301886795, 'v31.peakval': 0.4721897589102849, 'v31.pos_slope': 0.03072136156482062, 'v31.neg_slope': 0.02491313107588803, 'v31.PR': 31.45902301389379, 'v31.Fo': 0.025949292452830182, 'v31.AMfactor': 0.002937492693563497, 'v31.DAM': 0.05648426544609131, 'v31.peakloc_unweightedSPL': 0.16654088050314467, 'v31.L63': 1.0520925841009814, 'v31.L125': 0.7615891222798169, 'v31.L250': 0.4572165705291462, 'v31.L500': 0.4158997402965688, 'v31.L1000': 1.5337078294157656}}}\n",
      "{'_id': 6, 'target': 'v31_minmax', 'K': 4, 'cluster': {'cluster_id': 3, 'size': 215, 'cluster_mean': {'v31.spectralCentroid': 53.60725717842747, 'v31.spectralCrest': 30.07132691242589, 'v31.spectralDecrease': -139.1563667708556, 'v31.spectralEntropy': 0.08079338770933515, 'v31.spectralFlatness': 0.0028894213852495624, 'v31.spectralFlux': 6.672781828227302e-07, 'v31.spectralKurtosis': 2419.06884171481, 'v31.spectralRolloffPoint': 75.5505494746783, 'v31.spectralSkewness': 31.802936119029017, 'v31.spectralSlope': -5.845737678708671e-11, 'v31.spectralSpread': 38.70252160726988, 'v31.pitch': 399.93898955823056, 'v31.harmonicRatio': 0.10765079149491452, 'v31.LA': 27.684279225761994, 'v31.ratioLGLA': 1.898867918934118, 'v31.ratioLCLA': 1.8081324612838507, 'v31.diffLCLA': 22.07022894847095, 'v31.peakloc': 0.5397674418604651, 'v31.peakval': 0.7396445277343784, 'v31.pos_slope': 0.5790333609750877, 'v31.neg_slope': -0.5818845667632129, 'v31.PR': 11.21907633599625, 'v31.Fo': 0.6227906976744186, 'v31.AMfactor': 0.19630872040405092, 'v31.DAM': 2.035960416983951, 'v31.peakloc_unweightedSPL': 0.6506976744186047, 'v31.L63': 8.490393579792748, 'v31.L125': 4.621084556063834, 'v31.L250': 3.8429496386758895, 'v31.L500': 2.9161143872818958, 'v31.L1000': 2.4299229070655044}, 'cluster_var': {'v31.spectralCentroid': 6.162255645749273, 'v31.spectralCrest': 0.6762011792444682, 'v31.spectralDecrease': 22069.720304337596, 'v31.spectralEntropy': 0.0007109722855108933, 'v31.spectralFlatness': 1.9683376887053457e-06, 'v31.spectralFlux': 8.735999537268876e-13, 'v31.spectralKurtosis': 3292072.417528802, 'v31.spectralRolloffPoint': 264.45271116014277, 'v31.spectralSkewness': 119.39426052007468, 'v31.spectralSlope': 6.626804711394326e-21, 'v31.spectralSpread': 77.80426533132525, 'v31.pitch': 0.3979326498297139, 'v31.harmonicRatio': 0.006561293908661211, 'v31.LA': 6.569337991679949, 'v31.ratioLGLA': 0.03763644378902288, 'v31.ratioLCLA': 0.02093624143488295, 'v31.diffLCLA': 5.715183426086026, 'v31.peakloc': 0.03360975874809823, 'v31.peakval': 0.8677126164497622, 'v31.pos_slope': 0.06122766665995854, 'v31.neg_slope': 0.05926643891712487, 'v31.PR': 251.70792677897126, 'v31.Fo': 0.04073983916539882, 'v31.AMfactor': 0.012536217361206537, 'v31.DAM': 0.288291791012759, 'v31.peakloc_unweightedSPL': 0.17363268854596825, 'v31.L63': 2.6035309802460898, 'v31.L125': 0.9832073891994141, 'v31.L250': 0.6231396675833994, 'v31.L500': 0.33555692072979115, 'v31.L1000': 0.5789850484417604}}}\n",
      "{'_id': 7, 'target': 'v31_minmax', 'K': 5, 'cluster': {'cluster_id': 0, 'size': 217, 'cluster_mean': {'v31.spectralCentroid': 53.665047417988966, 'v31.spectralCrest': 30.053063520347692, 'v31.spectralDecrease': -138.6200240765677, 'v31.spectralEntropy': 0.08135499491501351, 'v31.spectralFlatness': 0.0029055396526515486, 'v31.spectralFlux': 6.694538020055904e-07, 'v31.spectralKurtosis': 2406.5299364460375, 'v31.spectralRolloffPoint': 75.90413874608124, 'v31.spectralSkewness': 31.69255068986756, 'v31.spectralSlope': -5.877090034477465e-11, 'v31.spectralSpread': 38.82308666076342, 'v31.pitch': 399.9395518664496, 'v31.harmonicRatio': 0.10709928959134682, 'v31.LA': 27.714154908625336, 'v31.ratioLGLA': 1.8974157317315137, 'v31.ratioLCLA': 1.8061249938695392, 'v31.diffLCLA': 22.033273553588323, 'v31.peakloc': 0.5387096774193548, 'v31.peakval': 0.7361183704379112, 'v31.pos_slope': 0.5782959610264796, 'v31.neg_slope': -0.5808297820750171, 'v31.PR': 11.481738338829066, 'v31.Fo': 0.6230414746543779, 'v31.AMfactor': 0.19556731461951887, 'v31.DAM': 2.035249263366072, 'v31.peakloc_unweightedSPL': 0.6483870967741935, 'v31.L63': 8.493790294859576, 'v31.L125': 4.625278333599261, 'v31.L250': 3.8459166271285206, 'v31.L500': 2.9187000135553793, 'v31.L1000': 2.4263877257800774}, 'cluster_var': {'v31.spectralCentroid': 6.472574112790226, 'v31.spectralCrest': 0.712465011225143, 'v31.spectralDecrease': 21920.295418876634, 'v31.spectralEntropy': 0.0007418201095309903, 'v31.spectralFlatness': 1.983794283102772e-06, 'v31.spectralFlux': 8.701493465529386e-13, 'v31.spectralKurtosis': 3279025.918277162, 'v31.spectralRolloffPoint': 275.56248634265756, 'v31.spectralSkewness': 119.60577546538296, 'v31.spectralSlope': 6.622698820199556e-21, 'v31.spectralSpread': 78.75365390666369, 'v31.pitch': 0.394282236102884, 'v31.harmonicRatio': 0.0065360937143793115, 'v31.LA': 6.658291166475903, 'v31.ratioLGLA': 0.03757789479133477, 'v31.ratioLCLA': 0.02123905981935942, 'v31.diffLCLA': 5.8210000586562956, 'v31.peakloc': 0.03370295698924733, 'v31.peakval': 0.8610225552933982, 'v31.pos_slope': 0.06072013715831181, 'v31.neg_slope': 0.058837923668081916, 'v31.PR': 268.4220146524562, 'v31.Fo': 0.04094811401263015, 'v31.AMfactor': 0.012480217032072086, 'v31.DAM': 0.2863142889606334, 'v31.peakloc_unweightedSPL': 0.17297192353643956, 'v31.L63': 2.583957187019892, 'v31.L125': 0.9768158617080319, 'v31.L250': 0.6183343338114492, 'v31.L500': 0.33338277357701296, 'v31.L1000': 0.5752735332381068}}}\n",
      "{'_id': 8, 'target': 'v31_minmax', 'K': 5, 'cluster': {'cluster_id': 1, 'size': 147, 'cluster_mean': {'v31.spectralCentroid': 65.7022612933962, 'v31.spectralCrest': 26.47376522638182, 'v31.spectralDecrease': -32.81223680586642, 'v31.spectralEntropy': 0.18445602877194442, 'v31.spectralFlatness': 0.005448625728844228, 'v31.spectralFlux': 2.539615321952457e-06, 'v31.spectralKurtosis': 344.66136739717945, 'v31.spectralRolloffPoint': 138.80110456789205, 'v31.spectralSkewness': 11.6192787208005, 'v31.spectralSlope': -1.7706623133151103e-10, 'v31.spectralSpread': 61.384172171140506, 'v31.pitch': 399.5392375380314, 'v31.harmonicRatio': 0.018383227377511437, 'v31.LA': 37.62763797120657, 'v31.ratioLGLA': 1.6236980922316462, 'v31.ratioLCLA': 1.4370030214927898, 'v31.diffLCLA': 16.214999964953712, 'v31.peakloc': 0.6159863945578231, 'v31.peakval': 3.368201650631367, 'v31.pos_slope': 1.0903350682841244, 'v31.neg_slope': -1.097371703109251, 'v31.PR': 28.89069754855682, 'v31.Fo': 0.6319727891156462, 'v31.AMfactor': 0.4257986646985949, 'v31.DAM': 2.7907781908598475, 'v31.peakloc_unweightedSPL': 1.1666666666666667, 'v31.L63': 7.566165498006353, 'v31.L125': 5.193190778730934, 'v31.L250': 4.702785478841986, 'v31.L500': 4.140779220494909, 'v31.L1000': 3.870368876995942}, 'cluster_var': {'v31.spectralCentroid': 31.79197951555697, 'v31.spectralCrest': 1.982216313659026, 'v31.spectralDecrease': 531.2839040094749, 'v31.spectralEntropy': 0.0012981154782642115, 'v31.spectralFlatness': 7.395373563061405e-06, 'v31.spectralFlux': 4.809998827293379e-12, 'v31.spectralKurtosis': 48871.27911145891, 'v31.spectralRolloffPoint': 705.3527139152079, 'v31.spectralSkewness': 7.572247975149396, 'v31.spectralSlope': 1.9269922648141785e-20, 'v31.spectralSpread': 172.02000573871277, 'v31.pitch': 7.656847422513839, 'v31.harmonicRatio': 0.0003194931515123032, 'v31.LA': 11.823645737159717, 'v31.ratioLGLA': 0.007747521169909071, 'v31.ratioLCLA': 0.00638601784489586, 'v31.diffLCLA': 3.3391250830143284, 'v31.peakloc': 0.011746109402665168, 'v31.peakval': 68.15720432448177, 'v31.pos_slope': 0.4704080238101847, 'v31.neg_slope': 0.5154589878154381, 'v31.PR': 9106.18839761872, 'v31.Fo': 0.01273786226819494, 'v31.AMfactor': 0.13191949001448608, 'v31.DAM': 1.13013101593838, 'v31.peakloc_unweightedSPL': 0.7923744292237441, 'v31.L63': 1.1506914338066652, 'v31.L125': 0.6562008613710654, 'v31.L250': 1.830824388492712, 'v31.L500': 1.1241824069984507, 'v31.L1000': 0.9583717185721056}}}\n",
      "{'_id': 9, 'target': 'v31_minmax', 'K': 5, 'cluster': {'cluster_id': 2, 'size': 143, 'cluster_mean': {'v31.spectralCentroid': 59.649985326049475, 'v31.spectralCrest': 29.814277615841863, 'v31.spectralDecrease': -409.563100481376, 'v31.spectralEntropy': 0.09136111926032443, 'v31.spectralFlatness': 0.01041154843886085, 'v31.spectralFlux': 1.7123654690914242e-05, 'v31.spectralKurtosis': 1372.3779248941516, 'v31.spectralRolloffPoint': 91.78545091092704, 'v31.spectralSkewness': 23.97655532778519, 'v31.spectralSlope': -1.5243096938029965e-09, 'v31.spectralSpread': 74.38484472372447, 'v31.pitch': 399.9155064304856, 'v31.harmonicRatio': 0.004857255488657663, 'v31.LA': 43.72282105400808, 'v31.ratioLGLA': 1.447582032079679, 'v31.ratioLCLA': 1.2671269799419105, 'v31.diffLCLA': 11.500208721075818, 'v31.peakloc': 0.10909090909090909, 'v31.peakval': 0.6975429443978965, 'v31.pos_slope': 0.4940779850262645, 'v31.neg_slope': -0.49074302267546627, 'v31.PR': 5.561008270645166, 'v31.Fo': 0.6601398601398601, 'v31.AMfactor': 0.12376725490247951, 'v31.DAM': 1.4088452012588917, 'v31.peakloc_unweightedSPL': 0.6307692307692307, 'v31.L63': 7.234180188678855, 'v31.L125': 5.343331561307292, 'v31.L250': 4.108235264757858, 'v31.L500': 3.1264781782874547, 'v31.L1000': 3.1309977126109003}, 'cluster_var': {'v31.spectralCentroid': 15.656659320765238, 'v31.spectralCrest': 0.9729858032303168, 'v31.spectralDecrease': 248617.79426934532, 'v31.spectralEntropy': 0.0010412702441854398, 'v31.spectralFlatness': 1.9072683639598354e-05, 'v31.spectralFlux': 1.341060031399373e-10, 'v31.spectralKurtosis': 2074027.2078205452, 'v31.spectralRolloffPoint': 359.96978052643243, 'v31.spectralSkewness': 97.62972496943887, 'v31.spectralSlope': 1.063345837612287e-18, 'v31.spectralSpread': 292.99128179869797, 'v31.pitch': 1.0209003503676306, 'v31.harmonicRatio': 5.761915730103806e-05, 'v31.LA': 14.562667087950443, 'v31.ratioLGLA': 0.006347442181552761, 'v31.ratioLCLA': 0.0052109222581434075, 'v31.diffLCLA': 6.0880461579721405, 'v31.peakloc': 0.01840268886043534, 'v31.peakval': 0.5137841846331697, 'v31.pos_slope': 0.03226588658956379, 'v31.neg_slope': 0.025761894686218898, 'v31.PR': 25.723284764890877, 'v31.Fo': 0.02663941692110706, 'v31.AMfactor': 0.002016619753358141, 'v31.DAM': 0.047652922994155154, 'v31.peakloc_unweightedSPL': 0.17256771397616466, 'v31.L63': 1.1000524726136935, 'v31.L125': 0.8101101271892052, 'v31.L250': 0.45116607173829015, 'v31.L500': 0.4180615669505791, 'v31.L1000': 1.6555738202786117}}}\n",
      "{'_id': 10, 'target': 'v31_minmax', 'K': 5, 'cluster': {'cluster_id': 3, 'size': 213, 'cluster_mean': {'v31.spectralCentroid': 61.74445671542338, 'v31.spectralCrest': 28.401081260053356, 'v31.spectralDecrease': -81.01697815233604, 'v31.spectralEntropy': 0.13457792662767884, 'v31.spectralFlatness': 0.007777963972336948, 'v31.spectralFlux': 9.089568003988259e-06, 'v31.spectralKurtosis': 535.4756131791013, 'v31.spectralRolloffPoint': 110.28613637723456, 'v31.spectralSkewness': 15.749229107229084, 'v31.spectralSlope': -6.369772666610667e-10, 'v31.spectralSpread': 67.5238796358461, 'v31.pitch': 399.9741802141532, 'v31.harmonicRatio': 0.008349202994423632, 'v31.LA': 41.75331691470563, 'v31.ratioLGLA': 1.551234901244216, 'v31.ratioLCLA': 1.3528204355519955, 'v31.diffLCLA': 14.511092447894782, 'v31.peakloc': 0.613849765258216, 'v31.peakval': 0.7936645243900302, 'v31.pos_slope': 0.5996550556583371, 'v31.neg_slope': -0.6095702313776581, 'v31.PR': 9.789682063516679, 'v31.Fo': 0.6859154929577465, 'v31.AMfactor': 0.23276011816226408, 'v31.DAM': 1.8788072511114917, 'v31.peakloc_unweightedSPL': 0.6431924882629108, 'v31.L63': 7.262872216829521, 'v31.L125': 5.182411864185635, 'v31.L250': 4.336634775036418, 'v31.L500': 3.202434810472993, 'v31.L1000': 2.7166377051198647}, 'cluster_var': {'v31.spectralCentroid': 16.54778213447655, 'v31.spectralCrest': 0.7957737722700156, 'v31.spectralDecrease': 2647.8148840769773, 'v31.spectralEntropy': 0.0006718438917703202, 'v31.spectralFlatness': 1.4368828621344161e-05, 'v31.spectralFlux': 4.95400719908508e-11, 'v31.spectralKurtosis': 100496.77872438045, 'v31.spectralRolloffPoint': 396.13645446582643, 'v31.spectralSkewness': 13.64930272060224, 'v31.spectralSlope': 2.340462033965447e-19, 'v31.spectralSpread': 285.92356340688747, 'v31.pitch': 0.04892255296039216, 'v31.harmonicRatio': 0.0003032967308826842, 'v31.LA': 13.795577482981539, 'v31.ratioLGLA': 0.008890589669592438, 'v31.ratioLCLA': 0.006407821704397102, 'v31.diffLCLA': 5.897578081692898, 'v31.peakloc': 0.015196430153246536, 'v31.peakval': 0.5036918849315876, 'v31.pos_slope': 0.053896734806279996, 'v31.neg_slope': 0.051639898054234336, 'v31.PR': 92.6606522616353, 'v31.Fo': 0.015366728673930383, 'v31.AMfactor': 0.013672877522766861, 'v31.DAM': 0.1991217048635796, 'v31.peakloc_unweightedSPL': 0.17652183541500563, 'v31.L63': 0.9026173101693117, 'v31.L125': 0.42859359382927464, 'v31.L250': 0.39106615486805524, 'v31.L500': 0.42410966327637123, 'v31.L1000': 0.49650655491503054}}}\n",
      "{'_id': 11, 'target': 'v31_minmax', 'K': 5, 'cluster': {'cluster_id': 4, 'size': 123, 'cluster_mean': {'v31.spectralCentroid': 73.6261737885381, 'v31.spectralCrest': 29.0172108522461, 'v31.spectralDecrease': -191.27219452939684, 'v31.spectralEntropy': 0.1317311465786953, 'v31.spectralFlatness': 0.028779963673442564, 'v31.spectralFlux': 2.3918576516959955e-05, 'v31.spectralKurtosis': 489.3855854155741, 'v31.spectralRolloffPoint': 162.0835849853988, 'v31.spectralSkewness': 15.658822023929055, 'v31.spectralSlope': -1.8727210225987096e-09, 'v31.spectralSpread': 127.52930110655538, 'v31.pitch': 399.9874615116661, 'v31.harmonicRatio': 0.002367434900486376, 'v31.LA': 49.26534821469721, 'v31.ratioLGLA': 1.317206701623842, 'v31.ratioLCLA': 1.1625431642668687, 'v31.diffLCLA': 7.958645846185473, 'v31.peakloc': 0.1565040650406504, 'v31.peakval': 0.49972779329355477, 'v31.pos_slope': 0.41076466719786203, 'v31.neg_slope': -0.419527774442051, 'v31.PR': 5.3600250174730295, 'v31.Fo': 0.6560975609756098, 'v31.AMfactor': 0.10271004954690516, 'v31.DAM': 1.2832247842784839, 'v31.peakloc_unweightedSPL': 0.5788617886178862, 'v31.L63': 6.8692951685833, 'v31.L125': 5.009805900759811, 'v31.L250': 3.834539135534187, 'v31.L500': 3.02276589202494, 'v31.L1000': 2.4412678318717536}, 'cluster_var': {'v31.spectralCentroid': 54.5123576718055, 'v31.spectralCrest': 0.6461932147966084, 'v31.spectralDecrease': 21207.467207953843, 'v31.spectralEntropy': 0.0007807518708948238, 'v31.spectralFlatness': 9.205894648889155e-05, 'v31.spectralFlux': 1.4700761487393542e-10, 'v31.spectralKurtosis': 85560.9668537218, 'v31.spectralRolloffPoint': 2102.86799662006, 'v31.spectralSkewness': 13.260259064191127, 'v31.spectralSlope': 9.220129151238706e-19, 'v31.spectralSpread': 404.8132177637059, 'v31.pitch': 0.004143605448896204, 'v31.harmonicRatio': 1.2199707915998275e-05, 'v31.LA': 9.030353587281397, 'v31.ratioLGLA': 0.002998960885405395, 'v31.ratioLCLA': 0.0013534779443939763, 'v31.diffLCLA': 2.669655303098911, 'v31.peakloc': 0.03967046514727441, 'v31.peakval': 0.23831056797378922, 'v31.pos_slope': 0.026665191038302387, 'v31.neg_slope': 0.027346777104308575, 'v31.PR': 24.024808973087165, 'v31.Fo': 0.02772890843662537, 'v31.AMfactor': 0.0009504500912216107, 'v31.DAM': 0.02339469497794501, 'v31.peakloc_unweightedSPL': 0.12512328401972536, 'v31.L63': 0.6660276356629801, 'v31.L125': 0.35458265091587154, 'v31.L250': 0.3644461049391195, 'v31.L500': 0.5678551657120859, 'v31.L1000': 0.5857157340557587}}}\n",
      "{'_id': 12, 'target': 'v31_minmax', 'K': 6, 'cluster': {'cluster_id': 0, 'size': 81, 'cluster_mean': {'v31.spectralCentroid': 59.377712477253596, 'v31.spectralCrest': 30.2970330865588, 'v31.spectralDecrease': -578.9486758581638, 'v31.spectralEntropy': 0.07648126829999106, 'v31.spectralFlatness': 0.012267284893174569, 'v31.spectralFlux': 2.761457277180837e-05, 'v31.spectralKurtosis': 1787.542068345339, 'v31.spectralRolloffPoint': 89.60950122397149, 'v31.spectralSkewness': 27.870861277637974, 'v31.spectralSlope': -2.5028743213333794e-09, 'v31.spectralSpread': 77.60983527626443, 'v31.pitch': 399.8474294295361, 'v31.harmonicRatio': 0.002248980368796132, 'v31.LA': 46.17024696281972, 'v31.ratioLGLA': 1.392344732988153, 'v31.ratioLCLA': 1.2176493460562126, 'v31.diffLCLA': 9.984916938574786, 'v31.peakloc': 0.2049382716049383, 'v31.peakval': 0.5916166873563885, 'v31.pos_slope': 0.47278550015046944, 'v31.neg_slope': -0.4720279162910156, 'v31.PR': 5.0847743716431255, 'v31.Fo': 0.6407407407407407, 'v31.AMfactor': 0.11895413517726365, 'v31.DAM': 1.36140185154259, 'v31.peakloc_unweightedSPL': 0.5765432098765433, 'v31.L63': 6.9901924058721825, 'v31.L125': 5.429204447487622, 'v31.L250': 4.06546625631297, 'v31.L500': 3.0920536579280316, 'v31.L1000': 2.64264591929597}, 'cluster_var': {'v31.spectralCentroid': 18.379847628975423, 'v31.spectralCrest': 0.4648008875074406, 'v31.spectralDecrease': 322785.7425598031, 'v31.spectralEntropy': 0.0005535911036212576, 'v31.spectralFlatness': 2.9990522674387596e-05, 'v31.spectralFlux': 1.0824418120720153e-10, 'v31.spectralKurtosis': 2645822.1871319963, 'v31.spectralRolloffPoint': 413.8447122890022, 'v31.spectralSkewness': 101.69085367541587, 'v31.spectralSlope': 6.326713215705967e-19, 'v31.spectralSpread': 422.42201523773963, 'v31.pitch': 1.8022403135240577, 'v31.harmonicRatio': 2.8370048365898222e-05, 'v31.LA': 9.935860822455028, 'v31.ratioLGLA': 0.004103553407172441, 'v31.ratioLCLA': 0.003112507698631506, 'v31.diffLCLA': 5.581372262349989, 'v31.peakloc': 0.04435030864197532, 'v31.peakval': 0.2530874178007038, 'v31.pos_slope': 0.02926106324178541, 'v31.neg_slope': 0.028893287192109336, 'v31.PR': 17.34744387558098, 'v31.Fo': 0.02944444444444445, 'v31.AMfactor': 0.0025967242953103594, 'v31.DAM': 0.031051805553048806, 'v31.peakloc_unweightedSPL': 0.12156790123456788, 'v31.L63': 0.7288179220003859, 'v31.L125': 1.0504250507586577, 'v31.L250': 0.5288701982640421, 'v31.L500': 0.3593041753829096, 'v31.L1000': 0.6467185542274999}}}\n",
      "{'_id': 13, 'target': 'v31_minmax', 'K': 6, 'cluster': {'cluster_id': 1, 'size': 212, 'cluster_mean': {'v31.spectralCentroid': 53.6183466488266, 'v31.spectralCrest': 30.052451407243904, 'v31.spectralDecrease': -138.44454824353593, 'v31.spectralEntropy': 0.0812570853238876, 'v31.spectralFlatness': 0.002863353569338417, 'v31.spectralFlux': 6.601649032479076e-07, 'v31.spectralKurtosis': 2436.683848118134, 'v31.spectralRolloffPoint': 75.7934706307852, 'v31.spectralSkewness': 31.91798644725713, 'v31.spectralSlope': -5.746104223958981e-11, 'v31.spectralSpread': 38.542019549851254, 'v31.pitch': 399.9381262029225, 'v31.harmonicRatio': 0.10841557177708587, 'v31.LA': 27.600324884674922, 'v31.ratioLGLA': 1.9043299631238597, 'v31.ratioLCLA': 1.8124886712718697, 'v31.diffLCLA': 22.142361703192545, 'v31.peakloc': 0.5478773584905661, 'v31.peakval': 0.7415539713539331, 'v31.pos_slope': 0.5825888699588317, 'v31.neg_slope': -0.58273959243714, 'v31.PR': 11.307603976463776, 'v31.Fo': 0.6226415094339622, 'v31.AMfactor': 0.19746742261610248, 'v31.DAM': 2.0470312115739304, 'v31.peakloc_unweightedSPL': 0.6528301886792454, 'v31.L63': 8.45824563493139, 'v31.L125': 4.62282174655422, 'v31.L250': 3.84946928994646, 'v31.L500': 2.903160067395819, 'v31.L1000': 2.3977312513332913}, 'cluster_var': {'v31.spectralCentroid': 6.420005352381284, 'v31.spectralCrest': 0.7208217534319692, 'v31.spectralDecrease': 22428.58951938509, 'v31.spectralEntropy': 0.0007496691095472303, 'v31.spectralFlatness': 1.912708501524617e-06, 'v31.spectralFlux': 8.820018325972478e-13, 'v31.spectralKurtosis': 3314335.096485067, 'v31.spectralRolloffPoint': 275.3708154322227, 'v31.spectralSkewness': 119.966405765861, 'v31.spectralSlope': 6.6418283318134475e-21, 'v31.spectralSpread': 75.8386079497336, 'v31.pitch': 0.4035367877747754, 'v31.harmonicRatio': 0.00650871063756931, 'v31.LA': 6.215967109479777, 'v31.ratioLGLA': 0.03632619437295678, 'v31.ratioLCLA': 0.019919181952096993, 'v31.diffLCLA': 5.403405823288161, 'v31.peakloc': 0.030457558347491726, 'v31.peakval': 0.8766914121972085, 'v31.pos_slope': 0.06105307037399656, 'v31.neg_slope': 0.059750013508328134, 'v31.PR': 254.63623693052816, 'v31.Fo': 0.0411910936242511, 'v31.AMfactor': 0.012594239084610106, 'v31.DAM': 0.28627752839087056, 'v31.peakloc_unweightedSPL': 0.17567915586157548, 'v31.L63': 2.582254137584936, 'v31.L125': 0.9967124834118628, 'v31.L250': 0.6287063144315488, 'v31.L500': 0.31734937757815196, 'v31.L1000': 0.4633738752428993}}}\n",
      "{'_id': 14, 'target': 'v31_minmax', 'K': 6, 'cluster': {'cluster_id': 2, 'size': 96, 'cluster_mean': {'v31.spectralCentroid': 61.11952405325846, 'v31.spectralCrest': 29.210201898303367, 'v31.spectralDecrease': -180.6169235899021, 'v31.spectralEntropy': 0.11161707077077525, 'v31.spectralFlatness': 0.009762679704006344, 'v31.spectralFlux': 7.663912265905529e-06, 'v31.spectralKurtosis': 762.9374446311516, 'v31.spectralRolloffPoint': 100.0874804782455, 'v31.spectralSkewness': 18.467434813465964, 'v31.spectralSlope': -6.321111954148057e-10, 'v31.spectralSpread': 75.34266736808, 'v31.pitch': 400.0, 'v31.harmonicRatio': 0.009844077432955378, 'v31.LA': 41.31961582267768, 'v31.ratioLGLA': 1.49796891620019, 'v31.ratioLCLA': 1.32205120262891, 'v31.diffLCLA': 12.973242089417987, 'v31.peakloc': 0.09427083333333335, 'v31.peakval': 0.730577681163989, 'v31.pos_slope': 0.49517632473947387, 'v31.neg_slope': -0.5020219787775303, 'v31.PR': 7.140532439689905, 'v31.Fo': 0.6708333333333334, 'v31.AMfactor': 0.1294903170288826, 'v31.DAM': 1.469322464580321, 'v31.peakloc_unweightedSPL': 0.61875, 'v31.L63': 7.6439219001923595, 'v31.L125': 5.1933503813000295, 'v31.L250': 4.058498445534618, 'v31.L500': 3.1149593956037425, 'v31.L1000': 3.457114256881035}, 'cluster_var': {'v31.spectralCentroid': 20.304497209773917, 'v31.spectralCrest': 1.0503654703434573, 'v31.spectralDecrease': 49192.08305696848, 'v31.spectralEntropy': 0.0010156811346827474, 'v31.spectralFlatness': 1.691172929275535e-05, 'v31.spectralFlux': 3.1725277923305026e-11, 'v31.spectralKurtosis': 583871.1653953646, 'v31.spectralRolloffPoint': 473.5107328359169, 'v31.spectralSkewness': 37.776642084819805, 'v31.spectralSlope': 2.0456322044384275e-19, 'v31.spectralSpread': 325.80810256708486, 'v31.pitch': 0.0, 'v31.harmonicRatio': 0.0003992490779718986, 'v31.LA': 20.517687925275776, 'v31.ratioLGLA': 0.007415734991652893, 'v31.ratioLCLA': 0.008010732873699203, 'v31.diffLCLA': 5.182598944166599, 'v31.peakloc': 0.009203673245614037, 'v31.peakval': 0.6401912461051301, 'v31.pos_slope': 0.033620803033033775, 'v31.neg_slope': 0.0256045306945611, 'v31.PR': 87.8101971449147, 'v31.Fo': 0.02566666666666668, 'v31.AMfactor': 0.0022416397984540482, 'v31.DAM': 0.058328984961742235, 'v31.peakloc_unweightedSPL': 0.18469736842105267, 'v31.L63': 1.7381234306790139, 'v31.L125': 0.5015877213250876, 'v31.L250': 0.34604829094903755, 'v31.L500': 0.5323055319174343, 'v31.L1000': 2.1589870541392657}}}\n",
      "{'_id': 15, 'target': 'v31_minmax', 'K': 6, 'cluster': {'cluster_id': 3, 'size': 146, 'cluster_mean': {'v31.spectralCentroid': 65.81346056244445, 'v31.spectralCrest': 26.450305649476906, 'v31.spectralDecrease': -32.6447704391847, 'v31.spectralEntropy': 0.18510339064480252, 'v31.spectralFlatness': 0.005498907077452817, 'v31.spectralFlux': 2.5684716440250422e-06, 'v31.spectralKurtosis': 337.78431350443236, 'v31.spectralRolloffPoint': 139.22557047308317, 'v31.spectralSkewness': 11.53280445215675, 'v31.spectralSlope': -1.7914599629045401e-10, 'v31.spectralSpread': 61.69765992685393, 'v31.pitch': 399.5360816307576, 'v31.harmonicRatio': 0.018433147066589082, 'v31.LA': 37.76132827375741, 'v31.ratioLGLA': 1.6203512443770982, 'v31.ratioLCLA': 1.4342543303940094, 'v31.diffLCLA': 16.17647379791369, 'v31.peakloc': 0.6184931506849315, 'v31.peakval': 3.390413770025289, 'v31.pos_slope': 1.0969873409062005, 'v31.neg_slope': -1.101594336703225, 'v31.PR': 29.080395540887334, 'v31.Fo': 0.6301369863013698, 'v31.AMfactor': 0.42794679768160127, 'v31.DAM': 2.796171284576005, 'v31.peakloc_unweightedSPL': 1.1616438356164382, 'v31.L63': 7.575582167463605, 'v31.L125': 5.2039825354293665, 'v31.L250': 4.709951619764552, 'v31.L500': 4.134717493887603, 'v31.L1000': 3.882318546940711}, 'cluster_var': {'v31.spectralCentroid': 31.676858920294887, 'v31.spectralCrest': 1.9627741432070331, 'v31.spectralDecrease': 533.9234341233846, 'v31.spectralEntropy': 0.0012863307446978822, 'v31.spectralFlatness': 7.5848411097113075e-06, 'v31.spectralFlux': 4.815266683064038e-12, 'v31.spectralKurtosis': 46974.822111458416, 'v31.spectralRolloffPoint': 704.1618937012147, 'v31.spectralSkewness': 7.236328249160201, 'v31.spectralSlope': 1.9270215397599457e-20, 'v31.spectralSpread': 174.56495430483452, 'v31.pitch': 7.708179086324515, 'v31.harmonicRatio': 0.00032039510970689186, 'v31.LA': 11.344893139962569, 'v31.ratioLGLA': 0.007431973140145181, 'v31.ratioLCLA': 0.006271970047894032, 'v31.diffLCLA': 3.3459448807663743, 'v31.peakloc': 0.009379782711384026, 'v31.peakval': 68.55530357090653, 'v31.pos_slope': 0.4679732405337665, 'v31.neg_slope': 0.5164296074194683, 'v31.PR': 9163.934749593061, 'v31.Fo': 0.012326877657061879, 'v31.AMfactor': 0.13212307706643528, 'v31.DAM': 1.1327830191782302, 'v31.peakloc_unweightedSPL': 0.7982427964100149, 'v31.L63': 1.1460665295929917, 'v31.L125': 0.6483804168639415, 'v31.L250': 1.8362714240946565, 'v31.L500': 1.1298213564462751, 'v31.L1000': 0.94608108799718}}}\n",
      "{'_id': 16, 'target': 'v31_minmax', 'K': 6, 'cluster': {'cluster_id': 4, 'size': 107, 'cluster_mean': {'v31.spectralCentroid': 74.61098149617511, 'v31.spectralCrest': 28.968808010035364, 'v31.spectralDecrease': -185.85024512874668, 'v31.spectralEntropy': 0.13447327214446553, 'v31.spectralFlatness': 0.030213693602269623, 'v31.spectralFlux': 2.3749555868778096e-05, 'v31.spectralKurtosis': 479.7889950495989, 'v31.spectralRolloffPoint': 167.89559792196326, 'v31.spectralSkewness': 15.443247156438865, 'v31.spectralSlope': -1.8106794415675912e-09, 'v31.spectralSpread': 130.61832553299084, 'v31.pitch': 399.9881626327285, 'v31.harmonicRatio': 0.002144106548416257, 'v31.LA': 49.38726597541014, 'v31.ratioLGLA': 1.3132958573493765, 'v31.ratioLCLA': 1.1589181734536262, 'v31.diffLCLA': 7.804808242263043, 'v31.peakloc': 0.13551401869158877, 'v31.peakval': 0.4938567590071924, 'v31.pos_slope': 0.4079114554556, 'v31.neg_slope': -0.4168456616479387, 'v31.PR': 5.162698963925417, 'v31.Fo': 0.6626168224299066, 'v31.AMfactor': 0.10210171471540062, 'v31.DAM': 1.2710571582561272, 'v31.peakloc_unweightedSPL': 0.6065420560747664, 'v31.L63': 6.849524796086791, 'v31.L125': 4.980139711981239, 'v31.L250': 3.8431507420571407, 'v31.L500': 3.0476116595666896, 'v31.L1000': 2.4081851082638295}, 'cluster_var': {'v31.spectralCentroid': 53.36181395924978, 'v31.spectralCrest': 0.5480028076176279, 'v31.spectralDecrease': 20595.082464843497, 'v31.spectralEntropy': 0.0007016258912985498, 'v31.spectralFlatness': 8.942749973384958e-05, 'v31.spectralFlux': 1.2175006459218421e-10, 'v31.spectralKurtosis': 85808.36780264274, 'v31.spectralRolloffPoint': 2074.945001471976, 'v31.spectralSkewness': 11.806390179170698, 'v31.spectralSlope': 7.061847472724243e-19, 'v31.spectralSpread': 376.5298309048605, 'v31.pitch': 0.004093291351857288, 'v31.harmonicRatio': 8.903437820146783e-06, 'v31.LA': 9.290757585542845, 'v31.ratioLGLA': 0.002999946870745432, 'v31.ratioLCLA': 0.0011036778108380913, 'v31.diffLCLA': 2.2208481489341207, 'v31.peakloc': 0.035047610650678886, 'v31.peakval': 0.21377083188372412, 'v31.pos_slope': 0.025737868239546945, 'v31.neg_slope': 0.023301318488058304, 'v31.PR': 24.911989145391466, 'v31.Fo': 0.026702521601128553, 'v31.AMfactor': 0.0009611729483595381, 'v31.DAM': 0.023323555883766247, 'v31.peakloc_unweightedSPL': 0.13137189208252514, 'v31.L63': 0.6690049178096398, 'v31.L125': 0.2866659472775385, 'v31.L250': 0.37616208323384964, 'v31.L500': 0.5843624194086185, 'v31.L1000': 0.47671826473264994}}}\n",
      "{'_id': 17, 'target': 'v31_minmax', 'K': 6, 'cluster': {'cluster_id': 5, 'size': 201, 'cluster_mean': {'v31.spectralCentroid': 61.7153506781297, 'v31.spectralCrest': 28.380006825846227, 'v31.spectralDecrease': -79.69223546173815, 'v31.spectralEntropy': 0.13508099906755433, 'v31.spectralFlatness': 0.007678305662096217, 'v31.spectralFlux': 9.038160075023168e-06, 'v31.spectralKurtosis': 537.9063822176206, 'v31.spectralRolloffPoint': 110.45155321242493, 'v31.spectralSkewness': 15.728070965977716, 'v31.spectralSlope': -6.332532324580524e-10, 'v31.spectralSpread': 67.06261819873228, 'v31.pitch': 399.9726387344012, 'v31.harmonicRatio': 0.008333749247192001, 'v31.LA': 41.76795400521528, 'v31.ratioLGLA': 1.5545258321939233, 'v31.ratioLCLA': 1.3547850763611686, 'v31.diffLCLA': 14.596325788408244, 'v31.peakloc': 0.6291044776119403, 'v31.peakval': 0.8060701378846494, 'v31.pos_slope': 0.604602690225506, 'v31.neg_slope': -0.6147557567952963, 'v31.PR': 9.877924771696712, 'v31.Fo': 0.6870646766169154, 'v31.AMfactor': 0.23684529742392407, 'v31.DAM': 1.8996900200498603, 'v31.peakloc_unweightedSPL': 0.6547263681592039, 'v31.L63': 7.212325201803139, 'v31.L125': 5.175218420502249, 'v31.L250': 4.352369971161367, 'v31.L500': 3.225532651541894, 'v31.L1000': 2.7033441839950827}, 'cluster_var': {'v31.spectralCentroid': 16.281736200995677, 'v31.spectralCrest': 0.7272144661735078, 'v31.spectralDecrease': 2580.4377450794022, 'v31.spectralEntropy': 0.0006221208209956072, 'v31.spectralFlatness': 1.474297346925155e-05, 'v31.spectralFlux': 4.307841879698754e-11, 'v31.spectralKurtosis': 102345.31810607664, 'v31.spectralRolloffPoint': 383.3455794011915, 'v31.spectralSkewness': 13.424398188234317, 'v31.spectralSlope': 2.0546111617113906e-19, 'v31.spectralSpread': 292.65810050554205, 'v31.pitch': 0.05181551841692121, 'v31.harmonicRatio': 0.0003175110407756313, 'v31.LA': 13.577657068891273, 'v31.ratioLGLA': 0.009255349673631705, 'v31.ratioLCLA': 0.006610813778071175, 'v31.diffLCLA': 6.086424973458446, 'v31.peakloc': 0.011086194029850744, 'v31.peakval': 0.5256630436281934, 'v31.pos_slope': 0.05532595310939412, 'v31.neg_slope': 0.05352148937802367, 'v31.PR': 92.435462543598, 'v31.Fo': 0.014831840796019895, 'v31.AMfactor': 0.01373445879018454, 'v31.DAM': 0.2002397186800653, 'v31.peakloc_unweightedSPL': 0.18599004975124378, 'v31.L63': 0.7754720019829807, 'v31.L125': 0.4425757220449217, 'v31.L250': 0.39300041106476175, 'v31.L500': 0.4203745945696322, 'v31.L1000': 0.49125055443355714}}}\n",
      "{'_id': 18, 'target': 'IOA_minmax', 'K': 3, 'cluster': {'cluster_id': 0, 'size': 61, 'cluster_mean': {'025_100Hz.prominence': 0.15596248479034203, '025_100Hz.L5-L95': 0.5585456884865021, '050_200Hz.prominence': 0.03336940458650499, '050_200Hz.L5-L95': 0.541766423960259, '100_400Hz.prominence': 0.051427505696796584, '100_400Hz.L5-L95': 0.20892927424992, '200_800Hz.prominence': 0.04499446738921769, '200_800Hz.L5-L95': 0.1911639785378727}, 'cluster_var': {'025_100Hz.prominence': 0.05411634386996007, '025_100Hz.L5-L95': 0.017481655061216194, '050_200Hz.prominence': 0.016595022785002446, '050_200Hz.L5-L95': 0.015261343213226057, '100_400Hz.prominence': 0.023930343089803192, '100_400Hz.L5-L95': 0.015176361052863576, '200_800Hz.prominence': 0.019973650889108366, '200_800Hz.L5-L95': 0.016580295023270072}}}\n",
      "{'_id': 19, 'target': 'IOA_minmax', 'K': 3, 'cluster': {'cluster_id': 1, 'size': 464, 'cluster_mean': {'025_100Hz.prominence': 0.06274587777067901, '025_100Hz.L5-L95': 0.2536876462551969, '050_200Hz.prominence': 0.00834652606544885, '050_200Hz.L5-L95': 0.16742191151210742, '100_400Hz.prominence': 0.01612766218630783, '100_400Hz.L5-L95': 0.08619354168168973, '200_800Hz.prominence': 0.018592976862914425, '200_800Hz.L5-L95': 0.08579250292479582}, 'cluster_var': {'025_100Hz.prominence': 0.0020154466282851966, '025_100Hz.L5-L95': 0.005025119381438355, '050_200Hz.prominence': 6.387842638476841e-05, '050_200Hz.L5-L95': 0.004535167519138473, '100_400Hz.prominence': 0.0003545380965462109, '100_400Hz.L5-L95': 0.0012195927577091199, '200_800Hz.prominence': 0.0006693510585207844, '200_800Hz.L5-L95': 0.0018372069629604736}}}\n",
      "{'_id': 20, 'target': 'IOA_minmax', 'K': 3, 'cluster': {'cluster_id': 2, 'size': 318, 'cluster_mean': {'025_100Hz.prominence': 0.08848690599067952, '025_100Hz.L5-L95': 0.40452047951760184, '050_200Hz.prominence': 0.009279991551666148, '050_200Hz.L5-L95': 0.27634541593248724, '100_400Hz.prominence': 0.019592709546472013, '100_400Hz.L5-L95': 0.12194174866343682, '200_800Hz.prominence': 0.019414167675143087, '200_800Hz.L5-L95': 0.11933491460300927}, 'cluster_var': {'025_100Hz.prominence': 0.0078115968931469085, '025_100Hz.L5-L95': 0.010476201361257036, '050_200Hz.prominence': 0.0001421483218905767, '050_200Hz.L5-L95': 0.008941376181462603, '100_400Hz.prominence': 0.0008244644838723442, '100_400Hz.L5-L95': 0.0027297634988669014, '200_800Hz.prominence': 0.0006831746032389814, '200_800Hz.L5-L95': 0.003077460824112859}}}\n",
      "{'_id': 21, 'target': 'IOA_minmax', 'K': 4, 'cluster': {'cluster_id': 0, 'size': 449, 'cluster_mean': {'025_100Hz.prominence': 0.059911446189422554, '025_100Hz.L5-L95': 0.24308214391531857, '050_200Hz.prominence': 0.008785790476945745, '050_200Hz.L5-L95': 0.17939834965948115, '100_400Hz.prominence': 0.017168994550330163, '100_400Hz.L5-L95': 0.09134451193242164, '200_800Hz.prominence': 0.01891126900381499, '200_800Hz.L5-L95': 0.09077085193635309}, 'cluster_var': {'025_100Hz.prominence': 0.0018780763017138414, '025_100Hz.L5-L95': 0.0036299752503685632, '050_200Hz.prominence': 8.544181358214847e-05, '050_200Hz.L5-L95': 0.00570556630220919, '100_400Hz.prominence': 0.0004514350694769655, '100_400Hz.L5-L95': 0.0015052561358014844, '200_800Hz.prominence': 0.0007116727581790809, '200_800Hz.L5-L95': 0.0020954217163704305}}}\n",
      "{'_id': 22, 'target': 'IOA_minmax', 'K': 4, 'cluster': {'cluster_id': 1, 'size': 8, 'cluster_mean': {'025_100Hz.prominence': 0.7990190408876259, '025_100Hz.L5-L95': 0.524059159075865, '050_200Hz.prominence': 0.16258537646443968, '050_200Hz.L5-L95': 0.46529267786653256, '100_400Hz.prominence': 0.10289140241428729, '100_400Hz.L5-L95': 0.15344389800298378, '200_800Hz.prominence': 0.0627093574375833, '200_800Hz.L5-L95': 0.14144521270191301}, 'cluster_var': {'025_100Hz.prominence': 0.01280680109625725, '025_100Hz.L5-L95': 0.026100414610567342, '050_200Hz.prominence': 0.11562369134777596, '050_200Hz.L5-L95': 0.0796577201756171, '100_400Hz.prominence': 0.04068152620599309, '100_400Hz.L5-L95': 0.011470708325234698, '200_800Hz.prominence': 0.007489975254303817, '200_800Hz.L5-L95': 0.0068726774721762}}}\n",
      "{'_id': 23, 'target': 'IOA_minmax', 'K': 4, 'cluster': {'cluster_id': 2, 'size': 127, 'cluster_mean': {'025_100Hz.prominence': 0.07422177534326711, '025_100Hz.L5-L95': 0.4581555382804116, '050_200Hz.prominence': 0.011094646696329938, '050_200Hz.L5-L95': 0.453704316602198, '100_400Hz.prominence': 0.03196695353306688, '100_400Hz.L5-L95': 0.18675838151972204, '200_800Hz.prominence': 0.032258095731505496, '200_800Hz.L5-L95': 0.174947673875779}, 'cluster_var': {'025_100Hz.prominence': 0.004412211426039803, '025_100Hz.L5-L95': 0.02077844867830531, '050_200Hz.prominence': 0.0003432946657544685, '050_200Hz.L5-L95': 0.012683390165528876, '100_400Hz.prominence': 0.009979325494840551, '100_400Hz.L5-L95': 0.008896743903240686, '200_800Hz.prominence': 0.00999530109843645, '200_800Hz.L5-L95': 0.010694351838596622}}}\n",
      "{'_id': 24, 'target': 'IOA_minmax', 'K': 4, 'cluster': {'cluster_id': 3, 'size': 259, 'cluster_mean': {'025_100Hz.prominence': 0.0928497213439975, '025_100Hz.L5-L95': 0.4204546644574832, '050_200Hz.prominence': 0.008512880391030297, '050_200Hz.L5-L95': 0.2189834457189427, '100_400Hz.prominence': 0.016443945430955554, '100_400Hz.L5-L95': 0.09867341177542927, '200_800Hz.prominence': 0.0172042328019895, '200_800Hz.L5-L95': 0.0977266335459871}, 'cluster_var': {'025_100Hz.prominence': 0.0051099460667117244, '025_100Hz.L5-L95': 0.007850631793487559, '050_200Hz.prominence': 0.00010287281962968632, '050_200Hz.L5-L95': 0.006153811226490596, '100_400Hz.prominence': 0.00040367725927358515, '100_400Hz.L5-L95': 0.0016179051691330916, '200_800Hz.prominence': 0.0003764773013233338, '200_800Hz.L5-L95': 0.0017033100641846784}}}\n",
      "{'_id': 25, 'target': 'IOA_minmax', 'K': 5, 'cluster': {'cluster_id': 0, 'size': 163, 'cluster_mean': {'025_100Hz.prominence': 0.099424499908646, '025_100Hz.L5-L95': 0.46192500702575795, '050_200Hz.prominence': 0.007316636238005566, '050_200Hz.L5-L95': 0.1901694523923217, '100_400Hz.prominence': 0.015371939719096946, '100_400Hz.L5-L95': 0.09307912581621457, '200_800Hz.prominence': 0.0185322693805571, '200_800Hz.L5-L95': 0.0971252459379893}, 'cluster_var': {'025_100Hz.prominence': 0.005978533044992956, '025_100Hz.L5-L95': 0.007942627162638617, '050_200Hz.prominence': 3.708527926350326e-05, '050_200Hz.L5-L95': 0.004745427840663469, '100_400Hz.prominence': 0.00035282860603165337, '100_400Hz.L5-L95': 0.0018788978898191036, '200_800Hz.prominence': 0.0005101454575649652, '200_800Hz.L5-L95': 0.0019800998096748458}}}\n",
      "{'_id': 26, 'target': 'IOA_minmax', 'K': 5, 'cluster': {'cluster_id': 1, 'size': 8, 'cluster_mean': {'025_100Hz.prominence': 0.7990190408876259, '025_100Hz.L5-L95': 0.524059159075865, '050_200Hz.prominence': 0.16258537646443968, '050_200Hz.L5-L95': 0.46529267786653256, '100_400Hz.prominence': 0.10289140241428729, '100_400Hz.L5-L95': 0.15344389800298378, '200_800Hz.prominence': 0.0627093574375833, '200_800Hz.L5-L95': 0.14144521270191301}, 'cluster_var': {'025_100Hz.prominence': 0.01280680109625725, '025_100Hz.L5-L95': 0.026100414610567342, '050_200Hz.prominence': 0.11562369134777596, '050_200Hz.L5-L95': 0.0796577201756171, '100_400Hz.prominence': 0.04068152620599309, '100_400Hz.L5-L95': 0.011470708325234698, '200_800Hz.prominence': 0.007489975254303817, '200_800Hz.L5-L95': 0.0068726774721762}}}\n",
      "{'_id': 27, 'target': 'IOA_minmax', 'K': 5, 'cluster': {'cluster_id': 2, 'size': 73, 'cluster_mean': {'025_100Hz.prominence': 0.08085797609207612, '025_100Hz.L5-L95': 0.5394228303523987, '050_200Hz.prominence': 0.01199332779211961, '050_200Hz.L5-L95': 0.5067261629413863, '100_400Hz.prominence': 0.03568779111093794, '100_400Hz.L5-L95': 0.1959379247507308, '200_800Hz.prominence': 0.03549866561553379, '200_800Hz.L5-L95': 0.17898226366407363}, 'cluster_var': {'025_100Hz.prominence': 0.00580115791433815, '025_100Hz.L5-L95': 0.015124679984718383, '050_200Hz.prominence': 0.0004671309732108493, '050_200Hz.L5-L95': 0.012172921555760984, '100_400Hz.prominence': 0.015936926054655288, '100_400Hz.L5-L95': 0.012838783988480078, '200_800Hz.prominence': 0.01618593125722618, '200_800Hz.L5-L95': 0.014123535856717455}}}\n",
      "{'_id': 28, 'target': 'IOA_minmax', 'K': 5, 'cluster': {'cluster_id': 3, 'size': 214, 'cluster_mean': {'025_100Hz.prominence': 0.07115403003982292, '025_100Hz.L5-L95': 0.31241350285821157, '050_200Hz.prominence': 0.011551560234364103, '050_200Hz.L5-L95': 0.31324300526605575, '100_400Hz.prominence': 0.024129544057374164, '100_400Hz.L5-L95': 0.13837329608589385, '200_800Hz.prominence': 0.02346803836116712, '200_800Hz.L5-L95': 0.13155781688794302}, 'cluster_var': {'025_100Hz.prominence': 0.003036400315647622, '025_100Hz.L5-L95': 0.004736812607193774, '050_200Hz.prominence': 0.00021170398099430092, '050_200Hz.L5-L95': 0.004467933489432185, '100_400Hz.prominence': 0.0011139748427065165, '100_400Hz.L5-L95': 0.002336405565277144, '200_800Hz.prominence': 0.0014349681446784157, '200_800Hz.L5-L95': 0.003558118177693405}}}\n",
      "{'_id': 29, 'target': 'IOA_minmax', 'K': 5, 'cluster': {'cluster_id': 4, 'size': 385, 'cluster_mean': {'025_100Hz.prominence': 0.05984076485035856, '025_100Hz.L5-L95': 0.245972108315578, '050_200Hz.prominence': 0.007840305324898263, '050_200Hz.L5-L95': 0.1554919113900955, '100_400Hz.prominence': 0.01494313289565165, '100_400Hz.L5-L95': 0.08104198073576777, '200_800Hz.prominence': 0.016648081891103558, '200_800Hz.L5-L95': 0.08113031698874727}, 'cluster_var': {'025_100Hz.prominence': 0.0017608328118684036, '025_100Hz.L5-L95': 0.004320655662070244, '050_200Hz.prominence': 5.456337130595951e-05, '050_200Hz.L5-L95': 0.0031580994342273595, '100_400Hz.prominence': 0.0002916734974144314, '100_400Hz.L5-L95': 0.0008936622319496173, '200_800Hz.prominence': 0.0003087072988035744, '200_800Hz.L5-L95': 0.00150041864932564}}}\n",
      "{'_id': 30, 'target': 'IOA_minmax', 'K': 6, 'cluster': {'cluster_id': 0, 'size': 8, 'cluster_mean': {'025_100Hz.prominence': 0.7990190408876259, '025_100Hz.L5-L95': 0.524059159075865, '050_200Hz.prominence': 0.16258537646443968, '050_200Hz.L5-L95': 0.46529267786653256, '100_400Hz.prominence': 0.10289140241428729, '100_400Hz.L5-L95': 0.15344389800298378, '200_800Hz.prominence': 0.0627093574375833, '200_800Hz.L5-L95': 0.14144521270191301}, 'cluster_var': {'025_100Hz.prominence': 0.01280680109625725, '025_100Hz.L5-L95': 0.026100414610567342, '050_200Hz.prominence': 0.11562369134777596, '050_200Hz.L5-L95': 0.0796577201756171, '100_400Hz.prominence': 0.04068152620599309, '100_400Hz.L5-L95': 0.011470708325234698, '200_800Hz.prominence': 0.007489975254303817, '200_800Hz.L5-L95': 0.0068726774721762}}}\n",
      "{'_id': 31, 'target': 'IOA_minmax', 'K': 6, 'cluster': {'cluster_id': 1, 'size': 208, 'cluster_mean': {'025_100Hz.prominence': 0.07397730764985604, '025_100Hz.L5-L95': 0.30702806339819005, '050_200Hz.prominence': 0.01170163187291379, '050_200Hz.L5-L95': 0.31162024645171793, '100_400Hz.prominence': 0.02403098883055365, '100_400Hz.L5-L95': 0.13815062380288887, '200_800Hz.prominence': 0.023183395774695158, '200_800Hz.L5-L95': 0.13132235137328624}, 'cluster_var': {'025_100Hz.prominence': 0.0034734820644991113, '025_100Hz.L5-L95': 0.004379857351185458, '050_200Hz.prominence': 0.00021750864922806984, '050_200Hz.L5-L95': 0.004415944990940416, '100_400Hz.prominence': 0.0011115207245770815, '100_400Hz.L5-L95': 0.002280924400470033, '200_800Hz.prominence': 0.001387729599341056, '200_800Hz.L5-L95': 0.003526301104634872}}}\n",
      "{'_id': 32, 'target': 'IOA_minmax', 'K': 6, 'cluster': {'cluster_id': 2, 'size': 382, 'cluster_mean': {'025_100Hz.prominence': 0.05853798390066563, '025_100Hz.L5-L95': 0.24590037182887087, '050_200Hz.prominence': 0.007782811169328749, '050_200Hz.L5-L95': 0.15487125295194584, '100_400Hz.prominence': 0.014915036092709746, '100_400Hz.L5-L95': 0.08086867133663209, '200_800Hz.prominence': 0.016668290390842777, '200_800Hz.L5-L95': 0.08102598740895417}, 'cluster_var': {'025_100Hz.prominence': 0.001533707038943751, '025_100Hz.L5-L95': 0.004342423880702301, '050_200Hz.prominence': 5.428586691454415e-05, '050_200Hz.L5-L95': 0.003132459584435749, '100_400Hz.prominence': 0.00029304250101223634, '100_400Hz.L5-L95': 0.000890504335478034, '200_800Hz.prominence': 0.0003107395593217666, '200_800Hz.L5-L95': 0.001499851001648681}}}\n",
      "{'_id': 33, 'target': 'IOA_minmax', 'K': 6, 'cluster': {'cluster_id': 3, 'size': 74, 'cluster_mean': {'025_100Hz.prominence': 0.08132122072264981, '025_100Hz.L5-L95': 0.5336762372102395, '050_200Hz.prominence': 0.012070796625843101, '050_200Hz.L5-L95': 0.5058066508291883, '100_400Hz.prominence': 0.021904238307510808, '100_400Hz.L5-L95': 0.1837904576654549, '200_800Hz.prominence': 0.02162390588647441, '200_800Hz.L5-L95': 0.16680957292342607}, 'cluster_var': {'025_100Hz.prominence': 0.0056976002196221145, '025_100Hz.L5-L95': 0.01527955711458261, '050_200Hz.prominence': 0.0004604337507210535, '050_200Hz.L5-L95': 0.012073487118032192, '100_400Hz.prominence': 0.0028090750442615452, '100_400Hz.L5-L95': 0.00381067435290638, '200_800Hz.prominence': 0.0030522616694037656, '200_800Hz.L5-L95': 0.004609314392411988}}}\n",
      "{'_id': 34, 'target': 'IOA_minmax', 'K': 6, 'cluster': {'cluster_id': 4, 'size': 1, 'cluster_mean': {'025_100Hz.prominence': 0.030409375417852835, '025_100Hz.L5-L95': 0.6654793676458775, '050_200Hz.prominence': 0.004056944307449712, '050_200Hz.L5-L95': 0.4684362858990231, '100_400Hz.prominence': 1.0, '100_400Hz.L5-L95': 1.0, '200_800Hz.prominence': 1.0, '200_800Hz.L5-L95': 1.0}, 'cluster_var': {'025_100Hz.prominence': nan, '025_100Hz.L5-L95': nan, '050_200Hz.prominence': nan, '050_200Hz.L5-L95': nan, '100_400Hz.prominence': nan, '100_400Hz.L5-L95': nan, '200_800Hz.prominence': nan, '200_800Hz.L5-L95': nan}}}\n",
      "{'_id': 35, 'target': 'IOA_minmax', 'K': 6, 'cluster': {'cluster_id': 5, 'size': 170, 'cluster_mean': {'025_100Hz.prominence': 0.09751478285660435, '025_100Hz.L5-L95': 0.46043584663189796, '050_200Hz.prominence': 0.007378864029352343, '050_200Hz.L5-L95': 0.19418271358783953, '100_400Hz.prominence': 0.015945649526406744, '100_400Hz.L5-L95': 0.09447504642153054, '200_800Hz.prominence': 0.01914254088406923, '200_800Hz.L5-L95': 0.09808694422270338}, 'cluster_var': {'025_100Hz.prominence': 0.00583647471913456, '025_100Hz.L5-L95': 0.00771660461177765, '050_200Hz.prominence': 3.6340466268775496e-05, '050_200Hz.L5-L95': 0.004992487994975885, '100_400Hz.prominence': 0.0003865770056730374, '100_400Hz.L5-L95': 0.0019875262294950626, '200_800Hz.prominence': 0.0006004321647028858, '200_800Hz.L5-L95': 0.002119947585489927}}}\n",
      "{'_id': 36, 'target': 'combined_minmax', 'K': 3, 'cluster': {'cluster_id': 0, 'size': 135, 'cluster_mean': {'v31.spectralCentroid': 52.91605937161627, 'v31.spectralCrest': 30.558230821264523, 'v31.spectralDecrease': -340.3170170623795, 'v31.spectralEntropy': 0.06348816631592928, 'v31.spectralFlatness': 0.0035471799804741855, 'v31.spectralFlux': 3.743006210978817e-06, 'v31.spectralKurtosis': 3137.1249488491085, 'v31.spectralRolloffPoint': 68.79319782358561, 'v31.spectralSkewness': 37.61360866615936, 'v31.spectralSlope': -4.373873420540182e-10, 'v31.spectralSpread': 39.203881537735654, 'v31.pitch': 399.87566378707197, 'v31.harmonicRatio': 0.10332094750432841, 'v31.LA': 29.58547886247851, 'v31.ratioLGLA': 1.8534519174778004, 'v31.ratioLCLA': 1.7604990583154685, 'v31.diffLCLA': 20.93515365336857, 'v31.peakloc': 0.47111111111111115, 'v31.peakval': 1.5468163041926772, 'v31.pos_slope': 0.6380898818650337, 'v31.neg_slope': -0.6715265105576375, 'v31.PR': 14.525455907068194, 'v31.Fo': 0.6377777777777778, 'v31.AMfactor': 0.21872730592473622, 'v31.DAM': 2.065780405150754, 'v31.peakloc_unweightedSPL': 0.5918518518518519, 'v31.L63': 8.484746707470523, 'v31.L125': 4.885092989140728, 'v31.L250': 3.9928786770150073, 'v31.L500': 3.0219290314900205, 'v31.L1000': 2.6113535043025777, '025_100Hz.prominence': 0.08429417811147581, '025_100Hz.L5-L95': 0.4166245254941241, '050_200Hz.prominence': 0.008467868604045742, '050_200Hz.L5-L95': 0.2323289718273606, '100_400Hz.prominence': 0.021021304647493237, '100_400Hz.L5-L95': 0.10813812669360427, '200_800Hz.prominence': 0.024390848553003365, '200_800Hz.L5-L95': 0.12104910688740213}, 'cluster_var': {'v31.spectralCentroid': 12.533525735858948, 'v31.spectralCrest': 0.316579509591597, 'v31.spectralDecrease': 190283.04046210568, 'v31.spectralEntropy': 0.0003053015795470097, 'v31.spectralFlatness': 1.7426284670779973e-05, 'v31.spectralFlux': 5.633961111104982e-11, 'v31.spectralKurtosis': 1039713.8730353408, 'v31.spectralRolloffPoint': 326.6046584992637, 'v31.spectralSkewness': 46.71310200416067, 'v31.spectralSlope': 8.145155795358903e-19, 'v31.spectralSpread': 246.99410770789072, 'v31.pitch': 1.1545818383546316, 'v31.harmonicRatio': 0.00906853329263755, 'v31.LA': 38.227665146171965, 'v31.ratioLGLA': 0.06767247855950219, 'v31.ratioLCLA': 0.07063772603612854, 'v31.diffLCLA': 29.599488005139985, 'v31.peakloc': 0.05942039800995026, 'v31.peakval': 65.66510533564839, 'v31.pos_slope': 0.32951666656317447, 'v31.neg_slope': 0.3922337991675006, 'v31.PR': 3988.3753036440085, 'v31.Fo': 0.040129353233830836, 'v31.AMfactor': 0.10652201339630121, 'v31.DAM': 1.0976835155763207, 'v31.peakloc_unweightedSPL': 0.11791818684355998, 'v31.L63': 2.4674141318282587, 'v31.L125': 1.7501395553549863, 'v31.L250': 1.342687917904563, 'v31.L500': 0.7997602386703009, 'v31.L1000': 1.0956724370013562, '025_100Hz.prominence': 0.010755782299753344, '025_100Hz.L5-L95': 0.03185518764757093, '050_200Hz.prominence': 8.734691417796087e-05, '050_200Hz.L5-L95': 0.029515083360035145, '100_400Hz.prominence': 0.007490917639246828, '100_400Hz.L5-L95': 0.009225067401443889, '200_800Hz.prominence': 0.007505397660277914, '200_800Hz.L5-L95': 0.008484677637067815}}}\n",
      "{'_id': 37, 'target': 'combined_minmax', 'K': 3, 'cluster': {'cluster_id': 1, 'size': 701, 'cluster_mean': {'v31.spectralCentroid': 63.54403597325804, 'v31.spectralCrest': 28.459070179099985, 'v31.spectralDecrease': -112.31757669016488, 'v31.spectralEntropy': 0.13398890642128863, 'v31.spectralFlatness': 0.010870340123581478, 'v31.spectralFlux': 1.0394456477483768e-05, 'v31.spectralKurtosis': 639.4802501125921, 'v31.spectralRolloffPoint': 119.46665627855934, 'v31.spectralSkewness': 16.735244651122876, 'v31.spectralSlope': -7.949531892984447e-10, 'v31.spectralSpread': 75.10826508430338, 'v31.pitch': 399.88132900565546, 'v31.harmonicRatio': 0.020606892221961725, 'v31.LA': 40.72966453514552, 'v31.ratioLGLA': 1.5479208125394535, 'v31.ratioLCLA': 1.377037008463649, 'v31.diffLCLA': 14.148598605278936, 'v31.peakloc': 0.43766048502139804, 'v31.peakval': 1.1004459821173147, 'v31.pos_slope': 0.6340685035551804, 'v31.neg_slope': -0.6351603037261289, 'v31.PR': 11.809437268622164, 'v31.Fo': 0.6527817403708988, 'v31.AMfactor': 0.2197345999232003, 'v31.DAM': 1.8844088331255204, 'v31.peakloc_unweightedSPL': 0.7517831669044223, 'v31.L63': 7.400201904255699, 'v31.L125': 5.072836382902836, 'v31.L250': 4.194626849746873, 'v31.L500': 3.2992297790594676, 'v31.L1000': 2.923027845138593, '025_100Hz.prominence': 0.07853276004641971, '025_100Hz.L5-L95': 0.3157391579088999, '050_200Hz.prominence': 0.010926652337856632, '050_200Hz.L5-L95': 0.23455322090846906, '100_400Hz.prominence': 0.019889640840753783, '100_400Hz.L5-L95': 0.10795069689060667, '200_800Hz.prominence': 0.020200599331300275, '200_800Hz.L5-L95': 0.10252117991881932}, 'cluster_var': {'v31.spectralCentroid': 53.540044401260424, 'v31.spectralCrest': 2.2317545358289266, 'v31.spectralDecrease': 13124.741287110402, 'v31.spectralEntropy': 0.0016887642964218662, 'v31.spectralFlatness': 9.71503874890575e-05, 'v31.spectralFlux': 1.3337324899096223e-10, 'v31.spectralKurtosis': 184748.45759049192, 'v31.spectralRolloffPoint': 1361.0407103236344, 'v31.spectralSkewness': 28.47015861678923, 'v31.spectralSlope': 8.329484142870978e-19, 'v31.spectralSpread': 907.4259568311628, 'v31.pitch': 1.7506002051117957, 'v31.harmonicRatio': 0.0015741309836668307, 'v31.LA': 49.45564059668574, 'v31.ratioLGLA': 0.030774003797787153, 'v31.ratioLCLA': 0.033515494280811554, 'v31.diffLCLA': 18.879749871908864, 'v31.peakloc': 0.07070823313633585, 'v31.peakval': 3.4086700445302274, 'v31.pos_slope': 0.13859939231147037, 'v31.neg_slope': 0.1338438392958598, 'v31.PR': 1331.9952563864442, 'v31.Fo': 0.022810108008966764, 'v31.AMfactor': 0.028936650592561928, 'v31.DAM': 0.46821476157835873, 'v31.peakloc_unweightedSPL': 0.35184324434481346, 'v31.L63': 1.332728449649654, 'v31.L125': 0.5318131851005091, 'v31.L250': 0.6891765692652837, 'v31.L500': 0.6920902505216173, 'v31.L1000': 1.056501301614778, '025_100Hz.prominence': 0.008164884011339022, '025_100Hz.L5-L95': 0.012476233788676428, '050_200Hz.prominence': 0.0015602978792611116, '050_200Hz.L5-L95': 0.014158010765450578, '100_400Hz.prominence': 0.0013189602326727126, '100_400Hz.L5-L95': 0.00276324318075504, '200_800Hz.prominence': 0.0010774346291516708, '200_800Hz.L5-L95': 0.0032015797391987707}}}\n",
      "{'_id': 38, 'target': 'combined_minmax', 'K': 3, 'cluster': {'cluster_id': 2, 'size': 7, 'cluster_mean': {'v31.spectralCentroid': 50.43528934445846, 'v31.spectralCrest': 31.42540829382807, 'v31.spectralDecrease': -1368.1635877501285, 'v31.spectralEntropy': 0.029230532451640447, 'v31.spectralFlatness': 0.0025665210670234298, 'v31.spectralFlux': 7.645802200038942e-06, 'v31.spectralKurtosis': 10227.924237963804, 'v31.spectralRolloffPoint': 56.32860053474174, 'v31.spectralSkewness': 69.33458884951935, 'v31.spectralSlope': -9.242391853318453e-10, 'v31.spectralSpread': 30.055496698066104, 'v31.pitch': 400.0, 'v31.harmonicRatio': 0.04475473865529134, 'v31.LA': 29.308236475810105, 'v31.ratioLGLA': 2.0782891066107507, 'v31.ratioLCLA': 1.791567447516728, 'v31.diffLCLA': 19.245424009687802, 'v31.peakloc': 0.3785714285714286, 'v31.peakval': 0.6994568309530689, 'v31.pos_slope': 0.5784366165528609, 'v31.neg_slope': -0.4381255732066195, 'v31.PR': 5.546746540844216, 'v31.Fo': 0.7999999999999999, 'v31.AMfactor': 0.19690412157319997, 'v31.DAM': 1.6471420319309247, 'v31.peakloc_unweightedSPL': 0.5285714285714286, 'v31.L63': 6.971333814458068, 'v31.L125': 5.099264435362858, 'v31.L250': 4.17578486013035, 'v31.L500': 3.1910218324786137, 'v31.L1000': 2.935366614827713, '025_100Hz.prominence': 0.04792230360750864, '025_100Hz.L5-L95': 0.406058101548546, '050_200Hz.prominence': 0.00808764817017602, '050_200Hz.L5-L95': 0.4033060023134441, '100_400Hz.prominence': 0.010040054421362377, '100_400Hz.L5-L95': 0.17769707436717302, '200_800Hz.prominence': 0.013160629990446805, '200_800Hz.L5-L95': 0.17260719125440152}, 'cluster_var': {'v31.spectralCentroid': 6.034219986418347, 'v31.spectralCrest': 0.04910869841154534, 'v31.spectralDecrease': 868524.9806346749, 'v31.spectralEntropy': 9.130876993567468e-05, 'v31.spectralFlatness': 6.316881061919917e-06, 'v31.spectralFlux': 6.032216977102009e-11, 'v31.spectralKurtosis': 9920631.728137167, 'v31.spectralRolloffPoint': 127.97118219929757, 'v31.spectralSkewness': 192.5555952761649, 'v31.spectralSlope': 9.576099427119394e-19, 'v31.spectralSpread': 152.95649758081683, 'v31.pitch': 0.0, 'v31.harmonicRatio': 0.0033533801790558214, 'v31.LA': 79.83285526343187, 'v31.ratioLGLA': 0.4263381382597385, 'v31.ratioLCLA': 0.2994591183348371, 'v31.diffLCLA': 77.59338237217538, 'v31.peakloc': 0.11654761904761905, 'v31.peakval': 0.8263561029342902, 'v31.pos_slope': 0.05380605028685959, 'v31.neg_slope': 0.0157492675652889, 'v31.PR': 13.783804894136779, 'v31.Fo': 0.016666666666666677, 'v31.AMfactor': 0.02164057136587608, 'v31.DAM': 0.25067516479094526, 'v31.peakloc_unweightedSPL': 0.04238095238095239, 'v31.L63': 6.254172201692355, 'v31.L125': 0.5846921491914344, 'v31.L250': 1.6851398141481615, 'v31.L500': 0.632420696644112, 'v31.L1000': 0.9596978630172176, '025_100Hz.prominence': 0.00025694270483650196, '025_100Hz.L5-L95': 0.025460852083631257, '050_200Hz.prominence': 3.799129191094944e-05, '050_200Hz.L5-L95': 0.03131675409726486, '100_400Hz.prominence': 0.00011458180982394974, '100_400Hz.L5-L95': 0.006665515204609364, '200_800Hz.prominence': 0.00019081356905808412, '200_800Hz.L5-L95': 0.01021308022754318}}}\n",
      "{'_id': 39, 'target': 'combined_minmax', 'K': 4, 'cluster': {'cluster_id': 0, 'size': 611, 'cluster_mean': {'v31.spectralCentroid': 64.73137927099748, 'v31.spectralCrest': 28.248182122191288, 'v31.spectralDecrease': -101.71319317636028, 'v31.spectralEntropy': 0.14086203857898272, 'v31.spectralFlatness': 0.011752728204494209, 'v31.spectralFlux': 1.106577838184384e-05, 'v31.spectralKurtosis': 509.5263323408639, 'v31.spectralRolloffPoint': 124.82752485121618, 'v31.spectralSkewness': 15.363235904262627, 'v31.spectralSlope': -8.21531044438651e-10, 'v31.spectralSpread': 79.08172023418238, 'v31.pitch': 399.8781519761406, 'v31.harmonicRatio': 0.014454381010153812, 'v31.LA': 41.88814122563584, 'v31.ratioLGLA': 1.5190337967865701, 'v31.ratioLCLA': 1.3423715937279908, 'v31.diffLCLA': 13.508314778983232, 'v31.peakloc': 0.43363338788870703, 'v31.peakval': 1.1479892264117368, 'v31.pos_slope': 0.6442705039987773, 'v31.neg_slope': -0.6465847809904067, 'v31.PR': 11.86542357801067, 'v31.Fo': 0.65810147299509, 'v31.AMfactor': 0.2252253301812715, 'v31.DAM': 1.8857125402121493, 'v31.peakloc_unweightedSPL': 0.7623567921440262, 'v31.L63': 7.320320979156486, 'v31.L125': 5.127236499262687, 'v31.L250': 4.229612477476306, 'v31.L500': 3.3408959987135427, 'v31.L1000': 2.971863646426201, '025_100Hz.prominence': 0.07869956376634119, '025_100Hz.L5-L95': 0.3116454173955557, '050_200Hz.prominence': 0.011002074584321602, '050_200Hz.L5-L95': 0.23872372060608932, '100_400Hz.prominence': 0.02000498480274549, '100_400Hz.L5-L95': 0.10922351929963277, '200_800Hz.prominence': 0.020342735529859702, '200_800Hz.L5-L95': 0.10256173701792688}, 'cluster_var': {'v31.spectralCentroid': 49.0326573228118, 'v31.spectralCrest': 2.149523185892486, 'v31.spectralDecrease': 8764.108404750998, 'v31.spectralEntropy': 0.0015216472152045427, 'v31.spectralFlatness': 0.00010245411888251431, 'v31.spectralFlux': 1.3648417788772964e-10, 'v31.spectralKurtosis': 75211.94550330736, 'v31.spectralRolloffPoint': 1300.2396284169597, 'v31.spectralSkewness': 16.847148018360762, 'v31.spectralSlope': 7.819947795595644e-19, 'v31.spectralSpread': 876.5939297190353, 'v31.pitch': 1.884994532448888, 'v31.harmonicRatio': 0.0007353797605527612, 'v31.LA': 38.36765833823722, 'v31.ratioLGLA': 0.021967686430321424, 'v31.ratioLCLA': 0.021296202752583236, 'v31.diffLCLA': 15.005639114521184, 'v31.peakloc': 0.07239562930965092, 'v31.peakval': 3.6729506013445383, 'v31.pos_slope': 0.14721507793923533, 'v31.neg_slope': 0.14319153151452818, 'v31.PR': 1470.1976005632812, 'v31.Fo': 0.02070065198143328, 'v31.AMfactor': 0.03023521636759052, 'v31.DAM': 0.4879019124520199, 'v31.peakloc_unweightedSPL': 0.37044951839231605, 'v31.L63': 1.1890224469463788, 'v31.L125': 0.47362582125234315, 'v31.L250': 0.6495711832837098, 'v31.L500': 0.7180569289638606, 'v31.L1000': 1.1085739620712767, '025_100Hz.prominence': 0.008068200542991389, '025_100Hz.L5-L95': 0.011760234380363388, '050_200Hz.prominence': 0.0017314067561667664, '050_200Hz.L5-L95': 0.01330151614365179, '100_400Hz.prominence': 0.001318146328880396, '100_400Hz.L5-L95': 0.0025337092179849104, '200_800Hz.prominence': 0.0010455797789904945, '200_800Hz.L5-L95': 0.0031605508481664987}}}\n",
      "{'_id': 40, 'target': 'combined_minmax', 'K': 4, 'cluster': {'cluster_id': 1, 'size': 172, 'cluster_mean': {'v31.spectralCentroid': 54.523052586588534, 'v31.spectralCrest': 30.126974259672927, 'v31.spectralDecrease': -206.0298633386191, 'v31.spectralEntropy': 0.07921933872971028, 'v31.spectralFlatness': 0.004307776801060858, 'v31.spectralFlux': 4.263549243261821e-06, 'v31.spectralKurtosis': 1967.76115386927, 'v31.spectralRolloffPoint': 77.84849693759739, 'v31.spectralSkewness': 29.56015737885168, 'v31.spectralSlope': -4.419652101449466e-10, 'v31.spectralSpread': 44.65678454170863, 'v31.pitch': 399.9218486467317, 'v31.harmonicRatio': 0.07848196670907832, 'v31.LA': 31.140964354519408, 'v31.ratioLGLA': 1.7889782014554094, 'v31.ratioLCLA': 1.6781950368895522, 'v31.diffLCLA': 19.668652439551995, 'v31.peakloc': 0.46686046511627904, 'v31.peakval': 1.3119388051168563, 'v31.pos_slope': 0.5966085563978367, 'v31.neg_slope': -0.6131331123948381, 'v31.PR': 14.896392656192461, 'v31.Fo': 0.633139534883721, 'v31.AMfactor': 0.2025536520592979, 'v31.DAM': 1.945415626747679, 'v31.peakloc_unweightedSPL': 0.6488372093023256, 'v31.L63': 8.22264665714177, 'v31.L125': 4.728575282373833, 'v31.L250': 3.9666732353907204, 'v31.L500': 3.0087507546277696, 'v31.L1000': 2.544149817811052, '025_100Hz.prominence': 0.08653242974027694, '025_100Hz.L5-L95': 0.3720955559672742, '050_200Hz.prominence': 0.01006151283836304, '050_200Hz.L5-L95': 0.21133366146449836, '100_400Hz.prominence': 0.022648858692019283, '100_400Hz.L5-L95': 0.10046032603903712, '200_800Hz.prominence': 0.024714707974970343, '200_800Hz.L5-L95': 0.10816799816058338}, 'cluster_var': {'v31.spectralCentroid': 13.072500465821454, 'v31.spectralCrest': 0.40947524374676353, 'v31.spectralDecrease': 53554.41742623726, 'v31.spectralEntropy': 0.0003490369639108168, 'v31.spectralFlatness': 2.014972660437576e-05, 'v31.spectralFlux': 6.521699288047467e-11, 'v31.spectralKurtosis': 302225.6289591828, 'v31.spectralRolloffPoint': 344.0608166797538, 'v31.spectralSkewness': 24.18288910159447, 'v31.spectralSlope': 7.992763206865876e-19, 'v31.spectralSpread': 289.0157689099414, 'v31.pitch': 0.5037180056859636, 'v31.harmonicRatio': 0.006323331454264932, 'v31.LA': 43.39403364384436, 'v31.ratioLGLA': 0.04642984071610383, 'v31.ratioLCLA': 0.053575298484242605, 'v31.diffLCLA': 23.81527905804534, 'v31.peakloc': 0.05757955936352507, 'v31.peakval': 52.16232439744372, 'v31.pos_slope': 0.28249186665106896, 'v31.neg_slope': 0.32557299183436683, 'v31.PR': 3304.7388448915303, 'v31.Fo': 0.03801815585475318, 'v31.AMfactor': 0.09100942772283675, 'v31.DAM': 0.8861401062718641, 'v31.peakloc_unweightedSPL': 0.1883612131102952, 'v31.L63': 2.1921472757737335, 'v31.L125': 1.183848839966162, 'v31.L250': 1.3802812925479269, 'v31.L500': 0.7394138788956178, 'v31.L1000': 0.593636816115981, '025_100Hz.prominence': 0.012407448543321585, '025_100Hz.L5-L95': 0.024649145068212332, '050_200Hz.prominence': 0.0002683903721013308, '050_200Hz.L5-L95': 0.020978306741459826, '100_400Hz.prominence': 0.0065143581617099315, '100_400Hz.L5-L95': 0.008435494372584982, '200_800Hz.prominence': 0.006492068200499036, '200_800Hz.L5-L95': 0.007832425446559571}}}\n",
      "{'_id': 41, 'target': 'combined_minmax', 'K': 4, 'cluster': {'cluster_id': 2, 'size': 4, 'cluster_mean': {'v31.spectralCentroid': 48.94349681924324, 'v31.spectralCrest': 31.524742819751697, 'v31.spectralDecrease': -825.8205255330035, 'v31.spectralEntropy': 0.025011243464076655, 'v31.spectralFlatness': 0.0010046831991529365, 'v31.spectralFlux': 1.5898417847603922e-06, 'v31.spectralKurtosis': 12422.507095252404, 'v31.spectralRolloffPoint': 49.42737742905308, 'v31.spectralSkewness': 78.88130034892137, 'v31.spectralSlope': -2.0131460658287857e-10, 'v31.spectralSpread': 21.87890879944069, 'v31.pitch': 400.0, 'v31.harmonicRatio': 0.07742642188608148, 'v31.LA': 22.961192377727222, 'v31.ratioLGLA': 2.525368053206516, 'v31.ratioLCLA': 2.1740915724804215, 'v31.diffLCLA': 25.60290202246862, 'v31.peakloc': 0.5, 'v31.peakval': 0.40962471546673446, 'v31.pos_slope': 0.5667720439893004, 'v31.neg_slope': -0.4450443393654612, 'v31.PR': 7.378443056959426, 'v31.Fo': 0.85, 'v31.AMfactor': 0.24873467280676267, 'v31.DAM': 1.9095540945549203, 'v31.peakloc_unweightedSPL': 0.65, 'v31.L63': 8.106660054643143, 'v31.L125': 5.4526378791552546, 'v31.L250': 4.4622114179636005, 'v31.L500': 3.1383178743068414, 'v31.L1000': 2.7517339200136273, '025_100Hz.prominence': 0.051572964685162835, '025_100Hz.L5-L95': 0.3486754708197797, '050_200Hz.prominence': 0.011210122249093832, '050_200Hz.L5-L95': 0.3537779875688581, '100_400Hz.prominence': 0.013424806197261068, '100_400Hz.L5-L95': 0.1565927742804879, '200_800Hz.prominence': 0.01674553302652308, '200_800Hz.L5-L95': 0.19337176758167687}, 'cluster_var': {'v31.spectralCentroid': 0.46431157701581566, 'v31.spectralCrest': 0.04506144857094633, 'v31.spectralDecrease': 354688.0345806344, 'v31.spectralEntropy': 7.784438138222449e-05, 'v31.spectralFlatness': 1.3272895910474556e-07, 'v31.spectralFlux': 5.609240889846548e-12, 'v31.spectralKurtosis': 4642118.82787357, 'v31.spectralRolloffPoint': 3.577075757777845, 'v31.spectralSkewness': 87.70442901416209, 'v31.spectralSlope': 1.1471731923524747e-19, 'v31.spectralSpread': 10.55231882515253, 'v31.pitch': 0.0, 'v31.harmonicRatio': 0.0033833801056645713, 'v31.LA': 23.537458537515672, 'v31.ratioLGLA': 0.22873848391613538, 'v31.ratioLCLA': 0.1404464288403469, 'v31.diffLCLA': 20.420640215548257, 'v31.peakloc': 0.13166666666666668, 'v31.peakval': 0.08174426413580745, 'v31.pos_slope': 0.032211469159493446, 'v31.neg_slope': 0.023962545223171372, 'v31.PR': 13.456932056923796, 'v31.Fo': 0.010000000000000005, 'v31.AMfactor': 0.03427287229659463, 'v31.DAM': 0.26706873269664166, 'v31.peakloc_unweightedSPL': 0.030000000000000013, 'v31.L63': 3.399768620142652, 'v31.L125': 0.30187654494835775, 'v31.L250': 2.51457662419928, 'v31.L500': 0.3869934111262446, 'v31.L1000': 0.32724191470206865, '025_100Hz.prominence': 2.0398254129047416e-05, '025_100Hz.L5-L95': 0.032160789020370104, '050_200Hz.prominence': 4.2775271413089706e-05, '050_200Hz.L5-L95': 0.009346972040392159, '100_400Hz.prominence': 0.0001862026573256067, '100_400Hz.L5-L95': 0.005326511155681016, '200_800Hz.prominence': 0.0003146373993173943, '200_800Hz.L5-L95': 0.016286344443050754}}}\n",
      "{'_id': 42, 'target': 'combined_minmax', 'K': 4, 'cluster': {'cluster_id': 3, 'size': 56, 'cluster_mean': {'v31.spectralCentroid': 52.07986591220756, 'v31.spectralCrest': 30.849453462053045, 'v31.spectralDecrease': -595.8461437561981, 'v31.spectralEntropy': 0.05195112096447042, 'v31.spectralFlatness': 0.0034119659989063178, 'v31.spectralFlux': 6.151071719854875e-06, 'v31.spectralKurtosis': 4355.668878259133, 'v31.spectralRolloffPoint': 63.75427310930878, 'v31.spectralSkewness': 44.78172114736868, 'v31.spectralSlope': -7.857215794561986e-10, 'v31.spectralSpread': 36.899869091435036, 'v31.pitch': 399.78423963499006, 'v31.harmonicRatio': 0.1083359245099423, 'v31.LA': 30.516914527687998, 'v31.ratioLGLA': 1.8557348124318611, 'v31.ratioLCLA': 1.7495773488481456, 'v31.diffLCLA': 20.359485284313084, 'v31.peakloc': 0.46071428571428574, 'v31.peakval': 1.007422172631841, 'v31.pos_slope': 0.6453602417891604, 'v31.neg_slope': -0.6547849459862712, 'v31.PR': 7.798431844407018, 'v31.Fo': 0.6232142857142857, 'v31.AMfactor': 0.20524332340771495, 'v31.DAM': 2.088587048060968, 'v31.peakloc_unweightedSPL': 0.5464285714285715, 'v31.L63': 8.256137385382186, 'v31.L125': 5.060244783250087, 'v31.L250': 4.005226271310993, 'v31.L500': 3.0662819766430647, 'v31.L1000': 2.816311009229134, '025_100Hz.prominence': 0.06413092370605813, '025_100Hz.L5-L95': 0.4394532108634035, '050_200Hz.prominence': 0.006458407488564082, '050_200Hz.L5-L95': 0.26758332245062266, '100_400Hz.prominence': 0.012115108989922671, '100_400Hz.L5-L95': 0.12276513708232338, '200_800Hz.prominence': 0.014253317558657256, '200_800Hz.L5-L95': 0.13167183606735827}, 'cluster_var': {'v31.spectralCentroid': 7.774953475753156, 'v31.spectralCrest': 0.3057023973505417, 'v31.spectralDecrease': 466871.27703989495, 'v31.spectralEntropy': 0.00025598339422635495, 'v31.spectralFlatness': 1.4001360930452498e-05, 'v31.spectralFlux': 8.754583202273025e-11, 'v31.spectralKurtosis': 1089206.782955636, 'v31.spectralRolloffPoint': 198.42617175202153, 'v31.spectralSkewness': 35.34867431143772, 'v31.spectralSlope': 1.4184970150974387e-18, 'v31.spectralSpread': 200.90424738616858, 'v31.pitch': 2.6069419661173208, 'v31.harmonicRatio': 0.01239483491495366, 'v31.LA': 59.390033996140815, 'v31.ratioLGLA': 0.11056350235111442, 'v31.ratioLCLA': 0.11920255267056537, 'v31.diffLCLA': 46.97592200938696, 'v31.peakloc': 0.06779220779220779, 'v31.peakval': 0.8400817639233019, 'v31.pos_slope': 0.05431533049203364, 'v31.neg_slope': 0.06134110789867587, 'v31.PR': 65.46198112842275, 'v31.Fo': 0.0396331168831169, 'v31.AMfactor': 0.008545551246708406, 'v31.DAM': 0.5136242454545921, 'v31.peakloc_unweightedSPL': 0.06507792207792207, 'v31.L63': 3.409495126511535, 'v31.L125': 1.818638361301405, 'v31.L250': 0.4756531564404723, 'v31.L500': 0.3919420641999889, 'v31.L1000': 1.81123425254094, '025_100Hz.prominence': 0.0018253038567780165, '025_100Hz.L5-L95': 0.030593826751359927, '050_200Hz.prominence': 2.8758941943295123e-05, '050_200Hz.L5-L95': 0.041872169270696986, '100_400Hz.prominence': 9.348865154620703e-05, '100_400Hz.L5-L95': 0.003783142980117844, '200_800Hz.prominence': 0.00017005009227191847, '200_800Hz.L5-L95': 0.0021423923902016122}}}\n",
      "{'_id': 43, 'target': 'combined_minmax', 'K': 5, 'cluster': {'cluster_id': 0, 'size': 178, 'cluster_mean': {'v31.spectralCentroid': 56.54590184272393, 'v31.spectralCrest': 29.871504993121025, 'v31.spectralDecrease': -198.21427728948646, 'v31.spectralEntropy': 0.0890139926247606, 'v31.spectralFlatness': 0.00638778675182515, 'v31.spectralFlux': 8.637034548342992e-06, 'v31.spectralKurtosis': 1448.166973287432, 'v31.spectralRolloffPoint': 86.81174023690298, 'v31.spectralSkewness': 25.48175988211457, 'v31.spectralSlope': -7.609545633861703e-10, 'v31.spectralSpread': 53.88332503030711, 'v31.pitch': 399.94957678558865, 'v31.harmonicRatio': 0.0582256647919602, 'v31.LA': 34.54020260379325, 'v31.ratioLGLA': 1.6937827257309008, 'v31.ratioLCLA': 1.5599630951344132, 'v31.diffLCLA': 17.321433118681473, 'v31.peakloc': 0.42865168539325843, 'v31.peakval': 0.7149615405055519, 'v31.pos_slope': 0.547804259750982, 'v31.neg_slope': -0.5471580791876207, 'v31.PR': 10.400339287122737, 'v31.Fo': 0.6151685393258427, 'v31.AMfactor': 0.17309180999095017, 'v31.DAM': 1.7950337147484319, 'v31.peakloc_unweightedSPL': 0.6595505617977528, 'v31.L63': 7.853825232712266, 'v31.L125': 4.836817751950762, 'v31.L250': 3.972167431256584, 'v31.L500': 3.025944744069489, 'v31.L1000': 2.6020380815923345, '025_100Hz.prominence': 0.07318128266835354, '025_100Hz.L5-L95': 0.34322757515728275, '050_200Hz.prominence': 0.010364067240453698, '050_200Hz.L5-L95': 0.22441798325109, '100_400Hz.prominence': 0.017030247969718058, '100_400Hz.L5-L95': 0.10200078542939786, '200_800Hz.prominence': 0.01651348631360248, '200_800Hz.L5-L95': 0.10203384830224606}, 'cluster_var': {'v31.spectralCentroid': 18.34133016022368, 'v31.spectralCrest': 0.45815202200417104, 'v31.spectralDecrease': 35846.726585290606, 'v31.spectralEntropy': 0.0003820428385905144, 'v31.spectralFlatness': 3.787894463698131e-05, 'v31.spectralFlux': 1.5229811086280774e-10, 'v31.spectralKurtosis': 123955.95155670098, 'v31.spectralRolloffPoint': 427.77246799688464, 'v31.spectralSkewness': 11.93645577401525, 'v31.spectralSlope': 1.223727204453431e-18, 'v31.spectralSpread': 485.9355721888845, 'v31.pitch': 0.4291275183289976, 'v31.harmonicRatio': 0.0051328938469158035, 'v31.LA': 67.30625828634457, 'v31.ratioLGLA': 0.05203013672625539, 'v31.ratioLCLA': 0.0656367950090304, 'v31.diffLCLA': 29.660621247120858, 'v31.peakloc': 0.06400495143782135, 'v31.peakval': 0.8843630234535313, 'v31.pos_slope': 0.056641564666052066, 'v31.neg_slope': 0.050177510754570206, 'v31.PR': 252.61763580315682, 'v31.Fo': 0.03259347425887136, 'v31.AMfactor': 0.013939705446772541, 'v31.DAM': 0.2755240477256988, 'v31.peakloc_unweightedSPL': 0.2155297403669142, 'v31.L63': 2.047037315151587, 'v31.L125': 0.6579960536286588, 'v31.L250': 0.6815441829227069, 'v31.L500': 0.39895573334939327, 'v31.L1000': 0.7429194734309442, '025_100Hz.prominence': 0.006317115333659843, '025_100Hz.L5-L95': 0.0174318461132114, '050_200Hz.prominence': 0.0003633945190976826, '050_200Hz.L5-L95': 0.020197356255606796, '100_400Hz.prominence': 0.000868067603487051, '100_400Hz.L5-L95': 0.0033035212832809384, '200_800Hz.prominence': 0.0007666947666265258, '200_800Hz.L5-L95': 0.0028718615627766806}}}\n",
      "{'_id': 44, 'target': 'combined_minmax', 'K': 5, 'cluster': {'cluster_id': 1, 'size': 32, 'cluster_mean': {'v31.spectralCentroid': 51.898569299795014, 'v31.spectralCrest': 31.108908416586683, 'v31.spectralDecrease': -832.6180758079809, 'v31.spectralEntropy': 0.043883742265097885, 'v31.spectralFlatness': 0.0038240727666072304, 'v31.spectralFlux': 8.27393084161611e-06, 'v31.spectralKurtosis': 4948.954707463261, 'v31.spectralRolloffPoint': 61.375913158600945, 'v31.spectralSkewness': 47.98728574756816, 'v31.spectralSlope': -9.895335392666922e-10, 'v31.spectralSpread': 38.55374609178941, 'v31.pitch': 400.0, 'v31.harmonicRatio': 0.1119440560874782, 'v31.LA': 31.72296890813651, 'v31.ratioLGLA': 1.8135773637214283, 'v31.ratioLCLA': 1.6971701990085877, 'v31.diffLCLA': 19.091835668884727, 'v31.peakloc': 0.446875, 'v31.peakval': 1.0496704208352754, 'v31.pos_slope': 0.6496436156536035, 'v31.neg_slope': -0.6326812587667623, 'v31.PR': 6.979523425499735, 'v31.Fo': 0.5875, 'v31.AMfactor': 0.1931726108008604, 'v31.DAM': 1.993623728299304, 'v31.peakloc_unweightedSPL': 0.528125, 'v31.L63': 8.137223319803368, 'v31.L125': 4.948000476644796, 'v31.L250': 3.85387359176096, 'v31.L500': 3.117332389781755, 'v31.L1000': 2.9640042942520863, '025_100Hz.prominence': 0.06736288302421699, '025_100Hz.L5-L95': 0.4745152702325844, '050_200Hz.prominence': 0.005167365164816106, '050_200Hz.L5-L95': 0.3107350458930747, '100_400Hz.prominence': 0.00885294911196128, '100_400Hz.L5-L95': 0.1329364376915609, '200_800Hz.prominence': 0.013489948809436889, '200_800Hz.L5-L95': 0.1343464883446271}, 'cluster_var': {'v31.spectralCentroid': 8.059930216227492, 'v31.spectralCrest': 0.07781307089691451, 'v31.spectralDecrease': 599984.8100763061, 'v31.spectralEntropy': 0.00012805387659398912, 'v31.spectralFlatness': 1.4808071821911609e-05, 'v31.spectralFlux': 1.1608279952364017e-10, 'v31.spectralKurtosis': 1034167.785579064, 'v31.spectralRolloffPoint': 178.60666277085733, 'v31.spectralSkewness': 32.12453537603836, 'v31.spectralSlope': 1.5680884342916643e-18, 'v31.spectralSpread': 223.01487166161627, 'v31.pitch': 0.0, 'v31.harmonicRatio': 0.01743748194814823, 'v31.LA': 70.62694472368365, 'v31.ratioLGLA': 0.12218939145196699, 'v31.ratioLCLA': 0.1505422666672644, 'v31.diffLCLA': 56.767245822556156, 'v31.peakloc': 0.07595766129032261, 'v31.peakval': 0.7171555367003002, 'v31.pos_slope': 0.05605333482058536, 'v31.neg_slope': 0.04387586171087908, 'v31.PR': 49.7932874061439, 'v31.Fo': 0.04048387096774195, 'v31.AMfactor': 0.007669892756395455, 'v31.DAM': 0.6051603739709035, 'v31.peakloc_unweightedSPL': 0.06853830645161291, 'v31.L63': 3.884282498326767, 'v31.L125': 0.8412989977814505, 'v31.L250': 0.3651094656688779, 'v31.L500': 0.4044018765815627, 'v31.L1000': 2.5344309311894664, '025_100Hz.prominence': 0.001850859129473777, '025_100Hz.L5-L95': 0.03761715709831606, '050_200Hz.prominence': 7.914085811043495e-06, '050_200Hz.L5-L95': 0.0549941925276851, '100_400Hz.prominence': 3.832049139975094e-05, '100_400Hz.L5-L95': 0.005281289636032519, '200_800Hz.prominence': 0.00014633492211334263, '200_800Hz.L5-L95': 0.002313695499963142}}}\n",
      "{'_id': 45, 'target': 'combined_minmax', 'K': 5, 'cluster': {'cluster_id': 2, 'size': 4, 'cluster_mean': {'v31.spectralCentroid': 48.94349681924324, 'v31.spectralCrest': 31.524742819751697, 'v31.spectralDecrease': -825.8205255330035, 'v31.spectralEntropy': 0.025011243464076655, 'v31.spectralFlatness': 0.0010046831991529365, 'v31.spectralFlux': 1.5898417847603922e-06, 'v31.spectralKurtosis': 12422.507095252404, 'v31.spectralRolloffPoint': 49.42737742905308, 'v31.spectralSkewness': 78.88130034892137, 'v31.spectralSlope': -2.0131460658287857e-10, 'v31.spectralSpread': 21.87890879944069, 'v31.pitch': 400.0, 'v31.harmonicRatio': 0.07742642188608148, 'v31.LA': 22.961192377727222, 'v31.ratioLGLA': 2.525368053206516, 'v31.ratioLCLA': 2.1740915724804215, 'v31.diffLCLA': 25.60290202246862, 'v31.peakloc': 0.5, 'v31.peakval': 0.40962471546673446, 'v31.pos_slope': 0.5667720439893004, 'v31.neg_slope': -0.4450443393654612, 'v31.PR': 7.378443056959426, 'v31.Fo': 0.85, 'v31.AMfactor': 0.24873467280676267, 'v31.DAM': 1.9095540945549203, 'v31.peakloc_unweightedSPL': 0.65, 'v31.L63': 8.106660054643143, 'v31.L125': 5.4526378791552546, 'v31.L250': 4.4622114179636005, 'v31.L500': 3.1383178743068414, 'v31.L1000': 2.7517339200136273, '025_100Hz.prominence': 0.051572964685162835, '025_100Hz.L5-L95': 0.3486754708197797, '050_200Hz.prominence': 0.011210122249093832, '050_200Hz.L5-L95': 0.3537779875688581, '100_400Hz.prominence': 0.013424806197261068, '100_400Hz.L5-L95': 0.1565927742804879, '200_800Hz.prominence': 0.01674553302652308, '200_800Hz.L5-L95': 0.19337176758167687}, 'cluster_var': {'v31.spectralCentroid': 0.46431157701581566, 'v31.spectralCrest': 0.04506144857094633, 'v31.spectralDecrease': 354688.0345806344, 'v31.spectralEntropy': 7.784438138222449e-05, 'v31.spectralFlatness': 1.3272895910474556e-07, 'v31.spectralFlux': 5.609240889846548e-12, 'v31.spectralKurtosis': 4642118.82787357, 'v31.spectralRolloffPoint': 3.577075757777845, 'v31.spectralSkewness': 87.70442901416209, 'v31.spectralSlope': 1.1471731923524747e-19, 'v31.spectralSpread': 10.55231882515253, 'v31.pitch': 0.0, 'v31.harmonicRatio': 0.0033833801056645713, 'v31.LA': 23.537458537515672, 'v31.ratioLGLA': 0.22873848391613538, 'v31.ratioLCLA': 0.1404464288403469, 'v31.diffLCLA': 20.420640215548257, 'v31.peakloc': 0.13166666666666668, 'v31.peakval': 0.08174426413580745, 'v31.pos_slope': 0.032211469159493446, 'v31.neg_slope': 0.023962545223171372, 'v31.PR': 13.456932056923796, 'v31.Fo': 0.010000000000000005, 'v31.AMfactor': 0.03427287229659463, 'v31.DAM': 0.26706873269664166, 'v31.peakloc_unweightedSPL': 0.030000000000000013, 'v31.L63': 3.399768620142652, 'v31.L125': 0.30187654494835775, 'v31.L250': 2.51457662419928, 'v31.L500': 0.3869934111262446, 'v31.L1000': 0.32724191470206865, '025_100Hz.prominence': 2.0398254129047416e-05, '025_100Hz.L5-L95': 0.032160789020370104, '050_200Hz.prominence': 4.2775271413089706e-05, '050_200Hz.L5-L95': 0.009346972040392159, '100_400Hz.prominence': 0.0001862026573256067, '100_400Hz.L5-L95': 0.005326511155681016, '200_800Hz.prominence': 0.0003146373993173943, '200_800Hz.L5-L95': 0.016286344443050754}}}\n",
      "{'_id': 46, 'target': 'combined_minmax', 'K': 5, 'cluster': {'cluster_id': 3, 'size': 550, 'cluster_mean': {'v31.spectralCentroid': 65.3684496511539, 'v31.spectralCrest': 28.088684318461024, 'v31.spectralDecrease': -89.59391438752773, 'v31.spectralEntropy': 0.14573228886684245, 'v31.spectralFlatness': 0.012011668433768727, 'v31.spectralFlux': 1.058198497100227e-05, 'v31.spectralKurtosis': 446.53380985116894, 'v31.spectralRolloffPoint': 128.0168737873929, 'v31.spectralSkewness': 14.553383711449301, 'v31.spectralSlope': -7.78174732293189e-10, 'v31.spectralSpread': 80.45126352563504, 'v31.pitch': 399.8649539473267, 'v31.harmonicRatio': 0.012358877805563854, 'v31.LA': 42.19138579321461, 'v31.ratioLGLA': 1.5141123705860873, 'v31.ratioLCLA': 1.3350935248759566, 'v31.diffLCLA': 13.432863045773418, 'v31.peakloc': 0.4423636363636364, 'v31.peakval': 1.2054619357011906, 'v31.pos_slope': 0.6569244835267272, 'v31.neg_slope': -0.6609667898082823, 'v31.PR': 12.134321430683517, 'v31.Fo': 0.6638181818181819, 'v31.AMfactor': 0.2324081111007192, 'v31.DAM': 1.9103619130038603, 'v31.peakloc_unweightedSPL': 0.7801818181818182, 'v31.L63': 7.290076384453446, 'v31.L125': 5.1354385877732724, 'v31.L250': 4.253534792001707, 'v31.L500': 3.371807656327492, 'v31.L1000': 3.006203221476195, '025_100Hz.prominence': 0.08006849625998391, '025_100Hz.L5-L95': 0.3089814772024732, '050_200Hz.prominence': 0.011040689253987108, '050_200Hz.L5-L95': 0.23640395602087289, '100_400Hz.prominence': 0.020397869616992005, '100_400Hz.L5-L95': 0.10889979116690758, '200_800Hz.prominence': 0.021318122053238246, '200_800Hz.L5-L95': 0.10250659550821188}, 'cluster_var': {'v31.spectralCentroid': 48.77972913662941, 'v31.spectralCrest': 2.0801471255589776, 'v31.spectralDecrease': 5976.4038589589245, 'v31.spectralEntropy': 0.0014101740727125887, 'v31.spectralFlatness': 0.00010795412422556747, 'v31.spectralFlux': 1.2446572930036577e-10, 'v31.spectralKurtosis': 43107.69630469147, 'v31.spectralRolloffPoint': 1306.0494829469742, 'v31.spectralSkewness': 11.827380432861217, 'v31.spectralSlope': 6.94389231175577e-19, 'v31.spectralSpread': 898.54831730015, 'v31.pitch': 2.092636328845713, 'v31.harmonicRatio': 0.0004907958091423054, 'v31.LA': 34.19432549739856, 'v31.ratioLGLA': 0.020106951701943113, 'v31.ratioLCLA': 0.01749293580542373, 'v31.diffLCLA': 13.878898732783318, 'v31.peakloc': 0.07269203510514986, 'v31.peakval': 4.0204132839938165, 'v31.pos_slope': 0.15714812229995584, 'v31.neg_slope': 0.15272983866667814, 'v31.PR': 1618.9315431117452, 'v31.Fo': 0.019945322073190906, 'v31.AMfactor': 0.0319943902116223, 'v31.DAM': 0.5134389042636199, 'v31.peakloc_unweightedSPL': 0.3912822983937737, 'v31.L63': 1.073927580065661, 'v31.L125': 0.4788999818491126, 'v31.L250': 0.6636318678870973, 'v31.L500': 0.7442050438875918, 'v31.L1000': 1.0992021661952387, '025_100Hz.prominence': 0.008494522469874291, '025_100Hz.L5-L95': 0.011458979070130087, '050_200Hz.prominence': 0.0018768238892415137, '050_200Hz.L5-L95': 0.012894613766322631, '100_400Hz.prominence': 0.001404692289668872, '100_400Hz.L5-L95': 0.002570708085294376, '200_800Hz.prominence': 0.001136807441009444, '200_800Hz.L5-L95': 0.0032794461992866264}}}\n",
      "{'_id': 47, 'target': 'combined_minmax', 'K': 5, 'cluster': {'cluster_id': 4, 'size': 79, 'cluster_mean': {'v31.spectralCentroid': 52.74352173194143, 'v31.spectralCrest': 30.476695062502678, 'v31.spectralDecrease': -249.98365669394255, 'v31.spectralEntropy': 0.065824877099052, 'v31.spectralFlatness': 0.003127982654912326, 'v31.spectralFlux': 2.743435530018689e-06, 'v31.spectralKurtosis': 2936.1911064071337, 'v31.spectralRolloffPoint': 68.40504917938071, 'v31.spectralSkewness': 36.751305654226684, 'v31.spectralSlope': -3.400354993160416e-10, 'v31.spectralSpread': 37.887898784158075, 'v31.pitch': 399.78831525765503, 'v31.harmonicRatio': 0.09688070788473267, 'v31.LA': 28.99106476693374, 'v31.ratioLGLA': 1.8666512068553789, 'v31.ratioLCLA': 1.778868426130697, 'v31.diffLCLA': 21.449255870610614, 'v31.peakloc': 0.47025316455696203, 'v31.peakval': 2.020681786995972, 'v31.pos_slope': 0.6683532064251111, 'v31.neg_slope': -0.7090946926809335, 'v31.PR': 18.98966578122333, 'v31.Fo': 0.6645569620253164, 'v31.AMfactor': 0.24214182501741668, 'v31.DAM': 2.1485026820090702, 'v31.peakloc_unweightedSPL': 0.5645569620253165, 'v31.L63': 8.625835288209023, 'v31.L125': 4.881637457020718, 'v31.L250': 4.06379491288204, 'v31.L500': 3.0080678962589498, 'v31.L1000': 2.5277618404472384, '025_100Hz.prominence': 0.0929213872071941, '025_100Hz.L5-L95': 0.4152703288178097, '050_200Hz.prominence': 0.009265567782414516, '050_200Hz.L5-L95': 0.2187614027936288, '100_400Hz.prominence': 0.02865302168863677, '100_400Hz.L5-L95': 0.10866586193719212, '200_800Hz.prominence': 0.030157986186325626, '200_800Hz.L5-L95': 0.12410126160761174}, 'cluster_var': {'v31.spectralCentroid': 5.27874142940041, 'v31.spectralCrest': 0.2735204885982272, 'v31.spectralDecrease': 88861.65335376149, 'v31.spectralEntropy': 0.00019401023268388377, 'v31.spectralFlatness': 8.503174109417592e-06, 'v31.spectralFlux': 3.5215486596593264e-11, 'v31.spectralKurtosis': 244339.8664823445, 'v31.spectralRolloffPoint': 127.36319278709482, 'v31.spectralSkewness': 14.157170358772174, 'v31.spectralSlope': 6.3111161365325755e-19, 'v31.spectralSpread': 150.8797673625299, 'v31.pitch': 1.964834531699335, 'v31.harmonicRatio': 0.0065054626443308726, 'v31.LA': 28.396819103024743, 'v31.ratioLGLA': 0.05763797550506901, 'v31.ratioLCLA': 0.05085517438293003, 'v31.diffLCLA': 22.63768218680936, 'v31.peakloc': 0.05407172995780592, 'v31.peakval': 111.93014742078893, 'v31.pos_slope': 0.5340600239839987, 'v31.neg_slope': 0.6450162880104278, 'v31.PR': 6766.563711715664, 'v31.Fo': 0.038471275559883146, 'v31.AMfactor': 0.17627188779244432, 'v31.DAM': 1.5805850637587662, 'v31.peakloc_unweightedSPL': 0.05898409607270367, 'v31.L63': 2.5291710333190744, 'v31.L125': 2.469967847700932, 'v31.L250': 2.0262928474281825, 'v31.L500': 1.1404700546443975, 'v31.L1000': 0.7189446809169345, '025_100Hz.prominence': 0.016673912772525695, '025_100Hz.L5-L95': 0.028122138126659618, '050_200Hz.prominence': 0.000110250148192126, '050_200Hz.L5-L95': 0.020309722766036452, '100_400Hz.prominence': 0.012696084826341849, '100_400Hz.L5-L95': 0.013236651073418617, '200_800Hz.prominence': 0.012641907396790827, '200_800Hz.L5-L95': 0.012672827329270397}}}\n",
      "{'_id': 48, 'target': 'combined_minmax', 'K': 6, 'cluster': {'cluster_id': 0, 'size': 97, 'cluster_mean': {'v31.spectralCentroid': 54.03740340182107, 'v31.spectralCrest': 30.21423929802056, 'v31.spectralDecrease': -202.08054186574964, 'v31.spectralEntropy': 0.07646840249511132, 'v31.spectralFlatness': 0.003877735284998098, 'v31.spectralFlux': 3.3231545986401893e-06, 'v31.spectralKurtosis': 2043.4919678535355, 'v31.spectralRolloffPoint': 75.84281780651155, 'v31.spectralSkewness': 30.319099000944323, 'v31.spectralSlope': -3.388357324317216e-10, 'v31.spectralSpread': 42.66359739965496, 'v31.pitch': 399.9515174401575, 'v31.harmonicRatio': 0.08703079277049011, 'v31.LA': 30.051417173936727, 'v31.ratioLGLA': 1.8253570355066464, 'v31.ratioLCLA': 1.7133461452149266, 'v31.diffLCLA': 20.27191454930338, 'v31.peakloc': 0.48814432989690726, 'v31.peakval': 1.7718623277747059, 'v31.pos_slope': 0.6309035239398373, 'v31.neg_slope': -0.6637665843217035, 'v31.PR': 18.793720670629366, 'v31.Fo': 0.6494845360824743, 'v31.AMfactor': 0.23026762648354157, 'v31.DAM': 2.0456234264818955, 'v31.peakloc_unweightedSPL': 0.7103092783505155, 'v31.L63': 8.21415171353489, 'v31.L125': 4.688254436554882, 'v31.L250': 4.11927539249869, 'v31.L500': 3.087513528063678, 'v31.L1000': 2.4903049774738264, '025_100Hz.prominence': 0.08294647871199212, '025_100Hz.L5-L95': 0.3650892222512231, '050_200Hz.prominence': 0.010025200917796297, '050_200Hz.L5-L95': 0.20579562845364074, '100_400Hz.prominence': 0.02782472354494173, '100_400Hz.L5-L95': 0.10476308061929034, '200_800Hz.prominence': 0.031116006123802015, '200_800Hz.L5-L95': 0.11299735848127605}, 'cluster_var': {'v31.spectralCentroid': 12.189544683217003, 'v31.spectralCrest': 0.29095781057661513, 'v31.spectralDecrease': 54341.96080697267, 'v31.spectralEntropy': 0.00025276375147756917, 'v31.spectralFlatness': 1.7275416082783272e-05, 'v31.spectralFlux': 5.1851480335717496e-11, 'v31.spectralKurtosis': 115919.27868986891, 'v31.spectralRolloffPoint': 329.16533351532485, 'v31.spectralSkewness': 13.18553503680746, 'v31.spectralSlope': 6.419042783136621e-19, 'v31.spectralSpread': 245.26849051976956, 'v31.pitch': 0.1102525387605109, 'v31.harmonicRatio': 0.006633501550707754, 'v31.LA': 33.89046894253747, 'v31.ratioLGLA': 0.04343574868414127, 'v31.ratioLCLA': 0.045771722329544656, 'v31.diffLCLA': 20.46365281386221, 'v31.peakloc': 0.05634235395189003, 'v31.peakval': 92.07892303162284, 'v31.pos_slope': 0.4676494387792647, 'v31.neg_slope': 0.5422673994241249, 'v31.PR': 5750.684926114129, 'v31.Fo': 0.03731743986254294, 'v31.AMfactor': 0.15495639656845347, 'v31.DAM': 1.3814153728277576, 'v31.peakloc_unweightedSPL': 0.22864261168384872, 'v31.L63': 2.208129166914352, 'v31.L125': 0.887177062613025, 'v31.L250': 2.176998947853314, 'v31.L500': 1.0505759178753862, 'v31.L1000': 0.48406991857947407, '025_100Hz.prominence': 0.008348464200708058, '025_100Hz.L5-L95': 0.023168307504219204, '050_200Hz.prominence': 0.00014419298148242373, '050_200Hz.L5-L95': 0.020252713354152907, '100_400Hz.prominence': 0.011279015848910152, '100_400Hz.L5-L95': 0.013243873872912976, '200_800Hz.prominence': 0.011190840566300153, '200_800Hz.L5-L95': 0.012342406709605729}}}\n",
      "{'_id': 49, 'target': 'combined_minmax', 'K': 6, 'cluster': {'cluster_id': 1, 'size': 471, 'cluster_mean': {'v31.spectralCentroid': 66.09927419111293, 'v31.spectralCrest': 27.897022244852554, 'v31.spectralDecrease': -75.3799894223001, 'v31.spectralEntropy': 0.15179744580601906, 'v31.spectralFlatness': 0.012212668842649075, 'v31.spectralFlux': 9.8200650198033e-06, 'v31.spectralKurtosis': 382.6366966475716, 'v31.spectralRolloffPoint': 131.79804807003904, 'v31.spectralSkewness': 13.645597426608207, 'v31.spectralSlope': -6.955150190844357e-10, 'v31.spectralSpread': 81.94223370406867, 'v31.pitch': 399.8423029108911, 'v31.harmonicRatio': 0.011726788920918333, 'v31.LA': 42.26491310810616, 'v31.ratioLGLA': 1.5133726380893469, 'v31.ratioLCLA': 1.332553657308317, 'v31.diffLCLA': 13.424876699989369, 'v31.peakloc': 0.4477707006369427, 'v31.peakval': 1.2892919896046167, 'v31.pos_slope': 0.6739221396894985, 'v31.neg_slope': -0.6803152538834975, 'v31.PR': 12.731671510201082, 'v31.Fo': 0.6653927813163482, 'v31.AMfactor': 0.240740110044317, 'v31.DAM': 1.9395610734128685, 'v31.peakloc_unweightedSPL': 0.7938428874734607, 'v31.L63': 7.305081684027673, 'v31.L125': 5.130348198916936, 'v31.L250': 4.26402464575396, 'v31.L500': 3.4015571827041544, 'v31.L1000': 3.062260667422252, '025_100Hz.prominence': 0.0804468410038095, '025_100Hz.L5-L95': 0.30754468527961226, '050_200Hz.prominence': 0.011652766144617247, '050_200Hz.L5-L95': 0.23414812608550548, '100_400Hz.prominence': 0.021487186770193616, '100_400Hz.L5-L95': 0.1086157387082498, '200_800Hz.prominence': 0.021732069331551824, '200_800Hz.L5-L95': 0.10300740557002039}, 'cluster_var': {'v31.spectralCentroid': 48.10250805725027, 'v31.spectralCrest': 2.056604805679168, 'v31.spectralDecrease': 3157.8087874295898, 'v31.spectralEntropy': 0.001320758485983458, 'v31.spectralFlatness': 0.00011241450735643163, 'v31.spectralFlux': 1.1709780033614876e-10, 'v31.spectralKurtosis': 21215.14907375738, 'v31.spectralRolloffPoint': 1285.2777599676335, 'v31.spectralSkewness': 7.655537239725314, 'v31.spectralSlope': 5.843100549796022e-19, 'v31.spectralSpread': 915.8929299799767, 'v31.pitch': 2.440797726284082, 'v31.harmonicRatio': 0.00040264845915393387, 'v31.LA': 32.240560126937034, 'v31.ratioLGLA': 0.018340716013648617, 'v31.ratioLCLA': 0.01498745768090809, 'v31.diffLCLA': 12.54854348055397, 'v31.peakloc': 0.07213863667163578, 'v31.peakval': 4.597088166183293, 'v31.pos_slope': 0.1737595714839155, 'v31.neg_slope': 0.1688291564571985, 'v31.PR': 1861.5384870581652, 'v31.Fo': 0.019118941139269086, 'v31.AMfactor': 0.0351378243387078, 'v31.DAM': 0.551753369721239, 'v31.peakloc_unweightedSPL': 0.41232371143334695, 'v31.L63': 1.0486123911718297, 'v31.L125': 0.4785584431392882, 'v31.L250': 0.6908529037828609, 'v31.L500': 0.7994105888317068, 'v31.L1000': 1.1432487360303614, '025_100Hz.prominence': 0.008434479284600763, '025_100Hz.L5-L95': 0.011232799324061963, '050_200Hz.prominence': 0.0021850503547255072, '050_200Hz.L5-L95': 0.012665016078475809, '100_400Hz.prominence': 0.0015966623091586158, '100_400Hz.L5-L95': 0.0026414031758026577, '200_800Hz.prominence': 0.0009672495228392955, '200_800Hz.L5-L95': 0.0035297333221709884}}}\n",
      "{'_id': 50, 'target': 'combined_minmax', 'K': 6, 'cluster': {'cluster_id': 2, 'size': 21, 'cluster_mean': {'v31.spectralCentroid': 51.90460303668018, 'v31.spectralCrest': 31.118701834766966, 'v31.spectralDecrease': -904.0337326083178, 'v31.spectralEntropy': 0.043311037865164596, 'v31.spectralFlatness': 0.003893685502739485, 'v31.spectralFlux': 9.126797414003984e-06, 'v31.spectralKurtosis': 5409.649562698792, 'v31.spectralRolloffPoint': 61.38969669066004, 'v31.spectralSkewness': 49.95819299190631, 'v31.spectralSlope': -1.1160775045809833e-09, 'v31.spectralSpread': 38.3061494027618, 'v31.pitch': 400.0, 'v31.harmonicRatio': 0.1101228682595765, 'v31.LA': 31.770468977867854, 'v31.ratioLGLA': 1.8337833380853386, 'v31.ratioLCLA': 1.694385273989521, 'v31.diffLCLA': 18.94818651506483, 'v31.peakloc': 0.4333333333333333, 'v31.peakval': 0.9794160553371967, 'v31.pos_slope': 0.6785088855047251, 'v31.neg_slope': -0.6088101715577782, 'v31.PR': 6.9570878470961395, 'v31.Fo': 0.5666666666666667, 'v31.AMfactor': 0.2010516435943266, 'v31.DAM': 2.040006697805135, 'v31.peakloc_unweightedSPL': 0.5333333333333333, 'v31.L63': 7.994674924651686, 'v31.L125': 4.967495559447082, 'v31.L250': 3.973651563085294, 'v31.L500': 3.1701016788597447, 'v31.L1000': 2.8391859993710162, '025_100Hz.prominence': 0.056250018822851175, '025_100Hz.L5-L95': 0.4562432494131681, '050_200Hz.prominence': 0.005479526843640673, '050_200Hz.L5-L95': 0.33196053929709196, '100_400Hz.prominence': 0.009201032853662958, '100_400Hz.L5-L95': 0.14541078188722714, '200_800Hz.prominence': 0.01186259890638246, '200_800Hz.L5-L95': 0.13752339578212694}, 'cluster_var': {'v31.spectralCentroid': 10.62764758501179, 'v31.spectralCrest': 0.07447987135211943, 'v31.spectralDecrease': 681202.4294583075, 'v31.spectralEntropy': 0.00014089429853392162, 'v31.spectralFlatness': 1.8007400382125202e-05, 'v31.spectralFlux': 1.3358058105127466e-10, 'v31.spectralKurtosis': 924633.7843483377, 'v31.spectralRolloffPoint': 243.1266798677828, 'v31.spectralSkewness': 35.33632118163788, 'v31.spectralSlope': 1.871765372965933e-18, 'v31.spectralSpread': 238.80932212572264, 'v31.pitch': 0.0, 'v31.harmonicRatio': 0.02022176076491826, 'v31.LA': 74.8871647767898, 'v31.ratioLGLA': 0.13567364267899648, 'v31.ratioLCLA': 0.16049834606686803, 'v31.diffLCLA': 58.16765493774145, 'v31.peakloc': 0.08558333333333333, 'v31.peakval': 0.49903862490527473, 'v31.pos_slope': 0.05895604063901679, 'v31.neg_slope': 0.0463987562122487, 'v31.PR': 62.19463813375346, 'v31.Fo': 0.04133333333333334, 'v31.AMfactor': 0.008064457823488181, 'v31.DAM': 0.6803253081665086, 'v31.peakloc_unweightedSPL': 0.06033333333333335, 'v31.L63': 4.249971135553627, 'v31.L125': 0.6656387351985231, 'v31.L250': 0.45899384543867505, 'v31.L500': 0.330512232028466, 'v31.L1000': 1.3675504952366688, '025_100Hz.prominence': 0.001341597940703214, '025_100Hz.L5-L95': 0.043368837226535686, '050_200Hz.prominence': 8.736027507493139e-06, '050_200Hz.L5-L95': 0.05616338472307921, '100_400Hz.prominence': 3.8429444950298795e-05, '100_400Hz.L5-L95': 0.005715394336999041, '200_800Hz.prominence': 0.00017795134233111076, '200_800Hz.L5-L95': 0.0024157708768913788}}}\n",
      "{'_id': 51, 'target': 'combined_minmax', 'K': 6, 'cluster': {'cluster_id': 3, 'size': 4, 'cluster_mean': {'v31.spectralCentroid': 48.94349681924324, 'v31.spectralCrest': 31.524742819751697, 'v31.spectralDecrease': -825.8205255330035, 'v31.spectralEntropy': 0.025011243464076655, 'v31.spectralFlatness': 0.0010046831991529365, 'v31.spectralFlux': 1.5898417847603922e-06, 'v31.spectralKurtosis': 12422.507095252404, 'v31.spectralRolloffPoint': 49.42737742905308, 'v31.spectralSkewness': 78.88130034892137, 'v31.spectralSlope': -2.0131460658287857e-10, 'v31.spectralSpread': 21.87890879944069, 'v31.pitch': 400.0, 'v31.harmonicRatio': 0.07742642188608148, 'v31.LA': 22.961192377727222, 'v31.ratioLGLA': 2.525368053206516, 'v31.ratioLCLA': 2.1740915724804215, 'v31.diffLCLA': 25.60290202246862, 'v31.peakloc': 0.5, 'v31.peakval': 0.40962471546673446, 'v31.pos_slope': 0.5667720439893004, 'v31.neg_slope': -0.4450443393654612, 'v31.PR': 7.378443056959426, 'v31.Fo': 0.85, 'v31.AMfactor': 0.24873467280676267, 'v31.DAM': 1.9095540945549203, 'v31.peakloc_unweightedSPL': 0.65, 'v31.L63': 8.106660054643143, 'v31.L125': 5.4526378791552546, 'v31.L250': 4.4622114179636005, 'v31.L500': 3.1383178743068414, 'v31.L1000': 2.7517339200136273, '025_100Hz.prominence': 0.051572964685162835, '025_100Hz.L5-L95': 0.3486754708197797, '050_200Hz.prominence': 0.011210122249093832, '050_200Hz.L5-L95': 0.3537779875688581, '100_400Hz.prominence': 0.013424806197261068, '100_400Hz.L5-L95': 0.1565927742804879, '200_800Hz.prominence': 0.01674553302652308, '200_800Hz.L5-L95': 0.19337176758167687}, 'cluster_var': {'v31.spectralCentroid': 0.46431157701581566, 'v31.spectralCrest': 0.04506144857094633, 'v31.spectralDecrease': 354688.0345806344, 'v31.spectralEntropy': 7.784438138222449e-05, 'v31.spectralFlatness': 1.3272895910474556e-07, 'v31.spectralFlux': 5.609240889846548e-12, 'v31.spectralKurtosis': 4642118.82787357, 'v31.spectralRolloffPoint': 3.577075757777845, 'v31.spectralSkewness': 87.70442901416209, 'v31.spectralSlope': 1.1471731923524747e-19, 'v31.spectralSpread': 10.55231882515253, 'v31.pitch': 0.0, 'v31.harmonicRatio': 0.0033833801056645713, 'v31.LA': 23.537458537515672, 'v31.ratioLGLA': 0.22873848391613538, 'v31.ratioLCLA': 0.1404464288403469, 'v31.diffLCLA': 20.420640215548257, 'v31.peakloc': 0.13166666666666668, 'v31.peakval': 0.08174426413580745, 'v31.pos_slope': 0.032211469159493446, 'v31.neg_slope': 0.023962545223171372, 'v31.PR': 13.456932056923796, 'v31.Fo': 0.010000000000000005, 'v31.AMfactor': 0.03427287229659463, 'v31.DAM': 0.26706873269664166, 'v31.peakloc_unweightedSPL': 0.030000000000000013, 'v31.L63': 3.399768620142652, 'v31.L125': 0.30187654494835775, 'v31.L250': 2.51457662419928, 'v31.L500': 0.3869934111262446, 'v31.L1000': 0.32724191470206865, '025_100Hz.prominence': 2.0398254129047416e-05, '025_100Hz.L5-L95': 0.032160789020370104, '050_200Hz.prominence': 4.2775271413089706e-05, '050_200Hz.L5-L95': 0.009346972040392159, '100_400Hz.prominence': 0.0001862026573256067, '100_400Hz.L5-L95': 0.005326511155681016, '200_800Hz.prominence': 0.0003146373993173943, '200_800Hz.L5-L95': 0.016286344443050754}}}\n",
      "{'_id': 52, 'target': 'combined_minmax', 'K': 6, 'cluster': {'cluster_id': 4, 'size': 191, 'cluster_mean': {'v31.spectralCentroid': 59.11142345178419, 'v31.spectralCrest': 29.519063747888282, 'v31.spectralDecrease': -190.7103806141688, 'v31.spectralEntropy': 0.10068028560525515, 'v31.spectralFlatness': 0.008982050317632063, 'v31.spectralFlux': 1.300660039152394e-05, 'v31.spectralKurtosis': 1054.0719334686482, 'v31.spectralRolloffPoint': 97.50933221322249, 'v31.spectralSkewness': 22.11555802707911, 'v31.spectralSlope': -1.103801749281019e-09, 'v31.spectralSpread': 64.60434960036083, 'v31.pitch': 399.9533348792398, 'v31.harmonicRatio': 0.029731025775778772, 'v31.LA': 38.91829514883157, 'v31.ratioLGLA': 1.579779953250864, 'v31.ratioLCLA': 1.4249106844822694, 'v31.diffLCLA': 14.798302019433594, 'v31.peakloc': 0.40471204188481674, 'v31.peakval': 0.6800792028612865, 'v31.pos_slope': 0.5466984131255095, 'v31.neg_slope': -0.5306314703170378, 'v31.PR': 9.116429592679985, 'v31.Fo': 0.6235602094240837, 'v31.AMfactor': 0.17122185636646856, 'v31.DAM': 1.7155885533302722, 'v31.peakloc_unweightedSPL': 0.6345549738219896, 'v31.L63': 7.520295088470601, 'v31.L125': 5.016403929413278, 'v31.L250': 4.026146843369581, 'v31.L500': 3.0966034364006085, 'v31.L1000': 2.667423062004392, '025_100Hz.prominence': 0.06997014140571299, '025_100Hz.L5-L95': 0.32821642315777233, '050_200Hz.prominence': 0.009219315835084346, '050_200Hz.L5-L95': 0.24383828684634506, '100_400Hz.prominence': 0.015895718192186672, '100_400Hz.L5-L95': 0.10708960394458002, '200_800Hz.prominence': 0.015547974764487486, '200_800Hz.L5-L95': 0.10000965745360309}, 'cluster_var': {'v31.spectralCentroid': 24.5714964638058, 'v31.spectralCrest': 0.6358902219773721, 'v31.spectralDecrease': 22962.586114154718, 'v31.spectralEntropy': 0.0004514491342811838, 'v31.spectralFlatness': 6.0377481662505495e-05, 'v31.spectralFlux': 1.7176162650465163e-10, 'v31.spectralKurtosis': 54299.533535733244, 'v31.spectralRolloffPoint': 605.1345552593154, 'v31.spectralSkewness': 7.253400368570981, 'v31.spectralSlope': 1.268805765710315e-18, 'v31.spectralSpread': 623.2810443546902, 'v31.pitch': 0.39993856468348815, 'v31.harmonicRatio': 0.0020575661301909707, 'v31.LA': 64.7447019914128, 'v31.ratioLGLA': 0.04114873418666955, 'v31.ratioLCLA': 0.050704082709550416, 'v31.diffLCLA': 26.575104711635255, 'v31.peakloc': 0.07010925874896666, 'v31.peakval': 0.33950991263736235, 'v31.pos_slope': 0.04580318098330963, 'v31.neg_slope': 0.04013152681069048, 'v31.PR': 141.80278616822378, 'v31.Fo': 0.027810416092587484, 'v31.AMfactor': 0.009938602720136646, 'v31.DAM': 0.22870956709748777, 'v31.peakloc_unweightedSPL': 0.2041680903830257, 'v31.L63': 1.8084901813184777, 'v31.L125': 0.5274536584388368, 'v31.L250': 0.48553213818987456, 'v31.L500': 0.38645635491076363, 'v31.L1000': 0.8078666570788369, '025_100Hz.prominence': 0.005877954255913058, '025_100Hz.L5-L95': 0.013771727694559704, '050_200Hz.prominence': 0.00029078066363208844, '050_200Hz.L5-L95': 0.016526562999780274, '100_400Hz.prominence': 0.00036500511269983927, '100_400Hz.L5-L95': 0.0022005250062796357, '200_800Hz.prominence': 0.0010019689269599491, '200_800Hz.L5-L95': 0.001981157839676734}}}\n",
      "{'_id': 53, 'target': 'combined_minmax', 'K': 6, 'cluster': {'cluster_id': 5, 'size': 59, 'cluster_mean': {'v31.spectralCentroid': 52.383821245837645, 'v31.spectralCrest': 30.6294176201233, 'v31.spectralDecrease': -346.35767651497827, 'v31.spectralEntropy': 0.06013891940416938, 'v31.spectralFlatness': 0.0031742082188033764, 'v31.spectralFlux': 3.6518819760827763e-06, 'v31.spectralKurtosis': 3395.2877897679336, 'v31.spectralRolloffPoint': 65.80844745816547, 'v31.spectralSkewness': 39.62437226937951, 'v31.spectralSlope': -4.619574746266473e-10, 'v31.spectralSpread': 37.10626677745582, 'v31.pitch': 399.7952105010075, 'v31.harmonicRatio': 0.10916654587469986, 'v31.LA': 29.432400163380493, 'v31.ratioLGLA': 1.858465827596185, 'v31.ratioLCLA': 1.7838566352600504, 'v31.diffLCLA': 21.40405908436665, 'v31.peakloc': 0.4474576271186441, 'v31.peakval': 0.9135677233651839, 'v31.pos_slope': 0.595306272294648, 'v31.neg_slope': -0.6481472169607071, 'v31.PR': 9.181702423216292, 'v31.Fo': 0.652542372881356, 'v31.AMfactor': 0.1914494970260162, 'v31.DAM': 2.055363258905825, 'v31.peakloc_unweightedSPL': 0.5559322033898305, 'v31.L63': 8.603801901167989, 'v31.L125': 5.01398166403018, 'v31.L250': 3.90657017436904, 'v31.L500': 2.8959108274162433, 'v31.L1000': 2.6801831380723615, '025_100Hz.prominence': 0.1030258500419117, '025_100Hz.L5-L95': 0.4489410013140547, '050_200Hz.prominence': 0.008095963851186471, '050_200Hz.L5-L95': 0.2271868078013914, '100_400Hz.prominence': 0.01268353382517567, '100_400Hz.L5-L95': 0.10274273767282618, '200_800Hz.prominence': 0.01704562639835827, '200_800Hz.L5-L95': 0.12163851084948298}, 'cluster_var': {'v31.spectralCentroid': 5.926946245402641, 'v31.spectralCrest': 0.3132040780682753, 'v31.spectralDecrease': 192639.87781681577, 'v31.spectralEntropy': 0.0002309189001821627, 'v31.spectralFlatness': 1.0285780256672524e-05, 'v31.spectralFlux': 4.5281258752792267e-11, 'v31.spectralKurtosis': 235731.08698012272, 'v31.spectralRolloffPoint': 132.08669238149315, 'v31.spectralSkewness': 15.244187192668235, 'v31.spectralSlope': 8.113257775812597e-19, 'v31.spectralSpread': 173.23267814622176, 'v31.pitch': 2.4743855949588136, 'v31.harmonicRatio': 0.008765126045502954, 'v31.LA': 40.473154831662264, 'v31.ratioLGLA': 0.07381836923538047, 'v31.ratioLCLA': 0.07434329376583833, 'v31.diffLCLA': 31.591906824590136, 'v31.peakloc': 0.052881355932203396, 'v31.peakval': 0.7703634550749523, 'v31.pos_slope': 0.045284114312909615, 'v31.neg_slope': 0.05977281375379109, 'v31.PR': 94.45875432441207, 'v31.Fo': 0.040812390414962, 'v31.AMfactor': 0.006796655171765298, 'v31.DAM': 0.3404127758133968, 'v31.peakloc_unweightedSPL': 0.05836937463471652, 'v31.L63': 2.6093031814804464, 'v31.L125': 2.982864994986912, 'v31.L250': 0.3592454426668415, 'v31.L500': 0.36102686641457027, 'v31.L1000': 1.656934979911581, '025_100Hz.prominence': 0.020578708266585054, '025_100Hz.L5-L95': 0.029973235919844847, '050_200Hz.prominence': 0.00011492883245324313, '050_200Hz.L5-L95': 0.029470544150971174, '100_400Hz.prominence': 0.0001502256894586438, '100_400Hz.L5-L95': 0.0024371038058256336, '200_800Hz.prominence': 0.00036367716252795796, '200_800Hz.L5-L95': 0.0019025912960481317}}}\n"
     ]
    }
   ],
   "source": [
    "dfs = dict()\n",
    "targets = ['v31_minmax', 'IOA_minmax', 'combined_minmax']\n",
    "dfs['v31_minmax']=[cluster_size_v31, cluster_means_v31, cluster_vars_v31]\n",
    "dfs['IOA_minmax']=[cluster_size_IOA, cluster_means_IOA, cluster_vars_IOA]\n",
    "dfs['combined_minmax']=[cluster_size_combined, cluster_means_combined, cluster_vars_combined]\n",
    "\n",
    "count=0\n",
    "for target in targets:\n",
    "    row = dict()\n",
    "    for k in [3,4,5,6]:\n",
    "        row = dict()\n",
    "        row['target']=target\n",
    "        row['K']=k\n",
    "        ## There are k rows for each target\n",
    "        row['cluster']=dict()\n",
    "        for cluster in range(k):  # for each cluster for K=k means            \n",
    "            row['cluster']['cluster_id']=cluster\n",
    "            row['cluster']['size']=int(dfs[target][0][\"K=\"+str(k)][cluster])  # the first dataframe, 0, is cluster_size)\n",
    "            row['cluster']['cluster_mean']=dict() \n",
    "            row['cluster']['cluster_var']=dict() \n",
    "            for col1, col2 in zip(dfs[target][1][\"K=\"+str(k)].columns, dfs[target][2][\"K=\"+str(k)].columns):  # second dataframe is cluster means\n",
    "                row['cluster']['cluster_mean'][col1]=dfs[target][1][\"K=\"+str(k)].loc[cluster][col1]\n",
    "                row['cluster']['cluster_var'][col2]=dfs[target][2][\"K=\"+str(k)].loc[cluster][col2]\n",
    "            \n",
    "            row['_id']=count  # Add a unique id to the row manually\n",
    "            ## move row['_id'] to the front of the dictionary\n",
    "            row = {k: row[k] for k in ['_id', 'target', 'K', 'cluster']}\n",
    "            print(row)\n",
    "            coll_cluster_summary.insert_one(row)\n",
    "            count+=1"
   ]
  }
 ],
 "metadata": {
  "kernelspec": {
   "display_name": "Python 3 (ipykernel)",
   "language": "python",
   "name": "python3"
  },
  "language_info": {
   "codemirror_mode": {
    "name": "ipython",
    "version": 3
   },
   "file_extension": ".py",
   "mimetype": "text/x-python",
   "name": "python",
   "nbconvert_exporter": "python",
   "pygments_lexer": "ipython3",
   "version": "3.9.13"
  }
 },
 "nbformat": 4,
 "nbformat_minor": 2
}
