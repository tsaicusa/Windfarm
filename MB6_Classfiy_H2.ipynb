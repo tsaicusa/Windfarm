{
 "cells": [
  {
   "cell_type": "markdown",
   "metadata": {},
   "source": [
    "<div class=\"alert alert-block alert-success\"><b>Classify and Cluster H2 cases with models developed from H1</b>\n",
    "\n",
    "For the 3000 cases in H2:\n",
    "<ol>\n",
    "<li>Minmax scaled the v31 feature variables using the scaler developed from H1.</li>\n",
    "<li>Classify the 3000 cases into clean vs contiminated sets using the SVC classifier developed from H1.</li>\n",
    "<li>Cluster the clean samples identified  into clusters using clutering models developed from H1.</li>\n",
    "</ol>\n",
    "\n",
    "Update mongoDB. \n",
    "<ol>\n",
    "<li>Add a row into Subset_index collection to represent the id's of the clean cases identified in H2.</li>\n",
    "<li>Create a new collection, <b>H2_S617_clusters</b> to store the cluster information.  Currently, it only contains data based on v31_minmax.  However, results using IOA measures can be added.</li>\n",
    "</ol>\n",
    "\n",
    "</div>"
   ]
  },
  {
   "attachments": {},
   "cell_type": "markdown",
   "metadata": {},
   "source": [
    "# Clustering a subset of the complete dataset on Min_Max scaled data"
   ]
  },
  {
   "attachments": {},
   "cell_type": "markdown",
   "metadata": {},
   "source": [
    "#### A note on converting Jupyter Notebook output to MS Word Documents\n",
    "\n",
    "- The best way to convert the ipynb file (Jupyter Notebook) to a docx file is to follow the two step approach explained in: https://blog.ouseful.info/2017/06/13/using-jupyter-notebooks-for-assessment-export-as-word-docx-extension/, i.e. run the following two commands on the anaconda command line\n",
    "- Step 1: $ jupyter nbconvert --no-input --to html file_name.ipynb (use --no-input to exclude code cells, i.e. convert only markdown cells)\n",
    "\n",
    "- Step 2: $ pandoc -s file_name.html -o file_name.docx\n",
    "- This approach produces, by far, the best quality docx ouput, no distortion of either the text or the graphs.  The only drawback is that it include the hidden code cells made by the \"hide all\" extension.  I have to manually delete those contents from the produced docx file.\n",
    "#### convert ijynb to a docx file\n",
    "- https://nbconvert.readthedocs.io/en/latest/index.html\n",
    "- install nbconvert [pip install nbconvert]\n",
    "- install pandoc: [https://github.com/jgm/pandoc/releases/tag/3.1.3]"
   ]
  },
  {
   "cell_type": "code",
   "execution_count": 70,
   "metadata": {},
   "outputs": [],
   "source": [
    "import sys\n",
    "\n",
    "oneDrive_root={}\n",
    "oneDrive_root[1]=\"C:\\\\Users\\\\Chihyang\\OneDrive for Business\\\\\"\n",
    "oneDrive_root[2]=\"C:\\\\Users\\\\Chihyang\\OneDrive for Business\\\\\"\n",
    "oneDrive_root[3]=\"C:\\\\Users\\\\tsaic\\\\OneDrive - State University of New York at New Paltz\\\\\"  # laptop\n",
    "\n",
    "site=3   # the short or long business OneDrive directory name\n",
    "lib_dir=oneDrive_root[site]+'\\\\Prudentia\\\\Tsaipy'\n",
    "# append additional library path for this study\n",
    "sys.path.append(lib_dir)"
   ]
  },
  {
   "cell_type": "code",
   "execution_count": 71,
   "metadata": {},
   "outputs": [],
   "source": [
    "### import basic modules\n",
    "import numpy as np\n",
    "import pandas as pd\n",
    "import matplotlib.pyplot as plt\n",
    "\n",
    "\n",
    "### load modules from my library\n",
    "from WFN_lib.WindFarm import distance2center, write_df_sub2Excel\n",
    "from WFN_lib.mongodb_util import flatten_dictionary\n",
    "from WFN_lib.cluster_classify import cluster_analysis\n",
    "from dbconnect.mongodb import cursor_to_dataframe3\n",
    "\n",
    "\n",
    "\n",
    "### import mongodb modules\n",
    "from pymongo import MongoClient\n",
    "import pymongo\n",
    "from dbconnect import mongodb as mdb"
   ]
  },
  {
   "cell_type": "code",
   "execution_count": 72,
   "metadata": {},
   "outputs": [],
   "source": [
    "### import sklearn modules\n",
    "from sklearn.preprocessing import MinMaxScaler\n",
    "from sklearn.svm import SVC\n",
    "from sklearn.ensemble import RandomForestClassifier\n",
    "from sklearn.model_selection import train_test_split\n",
    "from sklearn.metrics import accuracy_score, confusion_matrix\n",
    "from sklearn.preprocessing import LabelEncoder\n",
    "from sklearn.model_selection import cross_val_score\n",
    "from sklearn.model_selection import StratifiedKFold\n",
    "from sklearn.model_selection import GridSearchCV\n",
    "from sklearn.metrics import classification_report\n",
    "import joblib\n",
    "\n",
    "from sklearn.metrics import roc_curve\n",
    "from sklearn.metrics import roc_auc_score"
   ]
  },
  {
   "cell_type": "markdown",
   "metadata": {},
   "source": [
    "<div class=\"alert alert-block alert-info\"><b>Connect to MongoDb:</b>\n",
    "\n",
    "</div>"
   ]
  },
  {
   "cell_type": "code",
   "execution_count": 73,
   "metadata": {},
   "outputs": [
    {
     "name": "stdout",
     "output_type": "stream",
     "text": [
      "Rows in coll_data = 6000\n"
     ]
    }
   ],
   "source": [
    "## pymongo connect to mongodb database and collection\n",
    "db_name = \"Windfarm_S6000\"\n",
    "client = MongoClient('localhost', 27017)  # connect to the db engine\n",
    "db = client[db_name]\n",
    "### test connections to the database collections\n",
    "coll_data=db['S6000_Data']\n",
    "\n",
    "print(f\"Rows in coll_data = {coll_data.count_documents({})}\")\n"
   ]
  },
  {
   "cell_type": "markdown",
   "metadata": {},
   "source": [
    "<div class=\"alert alert-block alert-success\"><b>Separate clean and non-clean samples:</b> The goal is to train a classifier on clean vs non-clean samples. For H1, clean vs non-clean are determined by human for training the classifer.  The classifer is then applied to the 3000 samples in H2 to separate clean and non-clean samples.\n",
    "</div>"
   ]
  },
  {
   "cell_type": "markdown",
   "metadata": {},
   "source": [
    "<div class=\"alert alert-block alert-info\"><b>Preprocessing:</b> \n",
    "<ul>\n",
    "<li>Minmax scaling H1 and H2 cases using saved scaler developed from H1.</li>\n",
    "<li>Add the class variable for H1 data.  The class variable is the clean vs contaminated separation.</li>\n",
    "</ul></div>"
   ]
  },
  {
   "cell_type": "markdown",
   "metadata": {},
   "source": [
    "#### Data Retrieval and Preprocessing\n",
    "- Retrive the H1 and H2 samples with the 31 feature varaibles into two dataframe, each with 3000 rows and 31 variables\n",
    "- Normalize H1 data using saved minmax normalization.\n",
    "- Use the normalization parameters obtained from H1 to normalize H2 \n",
    "- For H1 dataframe, add a __class variable__ where all 3000 cases are defaulted to __class 0__.\n",
    "- Retreive the id's of the 843 clean samples and change their __class variable value to 1__."
   ]
  },
  {
   "cell_type": "code",
   "execution_count": 74,
   "metadata": {},
   "outputs": [
    {
     "name": "stdout",
     "output_type": "stream",
     "text": [
      "Shape of df_H1:  (3000, 31)\n",
      "Shape of df_H2:  (3000, 31)\n"
     ]
    }
   ],
   "source": [
    "## retrieve H1 data from mongodb to a dataframe and normalize it.\n",
    "res1=db['S6000_Data'].find({\"site\":\"H1\"},{'v31':1})\n",
    "df_H1 = cursor_to_dataframe3(res1,\"_id\")\n",
    "row_index1 = df_H1.index\n",
    "column_names1 = df_H1.columns\n",
    "\n",
    "## Min_max normalization of df_H1 using sklearn\n",
    "## load a saved normalization parameters from a saved file\n",
    "scaler = MinMaxScaler()\n",
    "scaler = joblib.load('.//trained_models//scalers//Minmax_scaler_v31_H1_S3000.joblib')\n",
    "\n",
    "df_H1 = scaler.fit_transform(df_H1)\n",
    "df_H1 = pd.DataFrame(df_H1, index= row_index1, columns = column_names1)\n",
    "print(\"Shape of df_H1: \",df_H1.shape)\n",
    "## save the normalization parameters\n",
    "#norm_param = scaler.get_params()\n",
    "\n",
    "## retrieve H2 data from mongodb to a dataframe.\n",
    "res2=db['S6000_Data'].find({\"site\":\"H2\"},{'v31':1})\n",
    "df_H2 = cursor_to_dataframe3(res2,\"_id\")\n",
    "row_index2 = df_H2.index\n",
    "column_names2 = df_H2.columns\n",
    "## use the normalization parameters developed on df_H1 to normalize df_H2\n",
    "#scaler.set_params(**norm_param)\n",
    "df_H2 = scaler.fit_transform(df_H2)\n",
    "df_H2 = pd.DataFrame(df_H2, index=row_index2, columns = column_names2)\n",
    "print(\"Shape of df_H2: \",df_H2.shape)"
   ]
  },
  {
   "cell_type": "markdown",
   "metadata": {},
   "source": [
    "### Add the class variable to df_H1"
   ]
  },
  {
   "cell_type": "code",
   "execution_count": 75,
   "metadata": {},
   "outputs": [
    {
     "name": "stdout",
     "output_type": "stream",
     "text": [
      "(3000, 32)\n",
      "0    2157\n",
      "1     843\n",
      "Name: class, dtype: int64\n"
     ]
    }
   ],
   "source": [
    "## add a class column to the dataframe with default value of 0\n",
    "df_H1['class']=0\n",
    "print(df_H1.shape)\n",
    "### Retreive the sample ID of the 843 clean samples\n",
    "S843 = db['Subset_index'].find_one({'_id':'H1_S843'})['id_list']   # get the ID name list of the 843 clean samples\n",
    "#### Change the class value of the 843 clean samples to 1\n",
    "df_H1.loc[S843,'class']=1\n",
    "print(df_H1['class'].value_counts())\n"
   ]
  },
  {
   "cell_type": "code",
   "execution_count": 76,
   "metadata": {},
   "outputs": [
    {
     "name": "stdout",
     "output_type": "stream",
     "text": [
      "(3000, 32)\n",
      "(3000, 31)\n"
     ]
    }
   ],
   "source": [
    "## df_H1 has an additional column 'class' with 0 and 1 values\n",
    "print(df_H1.shape)\n",
    "print(df_H2.shape)"
   ]
  },
  {
   "cell_type": "markdown",
   "metadata": {},
   "source": [
    "<div class=\"alert alert-block alert-info\"><b>Classification:</b> A three step approach to determine and train a classification model.  Two classifiers are tested.\n",
    "<ul>\n",
    "<li>SVC</li>\n",
    "<li>Random Forest</li>\n",
    "</ul></div>"
   ]
  },
  {
   "cell_type": "code",
   "execution_count": 77,
   "metadata": {},
   "outputs": [],
   "source": [
    "## v31_minmax as X and class as y (clean vs non-clean)\n",
    "X = df_H1.iloc[:,0:-1]  # the last column 'class' is the class column\n",
    "y = df_H1['class']"
   ]
  },
  {
   "cell_type": "markdown",
   "metadata": {},
   "source": [
    "### Test a SVC classifier"
   ]
  },
  {
   "cell_type": "markdown",
   "metadata": {},
   "source": [
    "#### Step 1: Use GridSearch to determine the hyperparameters"
   ]
  },
  {
   "cell_type": "code",
   "execution_count": 78,
   "metadata": {},
   "outputs": [
    {
     "name": "stdout",
     "output_type": "stream",
     "text": [
      "Fitting 5 folds for each of 32 candidates, totalling 160 fits\n"
     ]
    },
    {
     "name": "stdout",
     "output_type": "stream",
     "text": [
      "{'C': 100, 'gamma': 1, 'kernel': 'rbf'}\n"
     ]
    }
   ],
   "source": [
    "## Grid search for the best hyperparameters for SVC\n",
    "param_grid1 = {'C': [0.1, 1, 10, 100], 'gamma': [1, 0.1, 0.01, 0.001], 'kernel': ['linear', 'rbf']}\n",
    "grid1 = GridSearchCV(SVC(), param_grid1, refit=True, verbose=3, n_jobs=-1)  # use default 5-fold cross validation (cv=5)\n",
    "grid1.fit(X, y)\n",
    "print(grid1.best_params_)"
   ]
  },
  {
   "cell_type": "markdown",
   "metadata": {},
   "source": [
    "#### Step 2: Use a ten-fold cross-validation to evaluate the model"
   ]
  },
  {
   "cell_type": "code",
   "execution_count": 79,
   "metadata": {},
   "outputs": [
    {
     "name": "stdout",
     "output_type": "stream",
     "text": [
      "Average Accuracy from the 10 trials: 0.796  with standard deviation: 0.023\n"
     ]
    }
   ],
   "source": [
    "## Test the best hyperparameters using cross-validation\n",
    "n_folds=10\n",
    "model_svc = SVC(**grid1.best_params_)  ## use ** to unpack the dictionary\n",
    "cv1 = StratifiedKFold(n_splits=n_folds, shuffle=True, random_state=42)\n",
    "scores1 = cross_val_score(model_svc, X, y, scoring='accuracy', cv=cv1, n_jobs=-1)\n",
    "print(f\"Average Accuracy from the {n_folds} trials: {scores1.mean():.3f}  with standard deviation: {scores1.std():.3f}\")"
   ]
  },
  {
   "cell_type": "markdown",
   "metadata": {},
   "source": [
    "#### Step 3: Fit the model with the best hyperparameters and save the trained model"
   ]
  },
  {
   "cell_type": "code",
   "execution_count": 80,
   "metadata": {},
   "outputs": [
    {
     "name": "stdout",
     "output_type": "stream",
     "text": [
      "Model saved\n",
      "Accuracy: 0.850\n",
      "[[1969  188]\n",
      " [ 263  580]]\n",
      "              precision    recall  f1-score   support\n",
      "\n",
      "           0       0.88      0.91      0.90      2157\n",
      "           1       0.76      0.69      0.72       843\n",
      "\n",
      "    accuracy                           0.85      3000\n",
      "   macro avg       0.82      0.80      0.81      3000\n",
      "weighted avg       0.85      0.85      0.85      3000\n",
      "\n"
     ]
    }
   ],
   "source": [
    "## Use the best hyperparameters to fit SVC and save the trained model\n",
    "model_svc.fit(X, y)\n",
    "## Save the trained model\n",
    "joblib.dump(model_svc, '.\\\\trained_models\\\\classification\\\\SVC_H1_v31_minmax_clean_vs_non_clean.joblib')\n",
    "print(\"Model saved\")\n",
    "\n",
    "y_pred = model_svc.predict(X)\n",
    "print(f\"Accuracy: {accuracy_score(y, y_pred):.3f}\")\n",
    "print(confusion_matrix(y, y_pred))\n",
    "\n",
    "## find precision, recall, f1-score\n",
    "print(classification_report(y, y_pred))\n"
   ]
  },
  {
   "cell_type": "markdown",
   "metadata": {},
   "source": [
    "### Test a Random Forest classifier"
   ]
  },
  {
   "cell_type": "markdown",
   "metadata": {},
   "source": [
    "#### Step 1: Use GridSearch to determine the hyperparameters"
   ]
  },
  {
   "cell_type": "code",
   "execution_count": 81,
   "metadata": {},
   "outputs": [
    {
     "name": "stdout",
     "output_type": "stream",
     "text": [
      "Fitting 5 folds for each of 36 candidates, totalling 180 fits\n"
     ]
    },
    {
     "name": "stdout",
     "output_type": "stream",
     "text": [
      "{'max_depth': 10, 'max_features': 31, 'n_estimators': 30}\n"
     ]
    }
   ],
   "source": [
    "## Grid search for the best hyperparameters for RandomForestClassifier\n",
    "param_grid2 = {'n_estimators': [10, 20, 30, 50], 'max_features': [10, 15, 31], 'max_depth': [10, 15, 20]}\n",
    "grid2 = GridSearchCV(RandomForestClassifier(), param_grid2, refit=True, verbose=3, n_jobs=-1)\n",
    "grid2.fit(X, y)\n",
    "print(grid2.best_params_)"
   ]
  },
  {
   "cell_type": "markdown",
   "metadata": {},
   "source": [
    "#### Step 2: Use a ten-fold cross-validation to evaluate the model"
   ]
  },
  {
   "cell_type": "code",
   "execution_count": 82,
   "metadata": {},
   "outputs": [
    {
     "name": "stdout",
     "output_type": "stream",
     "text": [
      "Average Accuracy from the 10 trials: 0.782  with standard deviation: 0.015\n"
     ]
    }
   ],
   "source": [
    "## Test the best hyperparameters using cross-validation\n",
    "n_folds=10\n",
    "model_rmft = RandomForestClassifier(**grid2.best_params_)\n",
    "cv2 = StratifiedKFold(n_splits=n_folds, shuffle=True, random_state=42)\n",
    "scores2 = cross_val_score(model_rmft, X, y, scoring='accuracy', cv=cv2, n_jobs=-1)\n",
    "print(f\"Average Accuracy from the {n_folds} trials: {scores2.mean():.3f}  with standard deviation: {scores2.std():.3f}\")\n"
   ]
  },
  {
   "cell_type": "markdown",
   "metadata": {},
   "source": [
    "#### Step 3: Fit the model with the best hyperparameters and save the trained model"
   ]
  },
  {
   "cell_type": "code",
   "execution_count": 83,
   "metadata": {},
   "outputs": [
    {
     "name": "stdout",
     "output_type": "stream",
     "text": [
      "Model saved\n",
      "Accuracy: 0.956\n",
      "[[2140   17]\n",
      " [ 114  729]]\n",
      "              precision    recall  f1-score   support\n",
      "\n",
      "           0       0.95      0.99      0.97      2157\n",
      "           1       0.98      0.86      0.92       843\n",
      "\n",
      "    accuracy                           0.96      3000\n",
      "   macro avg       0.96      0.93      0.94      3000\n",
      "weighted avg       0.96      0.96      0.96      3000\n",
      "\n"
     ]
    }
   ],
   "source": [
    "# fit the model with the best hyperparameters\n",
    "model_rmft.fit(X, y)\n",
    "## Save the trained model\n",
    "joblib.dump(model_rmft, '.\\\\trained_models\\\\classification\\\\RandomForest_H1_v31_minmax_clean_vs_non_clean.joblib')\n",
    "print(\"Model saved\")\n",
    "\n",
    "y_pred = model_rmft.predict(X)\n",
    "print(f\"Accuracy: {accuracy_score(y, y_pred):.3f}\")\n",
    "print(confusion_matrix(y, y_pred))\n",
    "\n",
    "## find precision, recall, f1-score\n",
    "print(classification_report(y, y_pred))"
   ]
  },
  {
   "cell_type": "code",
   "execution_count": 84,
   "metadata": {},
   "outputs": [
    {
     "name": "stdout",
     "output_type": "stream",
     "text": [
      "No Skill: ROC AUC=0.500\n",
      "Random Forest: ROC AUC=0.995\n"
     ]
    },
    {
     "data": {
      "text/plain": [
       "<matplotlib.legend.Legend at 0x1c2aef9a130>"
      ]
     },
     "execution_count": 84,
     "metadata": {},
     "output_type": "execute_result"
    },
    {
     "data": {
      "image/png": "[encoded data removed]",
      "text/plain": [
       "<Figure size 640x480 with 1 Axes>"
      ]
     },
     "metadata": {},
     "output_type": "display_data"
    }
   ],
   "source": [
    "# ROC curve for the RandomForest model\n",
    "# generate a no skill prediction (majority class)\n",
    "ns_probs = [0 for _ in range(len(y))]\n",
    "# predict probabilities\n",
    "rf_probs = model_rmft.predict_proba(X)\n",
    "# keep probabilities for the positive outcome only\n",
    "rf_probs = rf_probs[:, 1]\n",
    "# calculate scores\n",
    "ns_auc = roc_auc_score(y, ns_probs)\n",
    "rf_auc = roc_auc_score(y, rf_probs)\n",
    "# summarize scores\n",
    "print('No Skill: ROC AUC=%.3f' % (ns_auc))\n",
    "print('Random Forest: ROC AUC=%.3f' % (rf_auc))\n",
    "# calculate roc curves\n",
    "ns_fpr, ns_tpr, _ = roc_curve(y, ns_probs)\n",
    "rf_fpr, rf_tpr, _ = roc_curve(y, rf_probs)\n",
    "# plot the roc curve for the model\n",
    "plt.plot(ns_fpr, ns_tpr, linestyle='--', label='No Skill')\n",
    "plt.plot(rf_fpr, rf_tpr, marker='.', label='Random Forest')\n",
    "# axis labels\n",
    "plt.xlabel('False Positive Rate')\n",
    "plt.ylabel('True Positive Rate')\n",
    "# show the legend\n",
    "plt.legend()\n"
   ]
  },
  {
   "cell_type": "code",
   "execution_count": 85,
   "metadata": {},
   "outputs": [
    {
     "name": "stdout",
     "output_type": "stream",
     "text": [
      "Feature ranking:\n",
      "1. feature 19: v31.pos_slope (0.107)\n",
      "2. feature 30: v31.L1000 (0.069)\n",
      "3. feature 20: v31.neg_slope (0.068)\n",
      "4. feature 8: v31.spectralSkewness (0.063)\n",
      "5. feature 18: v31.peakval (0.054)\n",
      "6. feature 21: v31.PR (0.046)\n",
      "7. feature 4: v31.spectralFlatness (0.042)\n",
      "8. feature 23: v31.AMfactor (0.037)\n",
      "9. feature 15: v31.ratioLCLA (0.035)\n",
      "10. feature 12: v31.harmonicRatio (0.033)\n",
      "11. feature 10: v31.spectralSpread (0.033)\n",
      "12. feature 5: v31.spectralFlux (0.030)\n",
      "13. feature 26: v31.L63 (0.030)\n",
      "14. feature 27: v31.L125 (0.029)\n",
      "15. feature 13: v31.LA (0.028)\n",
      "16. feature 14: v31.ratioLGLA (0.026)\n",
      "17. feature 28: v31.L250 (0.025)\n",
      "18. feature 24: v31.DAM (0.024)\n",
      "19. feature 6: v31.spectralKurtosis (0.023)\n",
      "20. feature 16: v31.diffLCLA (0.023)\n",
      "21. feature 29: v31.L500 (0.022)\n",
      "22. feature 25: v31.peakloc_unweightedSPL (0.020)\n",
      "23. feature 9: v31.spectralSlope (0.020)\n",
      "24. feature 2: v31.spectralDecrease (0.019)\n",
      "25. feature 1: v31.spectralCrest (0.017)\n",
      "26. feature 0: v31.spectralCentroid (0.015)\n",
      "27. feature 17: v31.peakloc (0.015)\n",
      "28. feature 3: v31.spectralEntropy (0.014)\n",
      "29. feature 7: v31.spectralRolloffPoint (0.013)\n",
      "30. feature 11: v31.pitch (0.012)\n",
      "31. feature 22: v31.Fo (0.009)\n",
      "Feature ranking done\n",
      "Feature names: Index(['v31.spectralCentroid', 'v31.spectralCrest', 'v31.spectralDecrease',\n",
      "       'v31.spectralEntropy', 'v31.spectralFlatness', 'v31.spectralFlux',\n",
      "       'v31.spectralKurtosis', 'v31.spectralRolloffPoint',\n",
      "       'v31.spectralSkewness', 'v31.spectralSlope', 'v31.spectralSpread',\n",
      "       'v31.pitch', 'v31.harmonicRatio', 'v31.LA', 'v31.ratioLGLA',\n",
      "       'v31.ratioLCLA', 'v31.diffLCLA', 'v31.peakloc', 'v31.peakval',\n",
      "       'v31.pos_slope', 'v31.neg_slope', 'v31.PR', 'v31.Fo', 'v31.AMfactor',\n",
      "       'v31.DAM', 'v31.peakloc_unweightedSPL', 'v31.L63', 'v31.L125',\n",
      "       'v31.L250', 'v31.L500', 'v31.L1000'],\n",
      "      dtype='object')\n"
     ]
    }
   ],
   "source": [
    "### Find the feature importance\n",
    "importances = model_rmft.feature_importances_\n",
    "indices = np.argsort(importances)[::-1]\n",
    "\n",
    "feature_names = X.columns\n",
    "print(\"Feature ranking:\")\n",
    "for i in range(X.shape[1]):\n",
    "    print(f\"{i+1}. feature {indices[i]}: {feature_names[indices[i]]} ({importances[indices[i]]:.3f})\")\n",
    "print(\"Feature ranking done\")\n",
    "## find the corresponding feature names\n",
    "feature_names = X.columns\n",
    "print(f\"Feature names: {feature_names}\")\n",
    "\n"
   ]
  },
  {
   "cell_type": "markdown",
   "metadata": {},
   "source": [
    "### Apply the trained classifer to H2"
   ]
  },
  {
   "cell_type": "code",
   "execution_count": 86,
   "metadata": {},
   "outputs": [
    {
     "name": "stdout",
     "output_type": "stream",
     "text": [
      "Number of clean cases: 617\n",
      "Number of non-clean cases: 2383\n"
     ]
    }
   ],
   "source": [
    "## Use the trained model to predict the class of the H2 data\n",
    "y_pred_svc = model_svc.predict(df_H2)\n",
    "## find the number clean cases and non-clean cases\n",
    "print(f\"Number of clean cases: {np.sum(y_pred_svc)}\")\n",
    "print(f\"Number of non-clean cases: {len(y_pred_svc)-np.sum(y_pred_svc)}\")\n"
   ]
  },
  {
   "cell_type": "code",
   "execution_count": 87,
   "metadata": {},
   "outputs": [
    {
     "name": "stdout",
     "output_type": "stream",
     "text": [
      "Number of clean cases: 459\n",
      "Number of non-clean cases: 2541\n"
     ]
    }
   ],
   "source": [
    "y_pred_rmft = model_rmft.predict(df_H2)\n",
    "## find the number clean cases and non-clean cases\n",
    "print(f\"Number of clean cases: {np.sum(y_pred_rmft)}\")\n",
    "print(f\"Number of non-clean cases: {len(y_pred_rmft)-np.sum(y_pred_rmft)}\")"
   ]
  },
  {
   "cell_type": "markdown",
   "metadata": {},
   "source": [
    "#### Append H2 classification result from both approaches to df_H2\n"
   ]
  },
  {
   "cell_type": "code",
   "execution_count": 88,
   "metadata": {},
   "outputs": [],
   "source": [
    "df_H2_class = df_H2.copy()\n",
    "df_H2_class['class_svc']=y_pred_svc\n",
    "df_H2_class['class_rmft']=y_pred_rmft"
   ]
  },
  {
   "cell_type": "code",
   "execution_count": 89,
   "metadata": {},
   "outputs": [
    {
     "name": "stdout",
     "output_type": "stream",
     "text": [
      "Number of overlapping clean cases: 292\n"
     ]
    }
   ],
   "source": [
    "#### Check the overlap between the two models\n",
    "print(f\"Number of overlapping clean cases: {np.sum(y_pred_svc & y_pred_rmft)}\")"
   ]
  },
  {
   "cell_type": "code",
   "execution_count": 90,
   "metadata": {},
   "outputs": [
    {
     "data": {
      "text/html": [
       "<div>\n",
       "<style scoped>\n",
       "    .dataframe tbody tr th:only-of-type {\n",
       "        vertical-align: middle;\n",
       "    }\n",
       "\n",
       "    .dataframe tbody tr th {\n",
       "        vertical-align: top;\n",
       "    }\n",
       "\n",
       "    .dataframe thead th {\n",
       "        text-align: right;\n",
       "    }\n",
       "</style>\n",
       "<table border=\"1\" class=\"dataframe\">\n",
       "  <thead>\n",
       "    <tr style=\"text-align: right;\">\n",
       "      <th></th>\n",
       "      <th>v31.spectralCentroid</th>\n",
       "      <th>v31.spectralCrest</th>\n",
       "      <th>v31.spectralDecrease</th>\n",
       "      <th>v31.spectralEntropy</th>\n",
       "      <th>v31.spectralFlatness</th>\n",
       "      <th>v31.spectralFlux</th>\n",
       "      <th>v31.spectralKurtosis</th>\n",
       "      <th>v31.spectralRolloffPoint</th>\n",
       "      <th>v31.spectralSkewness</th>\n",
       "      <th>v31.spectralSlope</th>\n",
       "      <th>...</th>\n",
       "      <th>v31.AMfactor</th>\n",
       "      <th>v31.DAM</th>\n",
       "      <th>v31.peakloc_unweightedSPL</th>\n",
       "      <th>v31.L63</th>\n",
       "      <th>v31.L125</th>\n",
       "      <th>v31.L250</th>\n",
       "      <th>v31.L500</th>\n",
       "      <th>v31.L1000</th>\n",
       "      <th>class_svc</th>\n",
       "      <th>class_rmft</th>\n",
       "    </tr>\n",
       "  </thead>\n",
       "  <tbody>\n",
       "    <tr>\n",
       "      <th>H2_0001</th>\n",
       "      <td>0.005632</td>\n",
       "      <td>0.973885</td>\n",
       "      <td>0.992231</td>\n",
       "      <td>0.032404</td>\n",
       "      <td>0.003608</td>\n",
       "      <td>0.036352</td>\n",
       "      <td>0.023006</td>\n",
       "      <td>0.005659</td>\n",
       "      <td>0.189086</td>\n",
       "      <td>0.930674</td>\n",
       "      <td>...</td>\n",
       "      <td>0.134755</td>\n",
       "      <td>0.157878</td>\n",
       "      <td>0.021739</td>\n",
       "      <td>0.112431</td>\n",
       "      <td>0.239937</td>\n",
       "      <td>0.190387</td>\n",
       "      <td>0.093880</td>\n",
       "      <td>0.280321</td>\n",
       "      <td>0</td>\n",
       "      <td>0</td>\n",
       "    </tr>\n",
       "    <tr>\n",
       "      <th>H2_0002</th>\n",
       "      <td>0.001613</td>\n",
       "      <td>0.984752</td>\n",
       "      <td>0.996335</td>\n",
       "      <td>0.023273</td>\n",
       "      <td>0.000692</td>\n",
       "      <td>0.080071</td>\n",
       "      <td>0.014018</td>\n",
       "      <td>0.000689</td>\n",
       "      <td>0.138962</td>\n",
       "      <td>0.949881</td>\n",
       "      <td>...</td>\n",
       "      <td>0.103570</td>\n",
       "      <td>0.268546</td>\n",
       "      <td>0.369565</td>\n",
       "      <td>0.127201</td>\n",
       "      <td>0.198834</td>\n",
       "      <td>0.089432</td>\n",
       "      <td>0.073755</td>\n",
       "      <td>0.493840</td>\n",
       "      <td>0</td>\n",
       "      <td>0</td>\n",
       "    </tr>\n",
       "    <tr>\n",
       "      <th>H2_0003</th>\n",
       "      <td>0.018495</td>\n",
       "      <td>0.862324</td>\n",
       "      <td>0.999656</td>\n",
       "      <td>0.151617</td>\n",
       "      <td>0.017284</td>\n",
       "      <td>0.009619</td>\n",
       "      <td>0.001202</td>\n",
       "      <td>0.027532</td>\n",
       "      <td>0.047971</td>\n",
       "      <td>0.989650</td>\n",
       "      <td>...</td>\n",
       "      <td>0.035255</td>\n",
       "      <td>0.058365</td>\n",
       "      <td>0.000000</td>\n",
       "      <td>0.113237</td>\n",
       "      <td>0.243552</td>\n",
       "      <td>0.072689</td>\n",
       "      <td>0.057389</td>\n",
       "      <td>0.080989</td>\n",
       "      <td>0</td>\n",
       "      <td>0</td>\n",
       "    </tr>\n",
       "  </tbody>\n",
       "</table>\n",
       "<p>3 rows × 33 columns</p>\n",
       "</div>"
      ],
      "text/plain": [
       "         v31.spectralCentroid  v31.spectralCrest  v31.spectralDecrease  \\\n",
       "H2_0001              0.005632           0.973885              0.992231   \n",
       "H2_0002              0.001613           0.984752              0.996335   \n",
       "H2_0003              0.018495           0.862324              0.999656   \n",
       "\n",
       "         v31.spectralEntropy  v31.spectralFlatness  v31.spectralFlux  \\\n",
       "H2_0001             0.032404              0.003608          0.036352   \n",
       "H2_0002             0.023273              0.000692          0.080071   \n",
       "H2_0003             0.151617              0.017284          0.009619   \n",
       "\n",
       "         v31.spectralKurtosis  v31.spectralRolloffPoint  v31.spectralSkewness  \\\n",
       "H2_0001              0.023006                  0.005659              0.189086   \n",
       "H2_0002              0.014018                  0.000689              0.138962   \n",
       "H2_0003              0.001202                  0.027532              0.047971   \n",
       "\n",
       "         v31.spectralSlope  ...  v31.AMfactor   v31.DAM  \\\n",
       "H2_0001           0.930674  ...      0.134755  0.157878   \n",
       "H2_0002           0.949881  ...      0.103570  0.268546   \n",
       "H2_0003           0.989650  ...      0.035255  0.058365   \n",
       "\n",
       "         v31.peakloc_unweightedSPL   v31.L63  v31.L125  v31.L250  v31.L500  \\\n",
       "H2_0001                   0.021739  0.112431  0.239937  0.190387  0.093880   \n",
       "H2_0002                   0.369565  0.127201  0.198834  0.089432  0.073755   \n",
       "H2_0003                   0.000000  0.113237  0.243552  0.072689  0.057389   \n",
       "\n",
       "         v31.L1000  class_svc  class_rmft  \n",
       "H2_0001   0.280321          0           0  \n",
       "H2_0002   0.493840          0           0  \n",
       "H2_0003   0.080989          0           0  \n",
       "\n",
       "[3 rows x 33 columns]"
      ]
     },
     "execution_count": 90,
     "metadata": {},
     "output_type": "execute_result"
    }
   ],
   "source": [
    "df_H2_class.head(3)"
   ]
  },
  {
   "cell_type": "code",
   "execution_count": 91,
   "metadata": {},
   "outputs": [],
   "source": [
    "## Create folders to save the wave file by categories, clean and non-clean"
   ]
  },
  {
   "cell_type": "code",
   "execution_count": 92,
   "metadata": {},
   "outputs": [],
   "source": [
    "wav_source_dir = dir_in_wav = \".//wav//wav_files//\"\n",
    "destination_dir =\"F://split_wav_files//\""
   ]
  },
  {
   "cell_type": "markdown",
   "metadata": {},
   "source": [
    "<div class=\"alert alert-block alert-info\"><b>Copy wav files to folders:</b> \n",
    "\n",
    "Copy wav files in H2 to two folders, one for the clean samples and the ohter for contaminated samples.</div>"
   ]
  },
  {
   "cell_type": "code",
   "execution_count": 93,
   "metadata": {},
   "outputs": [
    {
     "ename": "FileNotFoundError",
     "evalue": "[Errno 2] No such file or directory: 'F://split_wav_files//SVC//Non-Clean//'",
     "output_type": "error",
     "traceback": [
      "\u001b[1;31m---------------------------------------------------------------------------\u001b[0m",
      "\u001b[1;31mFileNotFoundError\u001b[0m                         Traceback (most recent call last)",
      "\u001b[1;32m~\\AppData\\Local\\Temp\\ipykernel_15092\\3082555425.py\u001b[0m in \u001b[0;36m<module>\u001b[1;34m\u001b[0m\n\u001b[0;32m      7\u001b[0m         \u001b[0mdir_out_wav\u001b[0m \u001b[1;33m=\u001b[0m \u001b[0mdestination_dir\u001b[0m\u001b[1;33m+\u001b[0m\u001b[1;34m\"SVC//Non-Clean//\"\u001b[0m\u001b[1;33m\u001b[0m\u001b[1;33m\u001b[0m\u001b[0m\n\u001b[0;32m      8\u001b[0m     \u001b[1;31m## copy the wav file to the corresponding cluster folder\u001b[0m\u001b[1;33m\u001b[0m\u001b[1;33m\u001b[0m\u001b[0m\n\u001b[1;32m----> 9\u001b[1;33m     \u001b[0mshutil\u001b[0m\u001b[1;33m.\u001b[0m\u001b[0mcopy\u001b[0m\u001b[1;33m(\u001b[0m\u001b[0mwav_source_dir\u001b[0m\u001b[1;33m+\u001b[0m\u001b[0mfile_wav\u001b[0m\u001b[1;33m,\u001b[0m \u001b[0mdir_out_wav\u001b[0m\u001b[1;33m)\u001b[0m\u001b[1;33m\u001b[0m\u001b[1;33m\u001b[0m\u001b[0m\n\u001b[0m",
      "\u001b[1;32mc:\\ProgramData\\Anaconda3\\lib\\shutil.py\u001b[0m in \u001b[0;36mcopy\u001b[1;34m(src, dst, follow_symlinks)\u001b[0m\n\u001b[0;32m    425\u001b[0m     \u001b[1;32mif\u001b[0m \u001b[0mos\u001b[0m\u001b[1;33m.\u001b[0m\u001b[0mpath\u001b[0m\u001b[1;33m.\u001b[0m\u001b[0misdir\u001b[0m\u001b[1;33m(\u001b[0m\u001b[0mdst\u001b[0m\u001b[1;33m)\u001b[0m\u001b[1;33m:\u001b[0m\u001b[1;33m\u001b[0m\u001b[1;33m\u001b[0m\u001b[0m\n\u001b[0;32m    426\u001b[0m         \u001b[0mdst\u001b[0m \u001b[1;33m=\u001b[0m \u001b[0mos\u001b[0m\u001b[1;33m.\u001b[0m\u001b[0mpath\u001b[0m\u001b[1;33m.\u001b[0m\u001b[0mjoin\u001b[0m\u001b[1;33m(\u001b[0m\u001b[0mdst\u001b[0m\u001b[1;33m,\u001b[0m \u001b[0mos\u001b[0m\u001b[1;33m.\u001b[0m\u001b[0mpath\u001b[0m\u001b[1;33m.\u001b[0m\u001b[0mbasename\u001b[0m\u001b[1;33m(\u001b[0m\u001b[0msrc\u001b[0m\u001b[1;33m)\u001b[0m\u001b[1;33m)\u001b[0m\u001b[1;33m\u001b[0m\u001b[1;33m\u001b[0m\u001b[0m\n\u001b[1;32m--> 427\u001b[1;33m     \u001b[0mcopyfile\u001b[0m\u001b[1;33m(\u001b[0m\u001b[0msrc\u001b[0m\u001b[1;33m,\u001b[0m \u001b[0mdst\u001b[0m\u001b[1;33m,\u001b[0m \u001b[0mfollow_symlinks\u001b[0m\u001b[1;33m=\u001b[0m\u001b[0mfollow_symlinks\u001b[0m\u001b[1;33m)\u001b[0m\u001b[1;33m\u001b[0m\u001b[1;33m\u001b[0m\u001b[0m\n\u001b[0m\u001b[0;32m    428\u001b[0m     \u001b[0mcopymode\u001b[0m\u001b[1;33m(\u001b[0m\u001b[0msrc\u001b[0m\u001b[1;33m,\u001b[0m \u001b[0mdst\u001b[0m\u001b[1;33m,\u001b[0m \u001b[0mfollow_symlinks\u001b[0m\u001b[1;33m=\u001b[0m\u001b[0mfollow_symlinks\u001b[0m\u001b[1;33m)\u001b[0m\u001b[1;33m\u001b[0m\u001b[1;33m\u001b[0m\u001b[0m\n\u001b[0;32m    429\u001b[0m     \u001b[1;32mreturn\u001b[0m \u001b[0mdst\u001b[0m\u001b[1;33m\u001b[0m\u001b[1;33m\u001b[0m\u001b[0m\n",
      "\u001b[1;32mc:\\ProgramData\\Anaconda3\\lib\\shutil.py\u001b[0m in \u001b[0;36mcopyfile\u001b[1;34m(src, dst, follow_symlinks)\u001b[0m\n\u001b[0;32m    264\u001b[0m         \u001b[1;32mwith\u001b[0m \u001b[0mopen\u001b[0m\u001b[1;33m(\u001b[0m\u001b[0msrc\u001b[0m\u001b[1;33m,\u001b[0m \u001b[1;34m'rb'\u001b[0m\u001b[1;33m)\u001b[0m \u001b[1;32mas\u001b[0m \u001b[0mfsrc\u001b[0m\u001b[1;33m:\u001b[0m\u001b[1;33m\u001b[0m\u001b[1;33m\u001b[0m\u001b[0m\n\u001b[0;32m    265\u001b[0m             \u001b[1;32mtry\u001b[0m\u001b[1;33m:\u001b[0m\u001b[1;33m\u001b[0m\u001b[1;33m\u001b[0m\u001b[0m\n\u001b[1;32m--> 266\u001b[1;33m                 \u001b[1;32mwith\u001b[0m \u001b[0mopen\u001b[0m\u001b[1;33m(\u001b[0m\u001b[0mdst\u001b[0m\u001b[1;33m,\u001b[0m \u001b[1;34m'wb'\u001b[0m\u001b[1;33m)\u001b[0m \u001b[1;32mas\u001b[0m \u001b[0mfdst\u001b[0m\u001b[1;33m:\u001b[0m\u001b[1;33m\u001b[0m\u001b[1;33m\u001b[0m\u001b[0m\n\u001b[0m\u001b[0;32m    267\u001b[0m                     \u001b[1;31m# macOS\u001b[0m\u001b[1;33m\u001b[0m\u001b[1;33m\u001b[0m\u001b[0m\n\u001b[0;32m    268\u001b[0m                     \u001b[1;32mif\u001b[0m \u001b[0m_HAS_FCOPYFILE\u001b[0m\u001b[1;33m:\u001b[0m\u001b[1;33m\u001b[0m\u001b[1;33m\u001b[0m\u001b[0m\n",
      "\u001b[1;31mFileNotFoundError\u001b[0m: [Errno 2] No such file or directory: 'F://split_wav_files//SVC//Non-Clean//'"
     ]
    }
   ],
   "source": [
    "import shutil\n",
    "for s in df_H2_class.index:\n",
    "    file_wav = s+\".wav\"\n",
    "    if df_H2_class.loc[s,'class_svc']==1:\n",
    "        dir_out_wav = destination_dir+\"SVC//Clean//\"\n",
    "    else:\n",
    "        dir_out_wav = destination_dir+\"SVC//Non-Clean//\"\n",
    "    ## copy the wav file to the corresponding cluster folder\n",
    "    shutil.copy(wav_source_dir+file_wav, dir_out_wav)\n"
   ]
  },
  {
   "cell_type": "code",
   "execution_count": null,
   "metadata": {},
   "outputs": [],
   "source": [
    "for s in df_H2.index:\n",
    "    file_wav = s+\".wav\"\n",
    "    if df_H2_class.loc[s,'class_rmft']==1:\n",
    "        dir_out_wav = destination_dir+\"RandomForest//Clean//\"\n",
    "    else:\n",
    "        dir_out_wav = destination_dir+\"RandomForest//Non-Clean//\"\n",
    "    ## copy the wav file to the corresponding cluster folder\n",
    "    shutil.copy(wav_source_dir+file_wav, dir_out_wav)    "
   ]
  },
  {
   "cell_type": "markdown",
   "metadata": {},
   "source": [
    "<div class=\"alert alert-block alert-info\"><b>Clustering:</b> Cluster the clean samples in H2 using the clustering models developed on H1.  We tried four K values for KMeans clustering where K=3, 4, 5, and 6. \n",
    "</div>"
   ]
  },
  {
   "cell_type": "code",
   "execution_count": 95,
   "metadata": {},
   "outputs": [
    {
     "data": {
      "text/html": [
       "<div>\n",
       "<style scoped>\n",
       "    .dataframe tbody tr th:only-of-type {\n",
       "        vertical-align: middle;\n",
       "    }\n",
       "\n",
       "    .dataframe tbody tr th {\n",
       "        vertical-align: top;\n",
       "    }\n",
       "\n",
       "    .dataframe thead th {\n",
       "        text-align: right;\n",
       "    }\n",
       "</style>\n",
       "<table border=\"1\" class=\"dataframe\">\n",
       "  <thead>\n",
       "    <tr style=\"text-align: right;\">\n",
       "      <th></th>\n",
       "      <th>v31.spectralCentroid</th>\n",
       "      <th>v31.spectralCrest</th>\n",
       "      <th>v31.spectralDecrease</th>\n",
       "      <th>v31.spectralEntropy</th>\n",
       "      <th>v31.spectralFlatness</th>\n",
       "      <th>v31.spectralFlux</th>\n",
       "      <th>v31.spectralKurtosis</th>\n",
       "      <th>v31.spectralRolloffPoint</th>\n",
       "      <th>v31.spectralSkewness</th>\n",
       "      <th>v31.spectralSlope</th>\n",
       "      <th>...</th>\n",
       "      <th>v31.AMfactor</th>\n",
       "      <th>v31.DAM</th>\n",
       "      <th>v31.peakloc_unweightedSPL</th>\n",
       "      <th>v31.L63</th>\n",
       "      <th>v31.L125</th>\n",
       "      <th>v31.L250</th>\n",
       "      <th>v31.L500</th>\n",
       "      <th>v31.L1000</th>\n",
       "      <th>class_svc</th>\n",
       "      <th>class_rmft</th>\n",
       "    </tr>\n",
       "  </thead>\n",
       "  <tbody>\n",
       "    <tr>\n",
       "      <th>H2_0001</th>\n",
       "      <td>0.005632</td>\n",
       "      <td>0.973885</td>\n",
       "      <td>0.992231</td>\n",
       "      <td>0.032404</td>\n",
       "      <td>0.003608</td>\n",
       "      <td>0.036352</td>\n",
       "      <td>0.023006</td>\n",
       "      <td>0.005659</td>\n",
       "      <td>0.189086</td>\n",
       "      <td>0.930674</td>\n",
       "      <td>...</td>\n",
       "      <td>0.134755</td>\n",
       "      <td>0.157878</td>\n",
       "      <td>0.021739</td>\n",
       "      <td>0.112431</td>\n",
       "      <td>0.239937</td>\n",
       "      <td>0.190387</td>\n",
       "      <td>0.09388</td>\n",
       "      <td>0.280321</td>\n",
       "      <td>0</td>\n",
       "      <td>0</td>\n",
       "    </tr>\n",
       "  </tbody>\n",
       "</table>\n",
       "<p>1 rows × 33 columns</p>\n",
       "</div>"
      ],
      "text/plain": [
       "         v31.spectralCentroid  v31.spectralCrest  v31.spectralDecrease  \\\n",
       "H2_0001              0.005632           0.973885              0.992231   \n",
       "\n",
       "         v31.spectralEntropy  v31.spectralFlatness  v31.spectralFlux  \\\n",
       "H2_0001             0.032404              0.003608          0.036352   \n",
       "\n",
       "         v31.spectralKurtosis  v31.spectralRolloffPoint  v31.spectralSkewness  \\\n",
       "H2_0001              0.023006                  0.005659              0.189086   \n",
       "\n",
       "         v31.spectralSlope  ...  v31.AMfactor   v31.DAM  \\\n",
       "H2_0001           0.930674  ...      0.134755  0.157878   \n",
       "\n",
       "         v31.peakloc_unweightedSPL   v31.L63  v31.L125  v31.L250  v31.L500  \\\n",
       "H2_0001                   0.021739  0.112431  0.239937  0.190387   0.09388   \n",
       "\n",
       "         v31.L1000  class_svc  class_rmft  \n",
       "H2_0001   0.280321          0           0  \n",
       "\n",
       "[1 rows x 33 columns]"
      ]
     },
     "execution_count": 95,
     "metadata": {},
     "output_type": "execute_result"
    }
   ],
   "source": [
    "df_H2_class.head(1)"
   ]
  },
  {
   "cell_type": "markdown",
   "metadata": {},
   "source": [
    "### Cluster H2 based on the clutering models developed from H1"
   ]
  },
  {
   "cell_type": "code",
   "execution_count": 103,
   "metadata": {},
   "outputs": [
    {
     "name": "stdout",
     "output_type": "stream",
     "text": [
      "617\n"
     ]
    },
    {
     "name": "stderr",
     "output_type": "stream",
     "text": [
      "C:\\Users\\tsaic\\AppData\\Local\\Temp\\ipykernel_15092\\402254683.py:7: DeprecationWarning: remove is deprecated. Use delete_one or delete_many instead.\n",
      "  db['Subset_index'].remove({'_id':'H2_S617'})\n"
     ]
    },
    {
     "data": {
      "text/plain": [
       "<pymongo.results.InsertOneResult at 0x1c2af60f400>"
      ]
     },
     "execution_count": 103,
     "metadata": {},
     "output_type": "execute_result"
    }
   ],
   "source": [
    "### Extract clean samples from H2\n",
    "## find the id's of the clean samples classifed by the SVC model\n",
    "SVC_clean = list(df_H2_class[df_H2_class['class_svc']==1].index)\n",
    "print(len(SVC_clean))\n",
    "df_H2_clean = df_H2.loc[SVC_clean,:]\n",
    "df_H2_clean.shape\n",
    "db['Subset_index'].remove({'_id':'H2_S617'})\n",
    "db['Subset_index'].insert_one({'_id':'H2_S617', 'site':'H2', 'id_list':SVC_clean, 'size':len(SVC_clean), \"description\":\"These are clean files from H2 classified by SVC model trained on H1\"})"
   ]
  },
  {
   "cell_type": "code",
   "execution_count": 99,
   "metadata": {},
   "outputs": [
    {
     "name": "stdout",
     "output_type": "stream",
     "text": [
      "(617, 31)\n",
      "(617, 4)\n"
     ]
    }
   ],
   "source": [
    "print(df_H2_clean.shape)\n",
    "df_H2_clean_K=pd.DataFrame(index=df_H2_clean.index)\n",
    "for k in [3,4,5,6]:\n",
    "    ## retrieve train clustering model\n",
    "    model = joblib.load(f'.\\\\trained_models\\\\clustering\\\\Kmeans_H1_S843_v31_MinMax_K={k}.joblib')\n",
    "    ## predict the cluster of the clean samples\n",
    "    df_H2_clean_K[f'K={k}']=model.predict(df_H2_clean)\n",
    "\n",
    "print(df_H2_clean_K.shape)\n",
    "print(df_H2_clean_K.head(3))    "
   ]
  },
  {
   "cell_type": "code",
   "execution_count": 100,
   "metadata": {},
   "outputs": [
    {
     "name": "stdout",
     "output_type": "stream",
     "text": [
      "K=5\n",
      "[0 2 3 4]\n",
      "(503, 12)\n",
      "Sort rows by:  rank_K=5\n",
      "cluster = 0:  Shape of dk: (503, 12)\n",
      "         K=3  K=4  K=5  K=6  dist_K=3  rank_K=3  dist_K=4  rank_K=4  dist_K=5  \\\n",
      "H2_0268    2    3    0    1  0.151096         2  0.151482         2  0.134409   \n",
      "H2_0207    2    3    0    1  0.144181         1  0.147500         1  0.137505   \n",
      "H2_1790    2    3    0    1  0.160872         6  0.160071         5  0.152330   \n",
      "\n",
      "         rank_K=5  dist_K=6  rank_K=6  \n",
      "H2_0268         1  0.132987         1  \n",
      "H2_0207         2  0.137065         2  \n",
      "H2_1790         3  0.152427         4  \n",
      "(16, 12)\n",
      "Sort rows by:  rank_K=5\n",
      "cluster = 2:  Shape of dk: (16, 12)\n",
      "         K=3  K=4  K=5  K=6  dist_K=3  rank_K=3  dist_K=4  rank_K=4  dist_K=5  \\\n",
      "H2_2678    1    2    2    0  0.166807         1  0.259508         1  0.190697   \n",
      "H2_0731    1    2    2    0  0.295698         3  0.279191         2  0.217554   \n",
      "H2_0997    1    2    2    2  0.431268         8  0.305130         3  0.289774   \n",
      "\n",
      "         rank_K=5  dist_K=6  rank_K=6  \n",
      "H2_2678         1  0.180590         1  \n",
      "H2_0731         2  0.311960         3  \n",
      "H2_0997         3  0.393033         6  \n",
      "(96, 12)\n",
      "Sort rows by:  rank_K=5\n",
      "cluster = 3:  Shape of dk: (96, 12)\n",
      "         K=3  K=4  K=5  K=6  dist_K=3  rank_K=3  dist_K=4  rank_K=4  dist_K=5  \\\n",
      "H2_2984    0    1    3    5  0.158866         3  0.096792         1  0.079258   \n",
      "H2_0140    0    1    3    5  0.193367         5  0.150414         5  0.110313   \n",
      "H2_1676    0    1    3    5  0.154689         1  0.123581         2  0.119956   \n",
      "\n",
      "         rank_K=5  dist_K=6  rank_K=6  \n",
      "H2_2984         1  0.079825         1  \n",
      "H2_0140         2  0.111868         2  \n",
      "H2_1676         3  0.123479         4  \n",
      "(2, 12)\n",
      "Sort rows by:  rank_K=5\n",
      "cluster = 4:  Shape of dk: (2, 12)\n",
      "         K=3  K=4  K=5  K=6  dist_K=3  rank_K=3  dist_K=4  rank_K=4  dist_K=5  \\\n",
      "H2_1543    0    0    4    4  2.484343        47  0.136913         1  0.136913   \n",
      "H2_2258    0    0    4    4  2.453037        46  0.136913         2  0.136913   \n",
      "\n",
      "         rank_K=5  dist_K=6  rank_K=6  \n",
      "H2_1543         1  0.136913         1  \n",
      "H2_2258         2  0.136913         2  \n"
     ]
    },
    {
     "name": "stderr",
     "output_type": "stream",
     "text": [
      "c:\\ProgramData\\Anaconda3\\lib\\site-packages\\xlsxwriter\\workbook.py:339: UserWarning: Calling close() on already closed file.\n",
      "  warn(\"Calling close() on already closed file.\")\n"
     ]
    },
    {
     "data": {
      "text/plain": [
       "0    503\n",
       "3     96\n",
       "2     16\n",
       "4      2\n",
       "Name: K=5, dtype: int64"
      ]
     },
     "execution_count": 100,
     "metadata": {},
     "output_type": "execute_result"
    }
   ],
   "source": [
    "nK=5\n",
    "df_K_dist, cluster_size_combined, cluster_means_combined, cluster_vars_combined = distance2center(df_H2, df_H2_clean_K, [3,4,5,6])\n",
    "write_df_sub2Excel(df_K_dist, '', nK, './/Results_H2//S617_Results//H2_S617_K='+str(nK)+'_v31_minmax_dist2center.xlsx')\n",
    "df_K_dist['K='+str(nK)].value_counts()"
   ]
  },
  {
   "cell_type": "code",
   "execution_count": 101,
   "metadata": {},
   "outputs": [
    {
     "data": {
      "text/plain": [
       "(617, 12)"
      ]
     },
     "execution_count": 101,
     "metadata": {},
     "output_type": "execute_result"
    }
   ],
   "source": [
    "df_K_dist.shape"
   ]
  },
  {
   "cell_type": "markdown",
   "metadata": {},
   "source": [
    "<div class=\"alert alert-block alert-info\"><b>Copy wav files to folders:</b> \n",
    "\n",
    "Create folders in order to copy the wav files into the folders depending on their cluster designation.\n",
    "<ul>\n",
    "<li>Create folders to save the wave file by clusters.</li>\n",
    "<li>Copoy the files to the appropriate folders.</li>\n",
    "</ul>\n",
    "</div>"
   ]
  },
  {
   "cell_type": "code",
   "execution_count": null,
   "metadata": {},
   "outputs": [],
   "source": [
    "import shutil\n",
    "import os\n",
    "k=5"
   ]
  },
  {
   "cell_type": "code",
   "execution_count": 111,
   "metadata": {},
   "outputs": [
    {
     "name": "stdout",
     "output_type": "stream",
     "text": [
      "         v31_minmax.K=3  v31_minmax.K=4  v31_minmax.K=5  v31_minmax.K=6  \\\n",
      "H1_0006             1.0             2.0             2.0             0.0   \n",
      "H1_0007             1.0             0.0             4.0             4.0   \n",
      "\n",
      "         v31_minmax.dist_K=3  v31_minmax.rank_K=3  v31_minmax.dist_K=4  \\\n",
      "H1_0006          2389.875133                249.0          2011.525267   \n",
      "H1_0007           436.157287                112.0            36.480057   \n",
      "\n",
      "         v31_minmax.rank_K=4  v31_minmax.dist_K=5  v31_minmax.rank_K=5  \\\n",
      "H1_0006                144.0          1947.159431                127.0   \n",
      "H1_0007                  5.0            36.343004                  5.0   \n",
      "\n",
      "         v31_minmax.dist_K=6  v31_minmax.rank_K=6  \n",
      "H1_0006          1581.015335                 68.0  \n",
      "H1_0007            37.977364                  3.0  \n",
      "(843, 12)\n"
     ]
    }
   ],
   "source": [
    "df_H1_S843 = db[\"H1_S843_clusters\"].find({},{'v31_minmax':1})\n",
    "df_H1_S843 = cursor_to_dataframe3(df_H1_S843,\"_id\")\n",
    "print(df_H1_S843.head(2))\n",
    "print(df_H1_S843.shape)"
   ]
  },
  {
   "cell_type": "code",
   "execution_count": 116,
   "metadata": {},
   "outputs": [],
   "source": [
    "destination_dir =\"D://H1_clean_clusters//\"\n",
    "## create k folders under destination_dir\n",
    "for i in range(k):\n",
    "    dir_out_wav = destination_dir+\"cluster_\"+str(i)+\"//\"\n",
    "    if not os.path.exists(dir_out_wav):\n",
    "        os.makedirs(dir_out_wav)\n",
    "        \n",
    "## copy the wav files to the corresponding cluster folders\n",
    "for s in df_H1_S843.index:\n",
    "    file_wav = s+\".wav\"\n",
    "    f=int(df_H1_S843.loc[s,'v31_minmax.K='+str(k)])\n",
    "    dir_out_wav = destination_dir+\"cluster_\"+str(f)+\"//\"\n",
    "    shutil.copy(wav_source_dir+file_wav, dir_out_wav)"
   ]
  },
  {
   "cell_type": "code",
   "execution_count": 104,
   "metadata": {},
   "outputs": [],
   "source": [
    "destination_dir =\"D://H2_clean_clusters//\"\n",
    "## create k folders under destination_dir\n",
    "for i in range(k):\n",
    "    dir_out_wav = destination_dir+\"cluster_\"+str(i)+\"//\"\n",
    "    if not os.path.exists(dir_out_wav):\n",
    "        os.makedirs(dir_out_wav)\n",
    "        \n",
    "## copy the wav files to the corresponding cluster folders\n",
    "for s in df_K_dist.index:\n",
    "    file_wav = s+\".wav\"\n",
    "    f=int(df_K_dist.loc[s,'K='+str(k)])\n",
    "    dir_out_wav = destination_dir+\"cluster_\"+str(f)+\"//\"\n",
    "    shutil.copy(wav_source_dir+file_wav, dir_out_wav)"
   ]
  },
  {
   "cell_type": "markdown",
   "metadata": {},
   "source": [
    "<div class=\"alert alert-block alert-info\"><b>Store the clustering result to a MongoDB collection:</b> \n",
    "\n",
    "Currently, the classification and clustering are both based on v31_minmax.  However, we can also do the same based on IOA ratings, and a combination of v31_minmax and IOA rating.\n",
    "</div>"
   ]
  },
  {
   "cell_type": "code",
   "execution_count": 50,
   "metadata": {},
   "outputs": [
    {
     "data": {
      "text/html": [
       "<div>\n",
       "<style scoped>\n",
       "    .dataframe tbody tr th:only-of-type {\n",
       "        vertical-align: middle;\n",
       "    }\n",
       "\n",
       "    .dataframe tbody tr th {\n",
       "        vertical-align: top;\n",
       "    }\n",
       "\n",
       "    .dataframe thead th {\n",
       "        text-align: right;\n",
       "    }\n",
       "</style>\n",
       "<table border=\"1\" class=\"dataframe\">\n",
       "  <thead>\n",
       "    <tr style=\"text-align: right;\">\n",
       "      <th></th>\n",
       "      <th>K=3</th>\n",
       "      <th>K=4</th>\n",
       "      <th>K=5</th>\n",
       "      <th>K=6</th>\n",
       "      <th>dist_K=3</th>\n",
       "      <th>rank_K=3</th>\n",
       "      <th>dist_K=4</th>\n",
       "      <th>rank_K=4</th>\n",
       "      <th>dist_K=5</th>\n",
       "      <th>rank_K=5</th>\n",
       "      <th>dist_K=6</th>\n",
       "      <th>rank_K=6</th>\n",
       "    </tr>\n",
       "  </thead>\n",
       "  <tbody>\n",
       "    <tr>\n",
       "      <th>H2_0005</th>\n",
       "      <td>2</td>\n",
       "      <td>3</td>\n",
       "      <td>3</td>\n",
       "      <td>5</td>\n",
       "      <td>0.427372</td>\n",
       "      <td>410</td>\n",
       "      <td>0.427520</td>\n",
       "      <td>414</td>\n",
       "      <td>0.349887</td>\n",
       "      <td>80</td>\n",
       "      <td>0.346729</td>\n",
       "      <td>81</td>\n",
       "    </tr>\n",
       "    <tr>\n",
       "      <th>H2_0007</th>\n",
       "      <td>2</td>\n",
       "      <td>3</td>\n",
       "      <td>0</td>\n",
       "      <td>1</td>\n",
       "      <td>0.553232</td>\n",
       "      <td>495</td>\n",
       "      <td>0.553236</td>\n",
       "      <td>497</td>\n",
       "      <td>0.539065</td>\n",
       "      <td>444</td>\n",
       "      <td>0.538680</td>\n",
       "      <td>437</td>\n",
       "    </tr>\n",
       "  </tbody>\n",
       "</table>\n",
       "</div>"
      ],
      "text/plain": [
       "         K=3  K=4  K=5  K=6  dist_K=3  rank_K=3  dist_K=4  rank_K=4  dist_K=5  \\\n",
       "H2_0005    2    3    3    5  0.427372       410  0.427520       414  0.349887   \n",
       "H2_0007    2    3    0    1  0.553232       495  0.553236       497  0.539065   \n",
       "\n",
       "         rank_K=5  dist_K=6  rank_K=6  \n",
       "H2_0005        80  0.346729        81  \n",
       "H2_0007       444  0.538680       437  "
      ]
     },
     "execution_count": 50,
     "metadata": {},
     "output_type": "execute_result"
    }
   ],
   "source": [
    "df_K_dist.head(2)"
   ]
  },
  {
   "cell_type": "code",
   "execution_count": 46,
   "metadata": {},
   "outputs": [
    {
     "name": "stdout",
     "output_type": "stream",
     "text": [
      "Collection, H2_S617_clusters, doesn't exist\n"
     ]
    }
   ],
   "source": [
    "coll_res_cluster = 'H2_S617_clusters'\n",
    "try:\n",
    "    db.validate_collection(coll_res_cluster)  # Try to validate a collection   \n",
    "    db[coll_res_cluster].drop()\n",
    "    print(f\"Collection (table), {coll_res_cluster}, dropped\")\n",
    "except pymongo.errors.OperationFailure:  # If the collection doesn't exist\n",
    "        print(f\"Collection, {coll_res_cluster}, doesn't exist\") \n",
    "     \n",
    "coll_res_cluster = db[coll_res_cluster]"
   ]
  },
  {
   "cell_type": "code",
   "execution_count": 68,
   "metadata": {},
   "outputs": [
    {
     "name": "stdout",
     "output_type": "stream",
     "text": [
      "Index(['K=3', 'K=4', 'K=5', 'K=6', 'dist_K=3', 'rank_K=3', 'dist_K=4',\n",
      "       'rank_K=4', 'dist_K=5', 'rank_K=5', 'dist_K=6', 'rank_K=6'],\n",
      "      dtype='object')\n",
      "<class 'numpy.int32'>\n",
      "         K=3  K=4  K=5  K=6  dist_K=3  rank_K=3  dist_K=4  rank_K=4  dist_K=5  \\\n",
      "H2_0005    2    3    3    5  0.427372       410  0.427520       414  0.349887   \n",
      "H2_0007    2    3    0    1  0.553232       495  0.553236       497  0.539065   \n",
      "H2_0016    2    3    0    1  0.429095       413  0.433343       422  0.436759   \n",
      "\n",
      "         rank_K=5  dist_K=6  rank_K=6  \n",
      "H2_0005        80  0.346729        81  \n",
      "H2_0007       444  0.538680       437  \n",
      "H2_0016       375  0.436081       374  \n",
      "a type:  <class 'int'>\n"
     ]
    }
   ],
   "source": [
    "columns=df_K_dist.columns\n",
    "print(columns)\n",
    "### change columns with numpy.int32 in df_K_dist to a regular int\n",
    "for col in ['K=3', 'K=4', 'K=5', 'K=6']:\n",
    "    # replace value with int\n",
    "    x = df_K_dist[col].astype(int)\n",
    "\n",
    "print(type(x[0]))\n",
    "print(df_K_dist.head(3))\n",
    "a=5\n",
    "print(\"a type: \",type(a))\n",
    "\n",
    "for idx in df_K_dist.index:\n",
    "    row = dict()\n",
    "    row['_id']=idx\n",
    "    row['v_31_minmax']=dict()\n",
    "    for col in columns:\n",
    "        if type(df_K_dist.loc[idx,col])==np.int32:\n",
    "            row['v_31_minmax'][col]=int(df_K_dist.loc[idx,col])\n",
    "        else:\n",
    "            row['v_31_minmax'][col]=df_K_dist.loc[idx,col]\n",
    "    #print(row) \n",
    "    coll_res_cluster.insert_one(row)"
   ]
  }
 ],
 "metadata": {
  "kernelspec": {
   "display_name": "Python 3 (ipykernel)",
   "language": "python",
   "name": "python3"
  },
  "language_info": {
   "codemirror_mode": {
    "name": "ipython",
    "version": 3
   },
   "file_extension": ".py",
   "mimetype": "text/x-python",
   "name": "python",
   "nbconvert_exporter": "python",
   "pygments_lexer": "ipython3",
   "version": "3.9.13"
  }
 },
 "nbformat": 4,
 "nbformat_minor": 2
}
